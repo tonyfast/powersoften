{
 "cells": [
  {
   "cell_type": "markdown",
   "metadata": {
    "slideshow": {
     "slide_type": "slide"
    }
   },
   "source": [
    "# A presentation of the Powers Of_ten_ for PyData Triangle\n",
    "\n",
    "November 1, 2017\n",
    "\n",
    "The Nick and Tony Show"
   ]
  },
  {
   "cell_type": "code",
   "execution_count": 1,
   "metadata": {
    "slideshow": {
     "slide_type": "-"
    }
   },
   "outputs": [
    {
     "data": {
      "text/html": [
       "<style>\n",
       "    iframe {\n",
       "        width: 100%;\n",
       "        min-height: 80vh;\n",
       "        max-height: 1000px;\n",
       "    }\n",
       "</style>"
      ],
      "text/plain": [
       "<IPython.core.display.HTML object>"
      ]
     },
     "metadata": {},
     "output_type": "display_data"
    },
    {
     "data": {
      "text/html": [
       "<style>\n",
       "body.rise-hack-active div.reveal .code_cell .input,\n",
       "body.rise-hack-active div.reveal .output_stderr {\n",
       "    display: none;\n",
       "}\n",
       "button.rise-hack:hover {\n",
       "    opacity: 0.7;\n",
       "}\n",
       "button.rise-hack {\n",
       "    font-weight: bold;\n",
       "}\n",
       "body.rise-hack-active button.rise-hack {\n",
       "    text-decoration: line-through;\n",
       "}\n",
       "body.rise-hack-active .reveal .rendered_html table {\n",
       "    font-size: 16px;\n",
       "}\n",
       "body.rise-hack-active .reveal .prompt {\n",
       "    display: none;\n",
       "}\n",
       "</style>"
      ],
      "text/plain": [
       "<IPython.core.display.HTML object>"
      ]
     },
     "metadata": {},
     "output_type": "display_data"
    },
    {
     "data": {
      "application/javascript": [
       ";(function(){\n",
       "    function init() {\n",
       "        $(\"button.rise-hack\").remove();\n",
       "        $(\"body\").addClass(\"rise-hack-active\");\n",
       "        var btn = $(\"<button/>\", {\"class\": \"rise-hack\"}).text(\"</>\");\n",
       "        btn.bind(\"click\", function(){\n",
       "            $(\"body\").toggleClass(\"rise-hack-active\");\n",
       "            Reveal.layout();\n",
       "        });\n",
       "        $(\".controls\").append(btn);\n",
       "    }\n",
       "\n",
       "    function subscribe(){\n",
       "        if(!window.Reveal){\n",
       "            return setTimeout(subscribe, 1000);\n",
       "        }\n",
       "        Reveal.addEventListener('ready', init);\n",
       "        init();\n",
       "    }\n",
       "    subscribe();\n",
       "}).call(this);"
      ],
      "text/plain": [
       "<IPython.core.display.Javascript object>"
      ]
     },
     "metadata": {},
     "output_type": "display_data"
    }
   ],
   "source": [
    "    from IPython.display import *\n",
    "    from pydata.style import *\n",
    "    %load_ext literacy.template\n",
    "    from nbformat.v4 import *; from pathlib import Path; from nbformat import *"
   ]
  },
  {
   "cell_type": "code",
   "execution_count": 2,
   "metadata": {
    "slideshow": {
     "slide_type": "fragment"
    }
   },
   "outputs": [
    {
     "data": {
      "text/markdown": [
       "## RIPx Media\n",
       "\n",
       "## Remote\n",
       "\n",
       "* [Github](https://github.com/tonyfast/powersoften) useful static interative versions of notebooks\n",
       "* [Nbviewer](http://nbviewer.jupyter.org/format/slides/github/tonyfast/powersoften/blob/gh-pages/pydata/index.ipynb#/) provides interative versions of static notebooks.  `assert \\`ing `Javascript and IFrame`s still work \n",
       "* [Travis](https://travis-ci.org/tonyfast/powersoften) builds our docs ...\n",
       "* ... on [Github Pages](https://tonyfast.github.io/powersoften/#/)\n",
       "* [Binder](#)\n",
       "* [Raw Git](https://cdn.rawgit.com/tonyfast/powersoften/gh-pages/pydata/index.html)\n",
       "\n",
       "## Local\n",
       "\n",
       "* [localhost](localhost:8888/files/powersoften/pydata/index.html)\n",
       "* [file system](localhost:8888/files/powersoften/pydata/index.html)"
      ],
      "text/plain": [
       "<IPython.core.display.Markdown object>"
      ]
     },
     "metadata": {},
     "output_type": "display_data"
    }
   ],
   "source": [
    "## RIPx Media\n",
    "\n",
    "## Remote\n",
    "\n",
    "* [Github](https://github.com/tonyfast/powersoften) useful static interative versions of notebooks\n",
    "* [Nbviewer](http://nbviewer.jupyter.org/format/slides/github/tonyfast/powersoften/blob/gh-pages/pydata/index.ipynb#/) provides interative versions of static notebooks.  `assert \\`ing `Javascript and IFrame`s still work \n",
    "* [Travis](https://travis-ci.org/tonyfast/powersoften) builds our docs ...\n",
    "* ... on [Github Pages](https://tonyfast.github.io/powersoften/#/)\n",
    "* [Binder](#)\n",
    "* [Raw Git](https://cdn.rawgit.com/tonyfast/powersoften/gh-pages/pydata/index.html)\n",
    "\n",
    "## Local\n",
    "\n",
    "* [localhost](localhost:{{8888}}/files/powersoften/pydata/index.html)\n",
    "* [file system](localhost:{{8888}}/files/powersoften/pydata/index.html)"
   ]
  },
  {
   "cell_type": "code",
   "execution_count": 3,
   "metadata": {
    "slideshow": {
     "slide_type": "slide"
    }
   },
   "outputs": [
    {
     "data": {
      "text/markdown": [
       "# Topics\n",
       "\n",
       "The major `topics = 'intro, design, systems, materials, community, media, culture'.\\`  \n",
       "\n",
       "        \n",
       "        replace(' ','').split(',')"
      ],
      "text/plain": [
       "<IPython.core.display.Markdown object>"
      ]
     },
     "metadata": {},
     "output_type": "display_data"
    }
   ],
   "source": [
    "# Topics\n",
    "\n",
    "The major `topics = 'intro, design, systems, materials, community, media, culture'.\\`  \n",
    "\n",
    "        \n",
    "        replace(' ','').split(',')"
   ]
  },
  {
   "cell_type": "code",
   "execution_count": 3,
   "metadata": {
    "slideshow": {
     "slide_type": "slide"
    }
   },
   "outputs": [
    {
     "data": {
      "text/markdown": [
       "## Notebooks\n",
       "\n",
       "* [pydata/intro.ipynb](pydata/intro.ipynb \"intro\")\n",
       "* [pydata/design.ipynb](pydata/design.ipynb \"design\")\n",
       "* [pydata/systems.ipynb](pydata/systems.ipynb \"systems\")\n",
       "* [pydata/materials.ipynb](pydata/materials.ipynb \"materials\")\n",
       "* [pydata/community.ipynb](pydata/community.ipynb \"community\")\n",
       "* [pydata/media.ipynb](pydata/media.ipynb \"media\")\n",
       "* [pydata/culture.ipynb](pydata/culture.ipynb \"culture\")\n"
      ],
      "text/plain": [
       "<IPython.core.display.Markdown object>"
      ]
     },
     "metadata": {},
     "output_type": "display_data"
    }
   ],
   "source": [
    "## Notebooks\n",
    "\n",
    "{% for topic in topics %}* [pydata/{{topic}}.ipynb](pydata/{{topic}}.ipynb \"{{topic}}\")\n",
    "{% endfor %}"
   ]
  },
  {
   "cell_type": "code",
   "execution_count": 3,
   "metadata": {
    "slideshow": {
     "slide_type": "slide"
    }
   },
   "outputs": [
    {
     "data": {
      "text/markdown": [
       "## Slides\n",
       "\n",
       "* [pydata/intro.slides.html](pydata/intro.slides.html \"intro\")\n",
       "* [pydata/design.slides.html](pydata/design.slides.html \"design\")\n",
       "* [pydata/systems.slides.html](pydata/systems.slides.html \"systems\")\n",
       "* [pydata/materials.slides.html](pydata/materials.slides.html \"materials\")\n",
       "* [pydata/community.slides.html](pydata/community.slides.html \"community\")\n",
       "* [pydata/media.slides.html](pydata/media.slides.html \"media\")\n",
       "* [pydata/culture.slides.html](pydata/culture.slides.html \"culture\")\n"
      ],
      "text/plain": [
       "<IPython.core.display.Markdown object>"
      ]
     },
     "metadata": {},
     "output_type": "display_data"
    }
   ],
   "source": [
    "## Slides\n",
    "\n",
    "{% for topic in topics %}* [pydata/{{topic}}.slides.html](pydata/{{topic}}.slides.html \"{{topic}}\")\n",
    "{% endfor %}"
   ]
  },
  {
   "cell_type": "code",
   "execution_count": 3,
   "metadata": {},
   "outputs": [
    {
     "data": {
      "text/markdown": [
       "## Building the Presentation\n",
       "\n",
       "[![Build Status](https://travis-ci.org/tonyfast/powersoften.svg?branch=master)](https://travis-ci.org/tonyfast/powersoften)"
      ],
      "text/plain": [
       "<IPython.core.display.Markdown object>"
      ]
     },
     "metadata": {},
     "output_type": "display_data"
    }
   ],
   "source": [
    "## Building the Presentation\n",
    "\n",
    "[![Build Status](https://travis-ci.org/tonyfast/powersoften.svg?branch=master)](https://travis-ci.org/tonyfast/powersoften)"
   ]
  },
  {
   "cell_type": "code",
   "execution_count": 4,
   "metadata": {},
   "outputs": [
    {
     "data": {
      "text/markdown": [
       "    %%file rise.py\n",
       "    c.SlidesExporter.reveal_url_prefix=\"https://cdn.jsdelivr.net/npm/reveal.js@3.5.0\""
      ],
      "text/plain": [
       "<IPython.core.display.Markdown object>"
      ]
     },
     "metadata": {},
     "output_type": "display_data"
    },
    {
     "name": "stdout",
     "output_type": "stream",
     "text": [
      "Overwriting rise.py\n"
     ]
    }
   ],
   "source": [
    "    %%file rise.py\n",
    "    c.SlidesExporter.reveal_url_prefix=\"https://cdn.jsdelivr.net/npm/reveal.js@3.5.0\""
   ]
  },
  {
   "cell_type": "code",
   "execution_count": 5,
   "metadata": {},
   "outputs": [
    {
     "data": {
      "text/markdown": [
       "## Convert individual notebooks\n",
       "\n",
       "    %%bash\n",
       "    pushd pydata\n",
       "    jupyter nbconvert --to slides --config rise.py  intro.ipynb \n",
       "    jupyter nbconvert --to slides --config rise.py  design.ipynb \n",
       "    jupyter nbconvert --to slides --config rise.py  systems.ipynb \n",
       "    jupyter nbconvert --to slides --config rise.py  materials.ipynb \n",
       "    jupyter nbconvert --to slides --config rise.py  community.ipynb \n",
       "    jupyter nbconvert --to slides --config rise.py  media.ipynb \n",
       "    jupyter nbconvert --to slides --config rise.py  culture.ipynb\n",
       "    popd"
      ],
      "text/plain": [
       "<IPython.core.display.Markdown object>"
      ]
     },
     "metadata": {},
     "output_type": "display_data"
    },
    {
     "name": "stdout",
     "output_type": "stream",
     "text": [
      "~/powersoften/pydata ~/powersoften\n",
      "~/powersoften\n"
     ]
    },
    {
     "name": "stderr",
     "output_type": "stream",
     "text": [
      "[NbConvertApp] Converting notebook intro.ipynb to slides\n",
      "[NbConvertApp] Writing 271115 bytes to intro.slides.html\n",
      "[NbConvertApp] Converting notebook design.ipynb to slides\n",
      "[NbConvertApp] Writing 326045 bytes to design.slides.html\n",
      "[NbConvertApp] Converting notebook systems.ipynb to slides\n",
      "[NbConvertApp] Writing 293983 bytes to systems.slides.html\n",
      "[NbConvertApp] Converting notebook materials.ipynb to slides\n",
      "[NbConvertApp] Writing 1461536 bytes to materials.slides.html\n",
      "[NbConvertApp] Converting notebook community.ipynb to slides\n",
      "[NbConvertApp] Writing 347377 bytes to community.slides.html\n",
      "[NbConvertApp] Converting notebook media.ipynb to slides\n",
      "[NbConvertApp] Writing 443710 bytes to media.slides.html\n",
      "[NbConvertApp] Converting notebook culture.ipynb to slides\n",
      "[NbConvertApp] Writing 281697 bytes to culture.slides.html\n"
     ]
    }
   ],
   "source": [
    "## Convert individual notebooks\n",
    "\n",
    "    %%bash\n",
    "    pushd pydata\n",
    "    jupyter nbconvert --to slides --config rise.py  intro.ipynb \n",
    "    jupyter nbconvert --to slides --config rise.py  design.ipynb \n",
    "    jupyter nbconvert --to slides --config rise.py  systems.ipynb \n",
    "    jupyter nbconvert --to slides --config rise.py  materials.ipynb \n",
    "    jupyter nbconvert --to slides --config rise.py  community.ipynb \n",
    "    jupyter nbconvert --to slides --config rise.py  media.ipynb \n",
    "    jupyter nbconvert --to slides --config rise.py  culture.ipynb\n",
    "    popd"
   ]
  },
  {
   "cell_type": "code",
   "execution_count": 6,
   "metadata": {
    "scrolled": false,
    "slideshow": {
     "slide_type": "slide"
    }
   },
   "outputs": [
    {
     "data": {
      "text/markdown": [
       "## Create a master notebook.\n",
       "    \n",
       "    nb = new_notebook()    \n",
       "    for topic in topics:\n",
       "        topic = 'pydata' / Path(topic)\n",
       "        cells = reads(topic.with_suffix('.ipynb').read_text(), 4).cells\n",
       "        for i, cell in enumerate(cells):\n",
       "            if 'slideshow' in cell['metadata'] and cell['metadata']['slideshow']['slide_type'] != 'skip':\n",
       "                if i>0 and cell['cell_type'] == 'code' and cell['metadata']['slideshow']['slide_type'] =='slide': \n",
       "                    cell['metadata']['slideshow']['slide_type'] = 'subslide'\n",
       "                nb.cells.append(cell)\n",
       "    nb.cells.append(new_code_cell(\"import style\", outputs=[new_output('display_data', {**{\n",
       "        'text/html': [_] for _ in [css, rise_src_css]\n",
       "    }, **{'application/javascript': rise_src_js}})]))\n",
       "    (topic.parent / Path('index.ipynb')).write_text(writes(nb))\n",
       "    !jupyter trust pydata/index.ipynb\n",
       "    !jupyter nbconvert --to slides --config rise.py pydata/index.ipynb "
      ],
      "text/plain": [
       "<IPython.core.display.Markdown object>"
      ]
     },
     "metadata": {},
     "output_type": "display_data"
    },
    {
     "name": "stdout",
     "output_type": "stream",
     "text": [
      "Signing notebook: pydata/index.ipynb\n",
      "[NbConvertApp] Converting notebook pydata/index.ipynb to slides\n",
      "[NbConvertApp] Writing 1840849 bytes to pydata/index.slides.html\n"
     ]
    }
   ],
   "source": [
    "## Create a master notebook.\n",
    "    \n",
    "    nb = new_notebook()    \n",
    "    for topic in topics:\n",
    "        topic = 'pydata' / Path(topic)\n",
    "        cells = reads(topic.with_suffix('.ipynb').read_text(), 4).cells\n",
    "        for i, cell in enumerate(cells):\n",
    "            if 'slideshow' in cell['metadata'] and cell['metadata']['slideshow']['slide_type'] != 'skip':\n",
    "                if i>0 and cell['cell_type'] == 'code' and cell['metadata']['slideshow']['slide_type'] =='slide': \n",
    "                    cell['metadata']['slideshow']['slide_type'] = 'subslide'\n",
    "                nb.cells.append(cell)\n",
    "    nb.cells.append(new_code_cell(\"import style\", outputs=[new_output('display_data', {**{\n",
    "        'text/html': [_] for _ in [css, rise_src_css]\n",
    "    }, **{'application/javascript': rise_src_js}})]))\n",
    "    (topic.parent / Path('index.ipynb')).write_text(writes(nb))\n",
    "    !jupyter trust pydata/index.ipynb\n",
    "    !jupyter nbconvert --to slides --config rise.py pydata/index.ipynb \n",
    "    !cp pydata/index.slides.html pydata/index.html"
   ]
  },
  {
   "cell_type": "code",
   "execution_count": 7,
   "metadata": {},
   "outputs": [
    {
     "data": {
      "text/markdown": [
       "    !jupyter nbconvert --to markdown --TemplateExporter.exclude_input=True readme.ipynb"
      ],
      "text/plain": [
       "<IPython.core.display.Markdown object>"
      ]
     },
     "metadata": {},
     "output_type": "display_data"
    },
    {
     "name": "stdout",
     "output_type": "stream",
     "text": [
      "[NbConvertApp] Converting notebook readme.ipynb to markdown\n",
      "[NbConvertApp] Writing 5335 bytes to readme.md\n"
     ]
    }
   ],
   "source": [
    "    !jupyter nbconvert --to markdown --TemplateExporter.exclude_input=True readme.ipynb"
   ]
  },
  {
   "cell_type": "code",
   "execution_count": null,
   "metadata": {
    "collapsed": true
   },
   "outputs": [],
   "source": []
  }
 ],
 "metadata": {
  "celltoolbar": "Slideshow",
  "kernelspec": {
   "display_name": "Python 3",
   "language": "python",
   "name": "python3"
  },
  "language_info": {
   "codemirror_mode": {
    "name": "ipython",
    "version": 3
   },
   "file_extension": ".py",
   "mimetype": "text/x-python",
   "name": "python",
   "nbconvert_exporter": "python",
   "pygments_lexer": "ipython3",
   "version": "3.5.3"
  }
 },
 "nbformat": 4,
 "nbformat_minor": 2
}
