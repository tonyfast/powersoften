{
 "cells": [
  {
   "cell_type": "code",
   "execution_count": 2,
   "metadata": {},
   "outputs": [],
   "source": [
    "    %load_ext literacy"
   ]
  },
  {
   "cell_type": "markdown",
   "metadata": {},
   "source": [
    "* Communities have rules\n",
    "* Communities play games\n",
    "* Communities share resources\n",
    "* Communities affect each other"
   ]
  },
  {
   "cell_type": "code",
   "execution_count": null,
   "metadata": {},
   "outputs": [],
   "source": [
    "# Hunter Gatherer "
   ]
  },
  {
   "cell_type": "code",
   "execution_count": 5,
   "metadata": {},
   "outputs": [
    {
     "data": {
      "text/markdown": [
       "    from IPython import display"
      ],
      "text/plain": [
       "<IPython.core.display.Markdown object>"
      ]
     },
     "metadata": {},
     "output_type": "display_data"
    }
   ],
   "source": [
    "    from IPython import display"
   ]
  },
  {
   "cell_type": "code",
   "execution_count": 10,
   "metadata": {},
   "outputs": [
    {
     "data": {
      "text/html": [
       "\n",
       "        <iframe\n",
       "            width=\"600\"\n",
       "            height=\"400\"\n",
       "            src=\"http://www.des.ucdavis.edu/faculty/Richerson/BooksOnline/He3-95.pdf\"\n",
       "            frameborder=\"0\"\n",
       "            allowfullscreen\n",
       "        ></iframe>\n",
       "        "
      ],
      "text/plain": [
       "<IPython.lib.display.IFrame at 0x10fbbc198>"
      ]
     },
     "metadata": {},
     "output_type": "display_data"
    }
   ],
   "source": [
    "http://www.des.ucdavis.edu/faculty/Richerson/BooksOnline/He3-95.pdf"
   ]
  },
  {
   "cell_type": "code",
   "execution_count": 14,
   "metadata": {},
   "outputs": [
    {
     "data": {
      "text/markdown": [
       "# [Pyramids](https://en.m.wikipedia.org/wiki/Great_Pyramid_of_Giza -2580/-2560)"
      ],
      "text/plain": [
       "<IPython.core.display.Markdown object>"
      ]
     },
     "metadata": {},
     "output_type": "display_data"
    }
   ],
   "source": [
    "# [Pyramids](https://en.m.wikipedia.org/wiki/Great_Pyramid_of_Giza -2580/-2560)"
   ]
  },
  {
   "cell_type": "code",
   "execution_count": 14,
   "metadata": {},
   "outputs": [
    {
     "data": {
      "text/html": [
       "\n",
       "        <iframe\n",
       "            width=\"600\"\n",
       "            height=\"400\"\n",
       "            src=\"https://en.m.wikipedia.org/wiki/Great_Pyramid_of_Giza#Construction_theories\"\n",
       "            frameborder=\"0\"\n",
       "            allowfullscreen\n",
       "        ></iframe>\n",
       "        "
      ],
      "text/plain": [
       "<IPython.lib.display.IFrame at 0x1118ec780>"
      ]
     },
     "metadata": {},
     "output_type": "display_data"
    }
   ],
   "source": [
    "https://en.m.wikipedia.org/wiki/Great_Pyramid_of_Giza#Construction_theories"
   ]
  },
  {
   "cell_type": "code",
   "execution_count": 14,
   "metadata": {},
   "outputs": [
    {
     "data": {
      "text/markdown": [
       "# [_The Semicircle_ Of Pythagoras](https://en.m.wikipedia.org/wiki/Pythagoras -0522)"
      ],
      "text/plain": [
       "<IPython.core.display.Markdown object>"
      ]
     },
     "metadata": {},
     "output_type": "display_data"
    }
   ],
   "source": [
    "# [_The Semicircle_ Of Pythagoras](https://en.m.wikipedia.org/wiki/Pythagoras -522)"
   ]
  },
  {
   "cell_type": "code",
   "execution_count": 10,
   "metadata": {},
   "outputs": [
    {
     "data": {
      "text/html": [
       "\n",
       "        <iframe\n",
       "            width=\"600\"\n",
       "            height=\"400\"\n",
       "            src=\"https://en.m.wikipedia.org/wiki/Pythagoras\"\n",
       "            frameborder=\"0\"\n",
       "            allowfullscreen\n",
       "        ></iframe>\n",
       "        "
      ],
      "text/plain": [
       "<IPython.lib.display.IFrame at 0x10ea38978>"
      ]
     },
     "metadata": {},
     "output_type": "display_data"
    }
   ],
   "source": [
    "https://en.m.wikipedia.org/wiki/Pythagoras"
   ]
  },
  {
   "cell_type": "code",
   "execution_count": 10,
   "metadata": {},
   "outputs": [
    {
     "data": {
      "text/markdown": [
       "# [Bauhaus](https://en.m.wikipedia.org/wiki/Bauhaus 1919)"
      ],
      "text/plain": [
       "<IPython.core.display.Markdown object>"
      ]
     },
     "metadata": {},
     "output_type": "display_data"
    }
   ],
   "source": [
    "# [Bauhaus](https://en.m.wikipedia.org/wiki/Bauhaus 1919)"
   ]
  },
  {
   "cell_type": "code",
   "execution_count": 10,
   "metadata": {},
   "outputs": [
    {
     "data": {
      "text/html": [
       "\n",
       "        <iframe\n",
       "            width=\"600\"\n",
       "            height=\"400\"\n",
       "            src=\"https://en.m.wikipedia.org/wiki/Bauhaus\"\n",
       "            frameborder=\"0\"\n",
       "            allowfullscreen\n",
       "        ></iframe>\n",
       "        "
      ],
      "text/plain": [
       "<IPython.lib.display.IFrame at 0x10ed122e8>"
      ]
     },
     "metadata": {},
     "output_type": "display_data"
    }
   ],
   "source": [
    "https://en.m.wikipedia.org/wiki/Bauhaus"
   ]
  },
  {
   "cell_type": "code",
   "execution_count": 10,
   "metadata": {},
   "outputs": [
    {
     "data": {
      "text/markdown": [
       "# [Royal Society](https://en.wikipedia.org/wiki/Royal_Society 1660)"
      ],
      "text/plain": [
       "<IPython.core.display.Markdown object>"
      ]
     },
     "metadata": {},
     "output_type": "display_data"
    }
   ],
   "source": [
    "# [Royal Society](https://en.wikipedia.org/wiki/Royal_Society 1660)"
   ]
  },
  {
   "cell_type": "code",
   "execution_count": 10,
   "metadata": {},
   "outputs": [
    {
     "data": {
      "text/html": [
       "\n",
       "        <iframe\n",
       "            width=\"600\"\n",
       "            height=\"400\"\n",
       "            src=\"https://en.m.wikipedia.org/wiki/Royal_Society\"\n",
       "            frameborder=\"0\"\n",
       "            allowfullscreen\n",
       "        ></iframe>\n",
       "        "
      ],
      "text/plain": [
       "<IPython.lib.display.IFrame at 0x10ed122e8>"
      ]
     },
     "metadata": {},
     "output_type": "display_data"
    }
   ],
   "source": [
    "https://en.m.wikipedia.org/wiki/Royal_Society"
   ]
  },
  {
   "cell_type": "code",
   "execution_count": 10,
   "metadata": {},
   "outputs": [
    {
     "data": {
      "text/markdown": [
       "# [The Manhattan Project](https://en.m.wikipedia.org/wiki/Manhattan_Project)"
      ],
      "text/plain": [
       "<IPython.core.display.Markdown object>"
      ]
     },
     "metadata": {},
     "output_type": "display_data"
    }
   ],
   "source": [
    "# [The Manhattan Project](https://en.m.wikipedia.org/wiki/Manhattan_Project)"
   ]
  },
  {
   "cell_type": "code",
   "execution_count": 10,
   "metadata": {},
   "outputs": [
    {
     "data": {
      "text/html": [
       "\n",
       "        <iframe\n",
       "            width=\"600\"\n",
       "            height=\"400\"\n",
       "            src=\"https://en.m.wikipedia.org/wiki/Manhattan_Project\"\n",
       "            frameborder=\"0\"\n",
       "            allowfullscreen\n",
       "        ></iframe>\n",
       "        "
      ],
      "text/plain": [
       "<IPython.lib.display.IFrame at 0x10f9593c8>"
      ]
     },
     "metadata": {},
     "output_type": "display_data"
    }
   ],
   "source": [
    "https://en.m.wikipedia.org/wiki/Manhattan_Project"
   ]
  },
  {
   "cell_type": "code",
   "execution_count": 10,
   "metadata": {},
   "outputs": [
    {
     "data": {
      "text/markdown": [
       "# [Apollo 11]()"
      ],
      "text/plain": [
       "<IPython.core.display.Markdown object>"
      ]
     },
     "metadata": {},
     "output_type": "display_data"
    }
   ],
   "source": [
    "# [Apollo 11]()"
   ]
  },
  {
   "cell_type": "code",
   "execution_count": 10,
   "metadata": {},
   "outputs": [
    {
     "data": {
      "text/html": [
       "\n",
       "        <iframe\n",
       "            width=\"600\"\n",
       "            height=\"400\"\n",
       "            src=\"https://en.m.wikipedia.org/wiki/Apollo_11\"\n",
       "            frameborder=\"0\"\n",
       "            allowfullscreen\n",
       "        ></iframe>\n",
       "        "
      ],
      "text/plain": [
       "<IPython.lib.display.IFrame at 0x10f9593c8>"
      ]
     },
     "metadata": {},
     "output_type": "display_data"
    }
   ],
   "source": [
    "https://en.m.wikipedia.org/wiki/Apollo_11"
   ]
  },
  {
   "cell_type": "code",
   "execution_count": 10,
   "metadata": {},
   "outputs": [
    {
     "data": {
      "text/markdown": [
       "<iframe src=\"https://player.vimeo.com/video/28199826\" width=\"640\" height=\"480\" frameborder=\"0\" webkitallowfullscreen mozallowfullscreen allowfullscreen></iframe>"
      ],
      "text/plain": [
       "<IPython.core.display.Markdown object>"
      ]
     },
     "metadata": {},
     "output_type": "display_data"
    }
   ],
   "source": [
    "<iframe src=\"https://player.vimeo.com/video/28199826\" width=\"640\" height=\"480\" frameborder=\"0\" webkitallowfullscreen mozallowfullscreen allowfullscreen></iframe>"
   ]
  },
  {
   "cell_type": "code",
   "execution_count": 14,
   "metadata": {},
   "outputs": [
    {
     "data": {
      "text/markdown": [
       "# Xerox PARC\n",
       "\n",
       "* Mother of Demos"
      ],
      "text/plain": [
       "<IPython.core.display.Markdown object>"
      ]
     },
     "metadata": {},
     "output_type": "display_data"
    }
   ],
   "source": [
    "# Xerox PARC\n",
    "\n",
    "* Mother of Demos"
   ]
  },
  {
   "cell_type": "code",
   "execution_count": 14,
   "metadata": {},
   "outputs": [
    {
     "data": {
      "text/html": [
       "\n",
       "        <iframe\n",
       "            width=\"600\"\n",
       "            height=\"400\"\n",
       "            src=\"https://en.m.wikipedia.org/wiki/Xerox_PARC#Accomplishments\"\n",
       "            frameborder=\"0\"\n",
       "            allowfullscreen\n",
       "        ></iframe>\n",
       "        "
      ],
      "text/plain": [
       "<IPython.lib.display.IFrame at 0x111911c50>"
      ]
     },
     "metadata": {},
     "output_type": "display_data"
    }
   ],
   "source": [
    "https://en.m.wikipedia.org/wiki/Xerox_PARC#Accomplishments"
   ]
  },
  {
   "cell_type": "code",
   "execution_count": 14,
   "metadata": {},
   "outputs": [
    {
     "data": {
      "text/markdown": [
       "<iframe width=\"640\" height=\"360\" src=\"https://www.youtube.com/embed/yJDv-zdhzMY\" frameborder=\"0\" allowfullscreen></iframe>"
      ],
      "text/plain": [
       "<IPython.core.display.Markdown object>"
      ]
     },
     "metadata": {},
     "output_type": "display_data"
    }
   ],
   "source": [
    "<iframe width=\"640\" height=\"360\" src=\"https://www.youtube.com/embed/yJDv-zdhzMY\" frameborder=\"0\" allowfullscreen></iframe>"
   ]
  },
  {
   "cell_type": "code",
   "execution_count": 14,
   "metadata": {},
   "outputs": [
    {
     "data": {
      "text/markdown": [
       "> So in my office I have a console like this, and there are 12 others that are computer supplies.  And we try now-a-days \n",
       "to do our daily work on here.  __So this characterizes the way I could sit here and look at a clear blank piece of paper, \n",
       "that's the way I start many projects.__  So with my system, I start and say \"I'd like to load that in.\"  So, sorry about \n",
       "that.  So I'm putting in an entity called a \"statement.\"  And this is full of other entities called \"words.\"  If I make \n",
       "some mistakes I can back up a little bit.  So I have a statement with some entities, words, and I can do some operations \n",
       "on these and copy a word, and that word might copy after itself.  In fact, a pair word I like to copy after itself.  And I \n",
       "can just do this a few times, and get a bit of material there.  And there are other materials, like \"text.\"  I can copy from that \n",
       "oint to that point.  __It's copy.__  So I can __get myself some material on my blank piece of paper__ and say, \"Well, this is going to be \n",
       "more important than it looks, so I'd like to set up a file.\"  So I tell the machine, \"Output to a file.\"  And it says, \"Well, \n",
       "I need a name.\"  I'll give it a name.  I'll say it's \"sample file.\"  And I'll say \"Please output it\", and it did! \n",
       "[A 7 year old github repo](https://github.com/atduskgreg/MoAD-Transcript/blob/master/20101020_moad_transcription_draft.txt#L7)  \n",
       "                           \n",
       "                        "
      ],
      "text/plain": [
       "<IPython.core.display.Markdown object>"
      ]
     },
     "metadata": {},
     "output_type": "display_data"
    }
   ],
   "source": [
    "> So in my office I have a console like this, and there are 12 others that are computer supplies.  And we try now-a-days \n",
    "to do our daily work on here.  __So this characterizes the way I could sit here and look at a clear blank piece of paper, \n",
    "that's the way I start many projects.__  So with my system, I start and say \"I'd like to load that in.\"  So, sorry about \n",
    "that.  So I'm putting in an entity called a \"statement.\"  And this is full of other entities called \"words.\"  If I make \n",
    "some mistakes I can back up a little bit.  So I have a statement with some entities, words, and I can do some operations \n",
    "on these and copy a word, and that word might copy after itself.  In fact, a pair word I like to copy after itself.  And I \n",
    "can just do this a few times, and get a bit of material there.  And there are other materials, like \"text.\"  I can copy from that \n",
    "oint to that point.  __It's copy.__  So I can __get myself some material on my blank piece of paper__ and say, \"Well, this is going to be \n",
    "more important than it looks, so I'd like to set up a file.\"  So I tell the machine, \"Output to a file.\"  And it says, \"Well, \n",
    "I need a name.\"  I'll give it a name.  I'll say it's \"sample file.\"  And I'll say \"Please output it\", and it did! \n",
    "[A 7 year old github repo](https://github.com/atduskgreg/MoAD-Transcript/blob/master/20101020_moad_transcription_draft.txt#L7)  \n",
    "                           \n",
    "                        "
   ]
  },
  {
   "cell_type": "code",
   "execution_count": 14,
   "metadata": {},
   "outputs": [
    {
     "data": {
      "text/markdown": [
       "# [Bell Labs](https://en.m.wikipedia.org/wiki/Bell_Labs 1925-2001)\n",
       "\n",
       "[debt](https://en.wikipedia.org/wiki/Sch%C3%B6n_scandal)"
      ],
      "text/plain": [
       "<IPython.core.display.Markdown object>"
      ]
     },
     "metadata": {},
     "output_type": "display_data"
    }
   ],
   "source": [
    "# [Bell Labs](https://en.m.wikipedia.org/wiki/Bell_Labs 1925/2001)\n",
    "\n",
    "[debt](https://en.wikipedia.org/wiki/Sch%C3%B6n_scandal)"
   ]
  },
  {
   "cell_type": "code",
   "execution_count": 14,
   "metadata": {},
   "outputs": [
    {
     "data": {
      "text/html": [
       "\n",
       "        <iframe\n",
       "            width=\"600\"\n",
       "            height=\"400\"\n",
       "            src=\"https://en.m.wikipedia.org/wiki/Bell_Labs#Discoveries_and_developments\"\n",
       "            frameborder=\"0\"\n",
       "            allowfullscreen\n",
       "        ></iframe>\n",
       "        "
      ],
      "text/plain": [
       "<IPython.lib.display.IFrame at 0x111911c18>"
      ]
     },
     "metadata": {},
     "output_type": "display_data"
    }
   ],
   "source": [
    "https://en.m.wikipedia.org/wiki/Bell_Labs#Discoveries_and_developments"
   ]
  },
  {
   "cell_type": "code",
   "execution_count": null,
   "metadata": {},
   "outputs": [],
   "source": []
  }
 ],
 "metadata": {
  "kernelspec": {
   "display_name": "Python 3",
   "language": "python",
   "name": "python3"
  },
  "language_info": {
   "codemirror_mode": {
    "name": "ipython",
    "version": 3
   },
   "file_extension": ".py",
   "mimetype": "text/x-python",
   "name": "python",
   "nbconvert_exporter": "python",
   "pygments_lexer": "ipython3",
   "version": "3.5.3"
  }
 },
 "nbformat": 4,
 "nbformat_minor": 2
}
