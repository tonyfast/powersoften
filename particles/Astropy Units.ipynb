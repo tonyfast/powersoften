{
 "cells": [
  {
   "cell_type": "code",
   "execution_count": 1,
   "metadata": {},
   "outputs": [
    {
     "data": {
      "text/html": [
       "<style>\n",
       "    iframe {\n",
       "        width: 100%;\n",
       "        min-height: 80vh;\n",
       "        max-height: 1000px;\n",
       "    }\n",
       "</style>"
      ],
      "text/plain": [
       "<IPython.core.display.HTML object>"
      ]
     },
     "metadata": {},
     "output_type": "display_data"
    },
    {
     "data": {
      "text/html": [
       "<style>\n",
       "body.rise-hack-active div.reveal .code_cell .input,\n",
       "body.rise-hack-active div.reveal .output_stderr {\n",
       "    display: none;\n",
       "}\n",
       "button.rise-hack:hover {\n",
       "    opacity: 0.7;\n",
       "}\n",
       "button.rise-hack {\n",
       "    font-weight: bold;\n",
       "}\n",
       "body.rise-hack-active button.rise-hack {\n",
       "    text-decoration: line-through;\n",
       "}\n",
       "</style>"
      ],
      "text/plain": [
       "<IPython.core.display.HTML object>"
      ]
     },
     "metadata": {},
     "output_type": "display_data"
    },
    {
     "data": {
      "application/javascript": [
       ";(function(){\n",
       "    function init() {\n",
       "        $(\"button.rise-hack\").remove();\n",
       "        $(\"body\").addClass(\"rise-hack-active\");\n",
       "        var btn = $(\"<button/>\", {\"class\": \"rise-hack\"}).text(\"</>\");\n",
       "        btn.bind(\"click\", function(){\n",
       "            $(\"body\").toggleClass(\"rise-hack-active\");\n",
       "            Reveal.layout();\n",
       "        });\n",
       "        $(\".controls\").append(btn);\n",
       "    }\n",
       "\n",
       "    function subscribe(){\n",
       "        if(!window.Reveal){\n",
       "            return setTimeout(subscribe, 1000);\n",
       "        }\n",
       "        Reveal.addEventListener('ready', init);\n",
       "        init();\n",
       "    }\n",
       "    subscribe();\n",
       "}).call(this);"
      ],
      "text/plain": [
       "<IPython.core.display.Javascript object>"
      ]
     },
     "metadata": {},
     "output_type": "display_data"
    }
   ],
   "source": [
    "    from renci.style import *\n",
    "    from astropy import units as u\n",
    "    from pandas import *\n",
    "    from articles import *\n",
    "    from bokeh import plotting, resources\n",
    "    \n",
    "    plotting.output_file('units_graph.html')\n",
    "    from networkx import *\n",
    "    %matplotlib inline"
   ]
  },
  {
   "cell_type": "code",
   "execution_count": 2,
   "metadata": {},
   "outputs": [
    {
     "data": {
      "text/markdown": [
       "    s = Series(a[vars].valfilter(a**u.UnitBase)(u))\n",
       "    maps = s.apply(\n",
       "        a[a[vars].get('_represents', default=None)] \n",
       "        | a.identity()\n",
       "    ).rename('represents').apply(\n",
       "        a[a[vars].get('_bases', default=None)] \n",
       "        | a[[a.identity()]]\n",
       "    ).apply(Series)\n"
      ],
      "text/plain": [
       "<IPython.core.display.Markdown object>"
      ]
     },
     "metadata": {},
     "output_type": "display_data"
    }
   ],
   "source": [
    "    s = Series(a[vars].valfilter(a**u.UnitBase)(u))\n",
    "    maps = s.apply(\n",
    "        a[a[vars].get('_represents', default=None)] \n",
    "        | a.identity()\n",
    "    ).rename('represents').apply(\n",
    "        a[a[vars].get('_bases', default=None)] \n",
    "        | a[[a.identity()]]\n",
    "    ).apply(Series)\n"
   ]
  },
  {
   "cell_type": "code",
   "execution_count": 3,
   "metadata": {},
   "outputs": [
    {
     "data": {
      "text/markdown": [
       "# Create the networkx graph\n",
       "    \n",
       "    G = (\n",
       "        maps\n",
       "        .stack().reset_index(-1, drop=True)\n",
       "        .pipe(lambda x: setattr(x, 'index', s.loc[x.index].values) or x)\n",
       "        .to_frame('target').reset_index()\n",
       "        .pipe(from_pandas_dataframe, 'index', 'target', create_using=DiGraph()))\n",
       "    "
      ],
      "text/plain": [
       "<IPython.core.display.Markdown object>"
      ]
     },
     "metadata": {},
     "output_type": "display_data"
    }
   ],
   "source": [
    "# Create the networkx graph\n",
    "    \n",
    "    G = (\n",
    "        maps\n",
    "        .stack().reset_index(-1, drop=True)\n",
    "        .pipe(lambda x: setattr(x, 'index', s.loc[x.index].values) or x)\n",
    "        .to_frame('target').reset_index()\n",
    "        .pipe(from_pandas_dataframe, 'index', 'target', create_using=DiGraph()))\n",
    "    "
   ]
  },
  {
   "cell_type": "code",
   "execution_count": 4,
   "metadata": {},
   "outputs": [
    {
     "data": {
      "text/markdown": [
       "# Compute the embedding if the html is missing.\n",
       "    \n",
       "    if __name__ == '__main__': \n",
       "        %rm units_graph.html\n",
       "        \n",
       "    path = a.Path('../particles/units_graph.html')()\n",
       "    if not path.exists(): \n",
       "        positions = spring_layout(G)\n",
       "        p = plotting.figure()\n",
       "        p.segment(\n",
       "            *[a.pluck(_0).map(positions.__getitem__).pluck(_1).list()(G.edges())\n",
       "            for _0 in (0, 1) for _1 in (0, 1)]\n",
       "        )\n",
       "        p.circle(*[\n",
       "            a[dict.values].pluck(_0).list()(positions) for _0 in (0,1)\n",
       "        ], size=15, fill_alpha=0)\n",
       "        p.text(*[\n",
       "            a[dict.values].pluck(_0).list()(positions) for _0 in (0,1)\n",
       "        ], list(map(str, positions.keys())))\n",
       "        plotting.save(p)"
      ],
      "text/plain": [
       "<IPython.core.display.Markdown object>"
      ]
     },
     "metadata": {},
     "output_type": "display_data"
    }
   ],
   "source": [
    "# Compute the embedding if the html is missing.\n",
    "    \n",
    "    if __name__ == '__main__': \n",
    "        %rm units_graph.html\n",
    "        \n",
    "    path = a.Path('../particles/units_graph.html')()\n",
    "    if not path.exists(): \n",
    "        positions = spring_layout(G)\n",
    "        p = plotting.figure()\n",
    "        p.segment(\n",
    "            *[a.pluck(_0).map(positions.__getitem__).pluck(_1).list()(G.edges())\n",
    "            for _0 in (0, 1) for _1 in (0, 1)]\n",
    "        )\n",
    "        p.circle(*[\n",
    "            a[dict.values].pluck(_0).list()(positions) for _0 in (0,1)\n",
    "        ], size=15, fill_alpha=0)\n",
    "        p.text(*[\n",
    "            a[dict.values].pluck(_0).list()(positions) for _0 in (0,1)\n",
    "        ], list(map(str, positions.keys())))\n",
    "        plotting.save(p)"
   ]
  },
  {
   "cell_type": "code",
   "execution_count": 5,
   "metadata": {},
   "outputs": [
    {
     "data": {
      "text/markdown": [
       "    IFrame(path)"
      ],
      "text/plain": [
       "<IPython.core.display.Markdown object>"
      ]
     },
     "metadata": {},
     "output_type": "display_data"
    },
    {
     "data": {
      "text/html": [
       "\n",
       "        <iframe\n",
       "            width=\"600\"\n",
       "            height=\"400\"\n",
       "            src=\"../particles/units_graph.html\"\n",
       "            frameborder=\"0\"\n",
       "            allowfullscreen\n",
       "        ></iframe>\n",
       "        "
      ],
      "text/plain": [
       "<IPython.lib.display.IFrame at 0x11a0ba710>"
      ]
     },
     "execution_count": 5,
     "metadata": {},
     "output_type": "execute_result"
    }
   ],
   "source": [
    "    IFrame(path)"
   ]
  },
  {
   "cell_type": "code",
   "execution_count": null,
   "metadata": {
    "collapsed": true
   },
   "outputs": [],
   "source": []
  }
 ],
 "metadata": {
  "kernelspec": {
   "display_name": "Python 3",
   "language": "python",
   "name": "python3"
  },
  "language_info": {
   "codemirror_mode": {
    "name": "ipython",
    "version": 3
   },
   "file_extension": ".py",
   "mimetype": "text/x-python",
   "name": "python",
   "nbconvert_exporter": "python",
   "pygments_lexer": "ipython3",
   "version": "3.5.3"
  }
 },
 "nbformat": 4,
 "nbformat_minor": 2
}
