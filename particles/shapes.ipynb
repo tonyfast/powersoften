{
 "cells": [
  {
   "cell_type": "code",
   "execution_count": 1,
   "metadata": {},
   "outputs": [
    {
     "data": {
      "text/html": [
       "<style>\n",
       "    iframe {\n",
       "        width: 100%;\n",
       "        min-height: 80vh;\n",
       "    }\n",
       "    body.rise-enabled .code_cell .input,  div.reveal .code_cell .input {\n",
       "        display: none;\n",
       "    }\n",
       "</style>"
      ],
      "text/plain": [
       "<IPython.core.display.HTML object>"
      ]
     },
     "metadata": {},
     "output_type": "display_data"
    }
   ],
   "source": [
    "    from renci.style import *\n",
    "    %matplotlib inline"
   ]
  },
  {
   "cell_type": "markdown",
   "metadata": {},
   "source": [
    "This project `imports = 'bokeh.plotting, articles, pandas, bokeh, matplotlib.pyplot, networkx'`.\n",
    "\n",
    "> \n",
    "\n",
    "    \n",
    "    {% for _ in split(imports) %}from {{_}} import *; {% endfor %}from bokeh import plotting"
   ]
  },
  {
   "cell_type": "code",
   "execution_count": 2,
   "metadata": {},
   "outputs": [
    {
     "data": {
      "text/markdown": [
       "    from bokeh.plotting import *; from articles import *; from pandas import *; from bokeh import *; from matplotlib.pyplot import *; from networkx import *; \n",
       "    from bokeh import plotting"
      ],
      "text/plain": [
       "<IPython.core.display.Markdown object>"
      ]
     },
     "metadata": {},
     "output_type": "display_data"
    }
   ],
   "source": [
    "    from bokeh.plotting import *; from articles import *; from pandas import *; from bokeh import *; from matplotlib.pyplot import *; from networkx import *; \n",
    "    from bokeh import plotting"
   ]
  },
  {
   "cell_type": "code",
   "execution_count": 2,
   "metadata": {},
   "outputs": [
    {
     "data": {
      "text/markdown": [
       "# A simple idea\n",
       "\n",
       "A simple can be expressed geometrically."
      ],
      "text/plain": [
       "<IPython.core.display.Markdown object>"
      ]
     },
     "metadata": {},
     "output_type": "display_data"
    }
   ],
   "source": [
    "# A simple idea\n",
    "\n",
    "A simple can be expressed geometrically."
   ]
  },
  {
   "cell_type": "code",
   "execution_count": 5,
   "metadata": {},
   "outputs": [
    {
     "data": {
      "text/markdown": [
       "# The `process = 'design, systems, materials, community, media, culture'`\n",
       "\n",
       "`split = \\` is a utility `lambda s: list(map(str.strip, s.\\` to `split(',')))` separated  strings.\n",
       "\n",
       "    processes = split(process)"
      ],
      "text/plain": [
       "<IPython.core.display.Markdown object>"
      ]
     },
     "metadata": {},
     "output_type": "display_data"
    }
   ],
   "source": [
    "# The `process = 'design, systems, materials, community, media, culture'`\n",
    "\n",
    "`split = \\` is a utility `lambda s: list(map(str.strip, s.\\` to `split(',')))` separated  strings.\n",
    "\n",
    "    processes = split(process)"
   ]
  },
  {
   "cell_type": "code",
   "execution_count": 6,
   "metadata": {},
   "outputs": [
    {
     "data": {
      "text/markdown": [
       "    df = a.len(processes).range().map(\n",
       "        lambda x: the.cycle(processes)\n",
       "        .do(the[[next]*x])\n",
       "        [[next, [next]*len(processes)]]\n",
       "        \n",
       "add a value to the step.\n",
       "        \n",
       "        [the.first(), the.second().enumerate().map(lambda x: dict(\n",
       "            name=None if x[0] is 0 else processes[x[0]-1], parent=x[1]\n",
       "        )).list()[DataFrame]]\n",
       "        .list()()\n",
       "    ).list().dict()[concat]()\n",
       "\n",
       "    df.name = df.name.fillna({(_, 0): _ for __ in processes for _ in [processes[processes.index(__)-1]]})\n",
       "    df = df.set_index(\n",
       "        the[\n",
       "            a.identity(), a.cycle().do(next).take(len(df)).list()\n",
       "        ][MultiIndex.from_arrays](df.index.get_level_values(0).map(processes.index)*6+df.index.get_level_values(1))\n",
       "    ).reset_index()\n",
       "    df.T"
      ],
      "text/plain": [
       "<IPython.core.display.Markdown object>"
      ]
     },
     "metadata": {},
     "output_type": "display_data"
    },
    {
     "data": {
      "text/html": [
       "<div>\n",
       "<style>\n",
       "    .dataframe thead tr:only-child th {\n",
       "        text-align: right;\n",
       "    }\n",
       "\n",
       "    .dataframe thead th {\n",
       "        text-align: left;\n",
       "    }\n",
       "\n",
       "    .dataframe tbody tr th {\n",
       "        vertical-align: top;\n",
       "    }\n",
       "</style>\n",
       "<table border=\"1\" class=\"dataframe\">\n",
       "  <thead>\n",
       "    <tr style=\"text-align: right;\">\n",
       "      <th></th>\n",
       "      <th>0</th>\n",
       "      <th>1</th>\n",
       "      <th>2</th>\n",
       "      <th>3</th>\n",
       "      <th>4</th>\n",
       "      <th>5</th>\n",
       "      <th>6</th>\n",
       "      <th>7</th>\n",
       "      <th>8</th>\n",
       "      <th>9</th>\n",
       "      <th>...</th>\n",
       "      <th>26</th>\n",
       "      <th>27</th>\n",
       "      <th>28</th>\n",
       "      <th>29</th>\n",
       "      <th>30</th>\n",
       "      <th>31</th>\n",
       "      <th>32</th>\n",
       "      <th>33</th>\n",
       "      <th>34</th>\n",
       "      <th>35</th>\n",
       "    </tr>\n",
       "  </thead>\n",
       "  <tbody>\n",
       "    <tr>\n",
       "      <th>level_0</th>\n",
       "      <td>18</td>\n",
       "      <td>19</td>\n",
       "      <td>20</td>\n",
       "      <td>21</td>\n",
       "      <td>22</td>\n",
       "      <td>23</td>\n",
       "      <td>30</td>\n",
       "      <td>31</td>\n",
       "      <td>32</td>\n",
       "      <td>33</td>\n",
       "      <td>...</td>\n",
       "      <td>26</td>\n",
       "      <td>27</td>\n",
       "      <td>28</td>\n",
       "      <td>29</td>\n",
       "      <td>6</td>\n",
       "      <td>7</td>\n",
       "      <td>8</td>\n",
       "      <td>9</td>\n",
       "      <td>10</td>\n",
       "      <td>11</td>\n",
       "    </tr>\n",
       "    <tr>\n",
       "      <th>level_1</th>\n",
       "      <td>19</td>\n",
       "      <td>20</td>\n",
       "      <td>21</td>\n",
       "      <td>22</td>\n",
       "      <td>23</td>\n",
       "      <td>30</td>\n",
       "      <td>31</td>\n",
       "      <td>32</td>\n",
       "      <td>33</td>\n",
       "      <td>34</td>\n",
       "      <td>...</td>\n",
       "      <td>27</td>\n",
       "      <td>28</td>\n",
       "      <td>29</td>\n",
       "      <td>6</td>\n",
       "      <td>7</td>\n",
       "      <td>8</td>\n",
       "      <td>9</td>\n",
       "      <td>10</td>\n",
       "      <td>11</td>\n",
       "      <td>18</td>\n",
       "    </tr>\n",
       "    <tr>\n",
       "      <th>name</th>\n",
       "      <td>community</td>\n",
       "      <td>design</td>\n",
       "      <td>systems</td>\n",
       "      <td>materials</td>\n",
       "      <td>community</td>\n",
       "      <td>media</td>\n",
       "      <td>culture</td>\n",
       "      <td>design</td>\n",
       "      <td>systems</td>\n",
       "      <td>materials</td>\n",
       "      <td>...</td>\n",
       "      <td>systems</td>\n",
       "      <td>materials</td>\n",
       "      <td>community</td>\n",
       "      <td>media</td>\n",
       "      <td>systems</td>\n",
       "      <td>design</td>\n",
       "      <td>systems</td>\n",
       "      <td>materials</td>\n",
       "      <td>community</td>\n",
       "      <td>media</td>\n",
       "    </tr>\n",
       "    <tr>\n",
       "      <th>parent</th>\n",
       "      <td>media</td>\n",
       "      <td>culture</td>\n",
       "      <td>design</td>\n",
       "      <td>systems</td>\n",
       "      <td>materials</td>\n",
       "      <td>community</td>\n",
       "      <td>design</td>\n",
       "      <td>systems</td>\n",
       "      <td>materials</td>\n",
       "      <td>community</td>\n",
       "      <td>...</td>\n",
       "      <td>systems</td>\n",
       "      <td>materials</td>\n",
       "      <td>community</td>\n",
       "      <td>media</td>\n",
       "      <td>materials</td>\n",
       "      <td>community</td>\n",
       "      <td>media</td>\n",
       "      <td>culture</td>\n",
       "      <td>design</td>\n",
       "      <td>systems</td>\n",
       "    </tr>\n",
       "  </tbody>\n",
       "</table>\n",
       "<p>4 rows × 36 columns</p>\n",
       "</div>"
      ],
      "text/plain": [
       "                0        1        2          3          4          5   \\\n",
       "level_0         18       19       20         21         22         23   \n",
       "level_1         19       20       21         22         23         30   \n",
       "name     community   design  systems  materials  community      media   \n",
       "parent       media  culture   design    systems  materials  community   \n",
       "\n",
       "              6        7          8          9    ...          26         27  \\\n",
       "level_0       30       31         32         33   ...          26         27   \n",
       "level_1       31       32         33         34   ...          27         28   \n",
       "name     culture   design    systems  materials   ...     systems  materials   \n",
       "parent    design  systems  materials  community   ...     systems  materials   \n",
       "\n",
       "                28     29         30         31       32         33  \\\n",
       "level_0         28     29          6          7        8          9   \n",
       "level_1         29      6          7          8        9         10   \n",
       "name     community  media    systems     design  systems  materials   \n",
       "parent   community  media  materials  community    media    culture   \n",
       "\n",
       "                34       35  \n",
       "level_0         10       11  \n",
       "level_1         11       18  \n",
       "name     community    media  \n",
       "parent      design  systems  \n",
       "\n",
       "[4 rows x 36 columns]"
      ]
     },
     "execution_count": 6,
     "metadata": {},
     "output_type": "execute_result"
    }
   ],
   "source": [
    "    df = a.len(processes).range().map(\n",
    "        lambda x: the.cycle(processes)\n",
    "        .do(the[[next]*x])\n",
    "        [[next, [next]*len(processes)]]\n",
    "        \n",
    "add a value to the step.\n",
    "        \n",
    "        [the.first(), the.second().enumerate().map(lambda x: dict(\n",
    "            name=None if x[0] is 0 else processes[x[0]-1], parent=x[1]\n",
    "        )).list()[DataFrame]]\n",
    "        .list()()\n",
    "    ).list().dict()[concat]()\n",
    "\n",
    "    df.name = df.name.fillna({(_, 0): _ for __ in processes for _ in [processes[processes.index(__)-1]]})\n",
    "    df = df.set_index(\n",
    "        the[\n",
    "            a.identity(), a.cycle().do(next).take(len(df)).list()\n",
    "        ][MultiIndex.from_arrays](df.index.get_level_values(0).map(processes.index)*6+df.index.get_level_values(1))\n",
    "    ).reset_index()\n",
    "    df.T"
   ]
  },
  {
   "cell_type": "markdown",
   "metadata": {
    "collapsed": true
   },
   "source": [
    "    \n",
    "    show_graph = \"\"\"{% for layout in [fruchterman_reingold_layout, spectral_layout, shell_layout] %}\n",
    "        a[the.identity(), {{layout.__name__}}][star()[draw, draw_networkx_labels]](G); \n",
    "        %literate # {{layout.__name__}}\n",
    "        show()\n",
    "    {% endfor %}\"\"\""
   ]
  },
  {
   "cell_type": "code",
   "execution_count": 8,
   "metadata": {},
   "outputs": [
    {
     "data": {
      "text/markdown": [
       "# What geometries arise from networkx\n",
       "    \n",
       "    G = df.pipe(from_pandas_dataframe, 'parent', 'name', True, Graph())"
      ],
      "text/plain": [
       "<IPython.core.display.Markdown object>"
      ]
     },
     "metadata": {},
     "output_type": "display_data"
    }
   ],
   "source": [
    "# What geometries arise from networkx\n",
    "    \n",
    "    G = df.pipe(from_pandas_dataframe, 'parent', 'name', True, Graph())"
   ]
  },
  {
   "cell_type": "code",
   "execution_count": 35,
   "metadata": {},
   "outputs": [
    {
     "data": {
      "text/markdown": [
       "    view = lambda ___: a[the.identity(), ___][star()[a.map(the(ax=gca()).identity()).list()([draw, draw_networkx_labels])]](G)\n",
       "\n",
       "    p = figure(figsize=(18, 4))\n",
       "    \n",
       "    p.add_subplot(1,3,1) and view(fruchterman_reingold_layout) \n",
       "    p.add_subplot(1,3,2) and view(spectral_layout) \n",
       "    p.add_subplot(1,3,3) and view(shell_layout)  \n",
       "    show()"
      ],
      "text/plain": [
       "<IPython.core.display.Markdown object>"
      ]
     },
     "metadata": {},
     "output_type": "display_data"
    },
    {
     "name": "stderr",
     "output_type": "stream",
     "text": [
      "/Users/tonyfast/anaconda/lib/python3.5/site-packages/networkx/drawing/nx_pylab.py:126: MatplotlibDeprecationWarning: pyplot.hold is deprecated.\n",
      "    Future behavior will be consistent with the long-time default:\n",
      "    plot commands add elements without first clearing the\n",
      "    Axes and/or Figure.\n",
      "  b = plt.ishold()\n",
      "/Users/tonyfast/anaconda/lib/python3.5/site-packages/networkx/drawing/nx_pylab.py:138: MatplotlibDeprecationWarning: pyplot.hold is deprecated.\n",
      "    Future behavior will be consistent with the long-time default:\n",
      "    plot commands add elements without first clearing the\n",
      "    Axes and/or Figure.\n",
      "  plt.hold(b)\n",
      "/Users/tonyfast/anaconda/lib/python3.5/site-packages/matplotlib/__init__.py:917: UserWarning: axes.hold is deprecated. Please remove it from your matplotlibrc and/or style files.\n",
      "  warnings.warn(self.msg_depr_set % key)\n",
      "/Users/tonyfast/anaconda/lib/python3.5/site-packages/matplotlib/rcsetup.py:152: UserWarning: axes.hold is deprecated, will be removed in 3.0\n",
      "  warnings.warn(\"axes.hold is deprecated, will be removed in 3.0\")\n"
     ]
    },
    {
     "data": {
      "image/png": "[encoded data removed]",
      "text/plain": [
       "<matplotlib.figure.Figure at 0x1137cb588>"
      ]
     },
     "metadata": {},
     "output_type": "display_data"
    }
   ],
   "source": [
    "    view = lambda ___: a[the.identity(), ___][star()[a.map(the(ax=gca()).identity()).list()([draw, draw_networkx_labels])]](G)\n",
    "\n",
    "    p = figure(figsize=(18, 4))\n",
    "    \n",
    "    p.add_subplot(1,3,1) and view(fruchterman_reingold_layout) \n",
    "    p.add_subplot(1,3,2) and view(spectral_layout) \n",
    "    p.add_subplot(1,3,3) and view(shell_layout)  \n",
    "    show()"
   ]
  },
  {
   "cell_type": "code",
   "execution_count": 9,
   "metadata": {
    "collapsed": true
   },
   "outputs": [],
   "source": [
    "    \n",
    "    #     G = df.pipe(from_pandas_dataframe, *a.range().map('level_{}'.format)(2), True, DiGraph())\n",
    "    #     for i in range(5): G.add_edge(i*6, i*6+6)    \n",
    "\n",
    "\n",
    "    #     {\\{show_graph}}\n",
    "\n",
    "    #     %matplotlib notebook\n",
    "\n",
    "    #     from mpl_toolkits.mplot3d import Axes3D\n",
    "\n",
    "    #     fig = figure()\n",
    "    #     positions = the[dict.values][np.stack](spectral_layout(G, dim=3))\n",
    "    #     ax = fig.add_subplot(111, projection='3d')\n",
    "    #     ax.scatter(*(positions[:,i] for i in range(3)));\n",
    "    #     ax.plot(*(positions[:,i] for i in range(3)));\n",
    "\n"
   ]
  }
 ],
 "metadata": {
  "kernelspec": {
   "display_name": "Python 3",
   "language": "python",
   "name": "python3"
  },
  "language_info": {
   "codemirror_mode": {
    "name": "ipython",
    "version": 3
   },
   "file_extension": ".py",
   "mimetype": "text/x-python",
   "name": "python",
   "nbconvert_exporter": "python",
   "pygments_lexer": "ipython3",
   "version": "3.5.3"
  }
 },
 "nbformat": 4,
 "nbformat_minor": 2
}
