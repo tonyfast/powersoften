{
 "cells": [
  {
   "cell_type": "code",
   "execution_count": 1,
   "metadata": {},
   "outputs": [],
   "source": [
    "    %load_ext literacy.template\n",
    "    from articles import *; from pandas import *"
   ]
  },
  {
   "cell_type": "code",
   "execution_count": 2,
   "metadata": {},
   "outputs": [
    {
     "data": {
      "text/markdown": [
       "__import__ the particles to ensure they are valid python code; if the notebook is valid it is importable.\n",
       "\n",
       "    from particles import media, design, documents, eames"
      ],
      "text/plain": [
       "<IPython.core.display.Markdown object>"
      ]
     },
     "metadata": {},
     "output_type": "display_data"
    },
    {
     "ename": "SyntaxError",
     "evalue": "invalid syntax (design.ipynb, line 41)",
     "output_type": "error",
     "traceback": [
      "Traceback \u001b[0;36m(most recent call last)\u001b[0m:\n",
      "  File \u001b[1;32m\"/Users/tonyfast/anaconda/lib/python3.5/site-packages/IPython/core/interactiveshell.py\"\u001b[0m, line \u001b[1;32m2862\u001b[0m, in \u001b[1;35mrun_code\u001b[0m\n    exec(code_obj, self.user_global_ns, self.user_ns)\n",
      "  File \u001b[1;32m\"<ipython-input-2-7de040c3f717>\"\u001b[0m, line \u001b[1;32m7\u001b[0m, in \u001b[1;35m<module>\u001b[0m\n    from particles import media, design, documents, eames\n",
      "  File \u001b[1;32m\"<frozen importlib._bootstrap>\"\u001b[0m, line \u001b[1;32m969\u001b[0m, in \u001b[1;35m_find_and_load\u001b[0m\n",
      "  File \u001b[1;32m\"<frozen importlib._bootstrap>\"\u001b[0m, line \u001b[1;32m958\u001b[0m, in \u001b[1;35m_find_and_load_unlocked\u001b[0m\n",
      "  File \u001b[1;32m\"<frozen importlib._bootstrap>\"\u001b[0m, line \u001b[1;32m673\u001b[0m, in \u001b[1;35m_load_unlocked\u001b[0m\n",
      "  File \u001b[1;32m\"<frozen importlib._bootstrap_external>\"\u001b[0m, line \u001b[1;32m674\u001b[0m, in \u001b[1;35mexec_module\u001b[0m\n",
      "\u001b[0;36m  File \u001b[0;32m\"/Users/tonyfast/importables/importable.py\"\u001b[0;36m, line \u001b[0;32m59\u001b[0;36m, in \u001b[0;35mget_code\u001b[0;36m\u001b[0m\n\u001b[0;31m    return compile(self.func(path), self.path, 'exec')\u001b[0m\n",
      "\u001b[0;36m  File \u001b[0;32m\"/Users/tonyfast/powersoften/particles/design.ipynb\"\u001b[0;36m, line \u001b[0;32m41\u001b[0m\n\u001b[0;31m    \"slideshow\": {\u001b[0m\n\u001b[0m                  \n^\u001b[0m\n\u001b[0;31mSyntaxError\u001b[0m\u001b[0;31m:\u001b[0m invalid syntax\n"
     ]
    }
   ],
   "source": [
    "__import__ the particles to ensure they are valid python code; if the notebook is valid it is importable.\n",
    "\n",
    "    from particles import media, design, documents, eames"
   ]
  },
  {
   "cell_type": "code",
   "execution_count": 28,
   "metadata": {},
   "outputs": [
    {
     "data": {
      "text/markdown": [
       "# Load all the cells into a dataframe.\n",
       "\n",
       "    with this().__file__()[the.Path().read_text().loads()]['cells'][DataFrame] as framify, \\\n",
       "            a.map(λ[this().__file__(), framify]).dict()[concat] as load:\n",
       "        df = load([media, design, eames])\n",
       "    df.source = df.source.apply('\\n'.join)"
      ],
      "text/plain": [
       "<IPython.core.display.Markdown object>"
      ]
     },
     "metadata": {},
     "output_type": "display_data"
    }
   ],
   "source": [
    "# Load all the cells into a dataframe.\n",
    "\n",
    "    with this().__file__()[the.Path().read_text().loads()]['cells'][DataFrame] as framify, \\\n",
    "            a.map(λ[this().__file__(), framify]).dict()[concat] as load:\n",
    "        df = load([media, design, eames])\n",
    "    df.source = df.source.apply('\\n'.join)"
   ]
  },
  {
   "cell_type": "code",
   "execution_count": 29,
   "metadata": {},
   "outputs": [
    {
     "data": {
      "text/markdown": [
       "Use markdown syntaxes to extract features from the link.\n",
       "\n",
       "<pre><code>### [name](url \"tags,time\")</code></pre>\n",
       "    \n",
       "    \n",
       "    from bs4 import BeautifulSoup\n",
       "    df['links'] = (\n",
       "        df.source.apply(__import__('mistune').markdown)\n",
       "        .apply(BeautifulSoup, args=['lxml']).apply(BeautifulSoup.select, args=['a'])\n",
       "        .apply(a / this().attrs() * list))"
      ],
      "text/plain": [
       "<IPython.core.display.Markdown object>"
      ]
     },
     "metadata": {},
     "output_type": "display_data"
    }
   ],
   "source": [
    "Use markdown syntaxes to extract features from the link.\n",
    "\n",
    "<pre><code>### [name](url \"tags,time\")</code></pre>\n",
    "    \n",
    "    \n",
    "    from bs4 import BeautifulSoup\n",
    "    df['links'] = (\n",
    "        df.source.apply(__import__('mistune').markdown)\n",
    "        .apply(BeautifulSoup, args=['lxml']).apply(BeautifulSoup.select, args=['a'])\n",
    "        .apply(a / this().attrs() * list))"
   ]
  },
  {
   "cell_type": "code",
   "execution_count": 30,
   "metadata": {},
   "outputs": [
    {
     "data": {
      "text/markdown": [
       "    references = concat(dict(zip(df.index, df.links.apply(DataFrame)))).astype(str)"
      ],
      "text/plain": [
       "<IPython.core.display.Markdown object>"
      ]
     },
     "metadata": {},
     "output_type": "display_data"
    }
   ],
   "source": [
    "    references = concat(dict(zip(df.index, df.links.apply(DataFrame)))).astype(str)"
   ]
  },
  {
   "cell_type": "code",
   "execution_count": 31,
   "metadata": {},
   "outputs": [
    {
     "data": {
      "text/markdown": [
       "    def tagParse(str):\n",
       "        str = (str or '').strip()\n",
       "#         if '/' in str: return tagParse(str.split('/', 1)[0])\n",
       "        try:\n",
       "            time = to_datetime(str+'-01-01' if str.isnumeric() else str)\n",
       "            if time is not NaT: return time\n",
       "        except ValueError: pass\n",
       "        return str\n",
       "\n",
       "    references.title.str.split(',', expand=True).applymap(tagParse)"
      ],
      "text/plain": [
       "<IPython.core.display.Markdown object>"
      ]
     },
     "metadata": {},
     "output_type": "display_data"
    },
    {
     "data": {
      "text/html": [
       "<div>\n",
       "<style>\n",
       "    .dataframe thead tr:only-child th {\n",
       "        text-align: right;\n",
       "    }\n",
       "\n",
       "    .dataframe thead th {\n",
       "        text-align: left;\n",
       "    }\n",
       "\n",
       "    .dataframe tbody tr th {\n",
       "        vertical-align: top;\n",
       "    }\n",
       "</style>\n",
       "<table border=\"1\" class=\"dataframe\">\n",
       "  <thead>\n",
       "    <tr style=\"text-align: right;\">\n",
       "      <th></th>\n",
       "      <th></th>\n",
       "      <th></th>\n",
       "      <th>0</th>\n",
       "      <th>1</th>\n",
       "      <th>2</th>\n",
       "    </tr>\n",
       "  </thead>\n",
       "  <tbody>\n",
       "    <tr>\n",
       "      <th rowspan=\"16\" valign=\"top\">/Users/tonyfast/powersoften/particles/design.ipynb</th>\n",
       "      <th>3</th>\n",
       "      <th>0</th>\n",
       "      <td>eames</td>\n",
       "      <td>polaroid</td>\n",
       "      <td>1972-01-01</td>\n",
       "    </tr>\n",
       "    <tr>\n",
       "      <th>4</th>\n",
       "      <th>0</th>\n",
       "      <td>1919/1933</td>\n",
       "      <td></td>\n",
       "      <td>NaT</td>\n",
       "    </tr>\n",
       "    <tr>\n",
       "      <th>7</th>\n",
       "      <th>0</th>\n",
       "      <td>nan</td>\n",
       "      <td></td>\n",
       "      <td>NaT</td>\n",
       "    </tr>\n",
       "    <tr>\n",
       "      <th>8</th>\n",
       "      <th>0</th>\n",
       "      <td>nan</td>\n",
       "      <td></td>\n",
       "      <td>NaT</td>\n",
       "    </tr>\n",
       "    <tr>\n",
       "      <th>9</th>\n",
       "      <th>0</th>\n",
       "      <td>nan</td>\n",
       "      <td></td>\n",
       "      <td>NaT</td>\n",
       "    </tr>\n",
       "    <tr>\n",
       "      <th rowspan=\"3\" valign=\"top\">10</th>\n",
       "      <th>0</th>\n",
       "      <td>nan</td>\n",
       "      <td></td>\n",
       "      <td>NaT</td>\n",
       "    </tr>\n",
       "    <tr>\n",
       "      <th>1</th>\n",
       "      <td>nan</td>\n",
       "      <td></td>\n",
       "      <td>NaT</td>\n",
       "    </tr>\n",
       "    <tr>\n",
       "      <th>2</th>\n",
       "      <td>nan</td>\n",
       "      <td></td>\n",
       "      <td>NaT</td>\n",
       "    </tr>\n",
       "    <tr>\n",
       "      <th>11</th>\n",
       "      <th>0</th>\n",
       "      <td>nan</td>\n",
       "      <td></td>\n",
       "      <td>NaT</td>\n",
       "    </tr>\n",
       "    <tr>\n",
       "      <th>13</th>\n",
       "      <th>0</th>\n",
       "      <td>nan</td>\n",
       "      <td></td>\n",
       "      <td>NaT</td>\n",
       "    </tr>\n",
       "    <tr>\n",
       "      <th>14</th>\n",
       "      <th>0</th>\n",
       "      <td>nan</td>\n",
       "      <td></td>\n",
       "      <td>NaT</td>\n",
       "    </tr>\n",
       "    <tr>\n",
       "      <th>15</th>\n",
       "      <th>0</th>\n",
       "      <td>nan</td>\n",
       "      <td></td>\n",
       "      <td>NaT</td>\n",
       "    </tr>\n",
       "    <tr>\n",
       "      <th>16</th>\n",
       "      <th>0</th>\n",
       "      <td>nan</td>\n",
       "      <td></td>\n",
       "      <td>NaT</td>\n",
       "    </tr>\n",
       "    <tr>\n",
       "      <th>17</th>\n",
       "      <th>0</th>\n",
       "      <td>nan</td>\n",
       "      <td></td>\n",
       "      <td>NaT</td>\n",
       "    </tr>\n",
       "    <tr>\n",
       "      <th>18</th>\n",
       "      <th>0</th>\n",
       "      <td>nan</td>\n",
       "      <td></td>\n",
       "      <td>NaT</td>\n",
       "    </tr>\n",
       "    <tr>\n",
       "      <th>20</th>\n",
       "      <th>0</th>\n",
       "      <td>2010-01-01 00:00:00</td>\n",
       "      <td></td>\n",
       "      <td>NaT</td>\n",
       "    </tr>\n",
       "    <tr>\n",
       "      <th rowspan=\"6\" valign=\"top\">/Users/tonyfast/powersoften/particles/eames.ipynb</th>\n",
       "      <th>1</th>\n",
       "      <th>0</th>\n",
       "      <td>nan</td>\n",
       "      <td></td>\n",
       "      <td>NaT</td>\n",
       "    </tr>\n",
       "    <tr>\n",
       "      <th>2</th>\n",
       "      <th>0</th>\n",
       "      <td>nan</td>\n",
       "      <td></td>\n",
       "      <td>NaT</td>\n",
       "    </tr>\n",
       "    <tr>\n",
       "      <th>3</th>\n",
       "      <th>0</th>\n",
       "      <td>nan</td>\n",
       "      <td></td>\n",
       "      <td>NaT</td>\n",
       "    </tr>\n",
       "    <tr>\n",
       "      <th>4</th>\n",
       "      <th>0</th>\n",
       "      <td>nan</td>\n",
       "      <td></td>\n",
       "      <td>NaT</td>\n",
       "    </tr>\n",
       "    <tr>\n",
       "      <th>5</th>\n",
       "      <th>0</th>\n",
       "      <td>1977-01-01 00:00:00</td>\n",
       "      <td></td>\n",
       "      <td>NaT</td>\n",
       "    </tr>\n",
       "    <tr>\n",
       "      <th>6</th>\n",
       "      <th>0</th>\n",
       "      <td>nan</td>\n",
       "      <td></td>\n",
       "      <td>NaT</td>\n",
       "    </tr>\n",
       "    <tr>\n",
       "      <th rowspan=\"8\" valign=\"top\">/Users/tonyfast/powersoften/particles/media.ipynb</th>\n",
       "      <th>1</th>\n",
       "      <th>0</th>\n",
       "      <td>nan</td>\n",
       "      <td></td>\n",
       "      <td>NaT</td>\n",
       "    </tr>\n",
       "    <tr>\n",
       "      <th>2</th>\n",
       "      <th>0</th>\n",
       "      <td>nan</td>\n",
       "      <td></td>\n",
       "      <td>NaT</td>\n",
       "    </tr>\n",
       "    <tr>\n",
       "      <th>3</th>\n",
       "      <th>0</th>\n",
       "      <td>nan</td>\n",
       "      <td></td>\n",
       "      <td>NaT</td>\n",
       "    </tr>\n",
       "    <tr>\n",
       "      <th>4</th>\n",
       "      <th>0</th>\n",
       "      <td>nan</td>\n",
       "      <td></td>\n",
       "      <td>NaT</td>\n",
       "    </tr>\n",
       "    <tr>\n",
       "      <th>5</th>\n",
       "      <th>0</th>\n",
       "      <td>nan</td>\n",
       "      <td></td>\n",
       "      <td>NaT</td>\n",
       "    </tr>\n",
       "    <tr>\n",
       "      <th>6</th>\n",
       "      <th>0</th>\n",
       "      <td>nan</td>\n",
       "      <td></td>\n",
       "      <td>NaT</td>\n",
       "    </tr>\n",
       "    <tr>\n",
       "      <th>7</th>\n",
       "      <th>0</th>\n",
       "      <td>nan</td>\n",
       "      <td></td>\n",
       "      <td>NaT</td>\n",
       "    </tr>\n",
       "    <tr>\n",
       "      <th>10</th>\n",
       "      <th>0</th>\n",
       "      <td>nan</td>\n",
       "      <td></td>\n",
       "      <td>NaT</td>\n",
       "    </tr>\n",
       "  </tbody>\n",
       "</table>\n",
       "</div>"
      ],
      "text/plain": [
       "                                                                           0  \\\n",
       "/Users/tonyfast/powersoften/particles/design.ipynb 3  0                eames   \n",
       "                                                   4  0            1919/1933   \n",
       "                                                   7  0                  nan   \n",
       "                                                   8  0                  nan   \n",
       "                                                   9  0                  nan   \n",
       "                                                   10 0                  nan   \n",
       "                                                      1                  nan   \n",
       "                                                      2                  nan   \n",
       "                                                   11 0                  nan   \n",
       "                                                   13 0                  nan   \n",
       "                                                   14 0                  nan   \n",
       "                                                   15 0                  nan   \n",
       "                                                   16 0                  nan   \n",
       "                                                   17 0                  nan   \n",
       "                                                   18 0                  nan   \n",
       "                                                   20 0  2010-01-01 00:00:00   \n",
       "/Users/tonyfast/powersoften/particles/eames.ipynb  1  0                  nan   \n",
       "                                                   2  0                  nan   \n",
       "                                                   3  0                  nan   \n",
       "                                                   4  0                  nan   \n",
       "                                                   5  0  1977-01-01 00:00:00   \n",
       "                                                   6  0                  nan   \n",
       "/Users/tonyfast/powersoften/particles/media.ipynb  1  0                  nan   \n",
       "                                                   2  0                  nan   \n",
       "                                                   3  0                  nan   \n",
       "                                                   4  0                  nan   \n",
       "                                                   5  0                  nan   \n",
       "                                                   6  0                  nan   \n",
       "                                                   7  0                  nan   \n",
       "                                                   10 0                  nan   \n",
       "\n",
       "                                                                1          2  \n",
       "/Users/tonyfast/powersoften/particles/design.ipynb 3  0  polaroid 1972-01-01  \n",
       "                                                   4  0                  NaT  \n",
       "                                                   7  0                  NaT  \n",
       "                                                   8  0                  NaT  \n",
       "                                                   9  0                  NaT  \n",
       "                                                   10 0                  NaT  \n",
       "                                                      1                  NaT  \n",
       "                                                      2                  NaT  \n",
       "                                                   11 0                  NaT  \n",
       "                                                   13 0                  NaT  \n",
       "                                                   14 0                  NaT  \n",
       "                                                   15 0                  NaT  \n",
       "                                                   16 0                  NaT  \n",
       "                                                   17 0                  NaT  \n",
       "                                                   18 0                  NaT  \n",
       "                                                   20 0                  NaT  \n",
       "/Users/tonyfast/powersoften/particles/eames.ipynb  1  0                  NaT  \n",
       "                                                   2  0                  NaT  \n",
       "                                                   3  0                  NaT  \n",
       "                                                   4  0                  NaT  \n",
       "                                                   5  0                  NaT  \n",
       "                                                   6  0                  NaT  \n",
       "/Users/tonyfast/powersoften/particles/media.ipynb  1  0                  NaT  \n",
       "                                                   2  0                  NaT  \n",
       "                                                   3  0                  NaT  \n",
       "                                                   4  0                  NaT  \n",
       "                                                   5  0                  NaT  \n",
       "                                                   6  0                  NaT  \n",
       "                                                   7  0                  NaT  \n",
       "                                                   10 0                  NaT  "
      ]
     },
     "execution_count": 31,
     "metadata": {},
     "output_type": "execute_result"
    }
   ],
   "source": [
    "    def tagParse(str):\n",
    "        str = (str or '').strip()\n",
    "#         if '/' in str: return tagParse(str.split('/', 1)[0])\n",
    "        try:\n",
    "            time = to_datetime(str+'-01-01' if str.isnumeric() else str)\n",
    "            if time is not NaT: return time\n",
    "        except ValueError: pass\n",
    "        return str\n",
    "\n",
    "    references.title.str.split(',', expand=True).applymap(tagParse)"
   ]
  },
  {
   "cell_type": "code",
   "execution_count": 31,
   "metadata": {},
   "outputs": [
    {
     "data": {
      "text/markdown": [
       "## To Do\n",
       "\n",
       "* Create an identifier system.\n",
       "* Extract the dates."
      ],
      "text/plain": [
       "<IPython.core.display.Markdown object>"
      ]
     },
     "metadata": {},
     "output_type": "display_data"
    }
   ],
   "source": [
    "## To Do\n",
    "\n",
    "* Create an identifier system.\n",
    "* Extract the dates."
   ]
  },
  {
   "cell_type": "code",
   "execution_count": null,
   "metadata": {},
   "outputs": [],
   "source": []
  }
 ],
 "metadata": {
  "kernelspec": {
   "display_name": "Python 3",
   "language": "python",
   "name": "python3"
  },
  "language_info": {
   "codemirror_mode": {
    "name": "ipython",
    "version": 3
   },
   "file_extension": ".py",
   "mimetype": "text/x-python",
   "name": "python",
   "nbconvert_exporter": "python",
   "pygments_lexer": "ipython3",
   "version": "3.5.3"
  }
 },
 "nbformat": 4,
 "nbformat_minor": 2
}
