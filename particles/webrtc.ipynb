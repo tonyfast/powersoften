{
 "cells": [
  {
   "cell_type": "markdown",
   "metadata": {},
   "source": [
    "# WebRTC\n",
    "WebRTC is a peer-to-peer protocol for streaming content (often video) between multiple clients (usually browsers)\n",
    "\n",
    "    !jupyter lab clean\n",
    "    !jupyter labextension install @jupyter-widgets/jupyterlab-manager\n",
    "    !jupyter labextension install `pwd`/../labextensions/jupyter-webrtc-jupyterlab-0.1.0.tgz"
   ]
  },
  {
   "cell_type": "code",
   "execution_count": 1,
   "metadata": {
    "collapsed": true
   },
   "outputs": [],
   "source": [
    "%load_ext literacy.template"
   ]
  },
  {
   "cell_type": "code",
   "execution_count": 28,
   "metadata": {},
   "outputs": [
    {
     "data": {
      "text/markdown": [
       "# [ipywebrtc](https://github.com/maartenbreddels/ipywebrtc  jupyter,2017-08-10)\n",
       "\n",
       "    from IPython.display import *; from ipywidgets import Button, HBox; import ipywebrtc\n",
       "    cam, button = ipywebrtc.CameraStream(audio=False), Button(description='stop')\n",
       "    display(HBox(children=[cam, button.on_click(lambda *_: cam.close()) or button]))"
      ],
      "text/plain": [
       "<IPython.core.display.Markdown object>"
      ]
     },
     "metadata": {},
     "output_type": "display_data"
    },
    {
     "data": {
      "application/vnd.jupyter.widget-view+json": {
       "model_id": "2359478346a04266ab339aa0cfab373a",
       "version_major": 2,
       "version_minor": 0
      },
      "text/plain": [
       "A Jupyter Widget"
      ]
     },
     "metadata": {},
     "output_type": "display_data"
    }
   ],
   "source": [
    "# [ipywebrtc](https://github.com/maartenbreddels/ipywebrtc  jupyter,2017-08-10)\n",
    "\n",
    "    from IPython.display import *; from ipywidgets import Button, HBox; import ipywebrtc\n",
    "    cam, button = ipywebrtc.CameraStream(audio=False), Button(description='stop')\n",
    "    display(HBox(children=[cam, button.on_click(lambda *_: cam.close()) or button]))"
   ]
  },
  {
   "cell_type": "code",
   "execution_count": 15,
   "metadata": {
    "scrolled": true
   },
   "outputs": [
    {
     "data": {
      "text/markdown": [
       "    #!jupyter lab clean\n",
       "    #!jupyter labextension install @jupyter-widgets/jupyterlab-manager\n",
       "    #!jupyter labextension install `pwd`/../labextensions/jupyter-webrtc-jupyterlab-0.1.0.tgz"
      ],
      "text/plain": [
       "<IPython.core.display.Markdown object>"
      ]
     },
     "metadata": {},
     "output_type": "display_data"
    }
   ],
   "source": [
    "    #!jupyter lab clean\n",
    "    #!jupyter labextension install @jupyter-widgets/jupyterlab-manager\n",
    "    #!jupyter labextension install `pwd`/../labextensions/jupyter-webrtc-jupyterlab-0.1.0.tgz"
   ]
  },
  {
   "cell_type": "code",
   "execution_count": null,
   "metadata": {
    "collapsed": true
   },
   "outputs": [],
   "source": []
  }
 ],
 "metadata": {
  "kernelspec": {
   "display_name": "Python 3",
   "language": "python",
   "name": "python3"
  },
  "language_info": {
   "codemirror_mode": {
    "name": "ipython",
    "version": 3
   },
   "file_extension": ".py",
   "mimetype": "text/x-python",
   "name": "python",
   "nbconvert_exporter": "python",
   "pygments_lexer": "ipython3",
   "version": "3.5.3"
  }
 },
 "nbformat": 4,
 "nbformat_minor": 2
}
