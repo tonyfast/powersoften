{
 "cells": [
  {
   "cell_type": "code",
   "execution_count": 3,
   "metadata": {},
   "outputs": [
    {
     "data": {
      "text/markdown": [
       "# [Powers ofTen and the relative size of things in science](# \"Nick and Tony\")\n",
       "\n",
       "#### Nick Bollweg and Tony Fast\n",
       "\n",
       "Science, and its application to engineering, policy, and business, ultimately affects people and communities. In solving new problems, while we may make use of ever more data and computers, we must also have greater impact and reach for people.  Open science, along with open source software and open data, continues to expand the frontiers of innovation.\n",
       "\n",
       "Join Nick and Tony in traversing the powers of ten with data-driven stories.  Experts in visual problem solving with Jupyter, Nick and Tony have explored problems across technology silos, length scales, and disciplines.  Together, we hope to provide a rough map of what might be on open science’s frontier of reusable, computable information, or, failing that, a style guide for any citizen scientist looking to access new powers often from the cutting edges of open science and software.\n",
       "\n",
       "<iframe width=\"640\" height=\"360\" src=\"https://www.youtube.com/embed/0fKBhvDjuy0\" frameborder=\"0\" allowfullscreen></iframe>"
      ],
      "text/plain": [
       "<IPython.core.display.Markdown object>"
      ]
     },
     "metadata": {},
     "output_type": "display_data"
    }
   ],
   "source": [
    "# [Powers ofTen and the relative size of things in science](# \"Nick and Tony\")\n",
    "\n",
    "#### Nick Bollweg and Tony Fast\n",
    "\n",
    "Science, and its application to engineering, policy, and business, ultimately affects people and communities. In solving new problems, while we may make use of ever more data and computers, we must also have greater impact and reach for people.  Open science, along with open source software and open data, continues to expand the frontiers of innovation.\n",
    "\n",
    "Join Nick and Tony in traversing the powers of ten with data-driven stories.  Experts in visual problem solving with Jupyter, Nick and Tony have explored problems across technology silos, length scales, and disciplines.  Together, we hope to provide a rough map of what might be on open science’s frontier of reusable, computable information, or, failing that, a style guide for any citizen scientist looking to access new powers often from the cutting edges of open science and software."
   ]
  }
 ],
 "metadata": {
  "kernelspec": {
   "display_name": "Python 3",
   "language": "python",
   "name": "python3"
  },
  "language_info": {
   "codemirror_mode": {
    "name": "ipython",
    "version": 3
   },
   "file_extension": ".py",
   "mimetype": "text/x-python",
   "name": "python",
   "nbconvert_exporter": "python",
   "pygments_lexer": "ipython3",
   "version": "3.5.3"
  }
 },
 "nbformat": 4,
 "nbformat_minor": 2
}
