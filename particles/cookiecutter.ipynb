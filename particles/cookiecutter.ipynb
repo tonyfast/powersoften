{
 "cells": [
  {
   "cell_type": "code",
   "execution_count": 2,
   "metadata": {
    "collapsed": true
   },
   "outputs": [],
   "source": [
    "    %load_ext literacy.template\n",
    "\n",
    "    %matplotlib inline"
   ]
  },
  {
   "cell_type": "code",
   "execution_count": 3,
   "metadata": {
    "collapsed": true
   },
   "outputs": [],
   "source": [
    "This project `imports = 'articles, matplotlib.pyplot, networkx, nbformat.v4, nbformat'`.\n",
    "\n",
    "> `split = \\` is a utility `lambda s: list(map(str.strip, s.\\` to `split(',')))` separated  strings."
   ]
  },
  {
   "cell_type": "code",
   "execution_count": 4,
   "metadata": {
    "collapsed": true
   },
   "outputs": [],
   "source": [
    "Import the `assert imports` here. _Leave the first line blank to supress the output_.\n",
    "\n",
    "    {% for _ in split(imports) %}from {{_}} import *; {% endfor %}"
   ]
  },
  {
   "cell_type": "code",
   "execution_count": 5,
   "metadata": {
    "collapsed": true
   },
   "outputs": [],
   "source": [
    "# The `process = 'design, systems, materials, community, media, culture'`\n",
    "    \n",
    "    processes = split(process)"
   ]
  },
  {
   "cell_type": "code",
   "execution_count": 6,
   "metadata": {
    "collapsed": true
   },
   "outputs": [],
   "source": [
    "    segments = (\n",
    "        the.range().map(\n",
    "            lambda x: the.cycle(processes).do(a[[next]*x])[\n",
    "                next, the[[next], [next]*2, [next]*3].map(tuple).tuple()\n",
    "            ]()).dict())(6)"
   ]
  },
  {
   "cell_type": "code",
   "execution_count": 121,
   "metadata": {
    "collapsed": true
   },
   "outputs": [],
   "source": [
    "    def make_notebook(object, dir='../renci2'):\n",
    "        dir = a.Path()(dir)\n",
    "        nb = new_notebook()\n",
    "        key, value = object\n",
    "        nb.cells.append(\n",
    "            new_markdown_cell(a[str.capitalize][\"\"\"# [{}]()\"\"\".format](key), metadata=dict(\n",
    "                slideshow=dict(slide_type='slide'))))\n",
    "        nb.cells.append(\n",
    "            new_code_cell(a[str.capitalize][\"\"\"%load_ext literacy.template\\nimport style\"\"\".format](key), metadata=dict(\n",
    "                slideshow=dict(slide_type='skip'))))\n",
    "        for section, topic in enumerate(value): \n",
    "            for slide, header in enumerate(topic): (\n",
    "                λ[str.capitalize][\"\"\"## [{}]()\"\"\".format][\n",
    "                    the(metadata=dict(slideshow=dict(slide_type=['subslide', 'slide'][slide is 0])))[new_code_cell]\n",
    "                ][nb.cells.append]\n",
    "            )(header)\n",
    "        \n",
    "        if not dir.is_dir(): dir.mkdir()\n",
    "        file = (dir / key).with_suffix('.ipynb')\n",
    "        return file.write_text(writes(nb)) and file\n",
    "\n",
    "    %cp ../particles/style.ipynb ../renci/\n",
    "    files = list(map(make_notebook, segments.copy().items()))"
   ]
  },
  {
   "cell_type": "code",
   "execution_count": 122,
   "metadata": {
    "collapsed": true
   },
   "outputs": [],
   "source": [
    "    from pathlib import Path"
   ]
  },
  {
   "cell_type": "code",
   "execution_count": 125,
   "metadata": {},
   "outputs": [
    {
     "name": "stdout",
     "output_type": "stream",
     "text": [
      "Writing ../renci/__init__.py\n"
     ]
    }
   ],
   "source": [
    "    %%file ../renci/__init__.py\n",
    "    __import__('importable').load_ipython_extension()"
   ]
  },
  {
   "cell_type": "code",
   "execution_count": 123,
   "metadata": {},
   "outputs": [
    {
     "data": {
      "text/plain": [
       "271"
      ]
     },
     "execution_count": 123,
     "metadata": {},
     "output_type": "execute_result"
    }
   ],
   "source": [
    "    nb = new_notebook()\n",
    "    nb.cells.append(\n",
    "        new_code_cell(\"\"\"    !jupyter nbconvert --inplace --config=config.py ../renci/[^r,i]*.ipynb\"\"\"))\n",
    "    Path('../renci/readme.ipynb').write_text(writes(nb))"
   ]
  },
  {
   "cell_type": "code",
   "execution_count": 124,
   "metadata": {},
   "outputs": [
    {
     "data": {
      "text/plain": [
       "8335"
      ]
     },
     "execution_count": 124,
     "metadata": {},
     "output_type": "execute_result"
    }
   ],
   "source": [
    "    nb = new_notebook()\n",
    "    for f in processes:\n",
    "        a[Path][Path.read_text][a(as_version=4)[reads]].get('cells')[nb.cells.extend]('../renci/{}.ipynb'.format(f))\n",
    "\n",
    "    cells = [\n",
    "        new_code_cell(\"\"\"%load literacy\\nimport style\"\"\", metadata=dict(slideshow=dict(slide_type='skip')))\n",
    "    ]\n",
    "    for i, cell in enumerate(nb.cells):\n",
    "        if cell['source'][0].startswith('%'): continue\n",
    "        if cell['cell_type'] =='code':\n",
    "            cell['metadata']['slideshow']['slide_type'] = 'subslide'\n",
    "        cells.append(cell)\n",
    "    nb.cells = cells\n",
    "    Path('../renci2/index.ipynb').write_text(writes(nb))"
   ]
  }
 ],
 "metadata": {
  "kernelspec": {
   "display_name": "Python 3",
   "language": "python",
   "name": "python3"
  },
  "language_info": {
   "codemirror_mode": {
    "name": "ipython",
    "version": 3
   },
   "file_extension": ".py",
   "mimetype": "text/x-python",
   "name": "python",
   "nbconvert_exporter": "python",
   "pygments_lexer": "ipython3",
   "version": "3.5.3"
  }
 },
 "nbformat": 4,
 "nbformat_minor": 2
}
