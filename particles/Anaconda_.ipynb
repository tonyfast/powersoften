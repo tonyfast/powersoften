{
 "cells": [
  {
   "cell_type": "markdown",
   "metadata": {},
   "source": [
    "# Anaconda Distribution 5.0\n",
    "\n",
    "Starting with 5.0, the Anaconda Distribution utilizes best-of-breed compilers for more reproducible code, all compatible with community-lead efforts like [Conda Forge](Conda Forge.ipynb)."
   ]
  },
  {
   "cell_type": "code",
   "execution_count": 31,
   "metadata": {
    "collapsed": true
   },
   "outputs": [],
   "source": [
    "    from IPython.display import *; from articles import *; from pandas import *"
   ]
  },
  {
   "cell_type": "code",
   "execution_count": 21,
   "metadata": {
    "collapsed": true
   },
   "outputs": [],
   "source": [
    "    url = 'https://repo.continuum.io/pkgs/main/linux-64/repodata.json'"
   ]
  },
  {
   "cell_type": "code",
   "execution_count": 27,
   "metadata": {},
   "outputs": [],
   "source": [
    "    path = a.Path('../particles/repodata.json')()\n",
    "    if not path.exists():\n",
    "        data = a.request('get')[this().json()['packages']][dict.values, dict.keys].map(list)[star()[DataFrame]](url)\n",
    "        data.to_csv(path)\n",
    "    df = read_csv(path)"
   ]
  },
  {
   "cell_type": "code",
   "execution_count": 32,
   "metadata": {},
   "outputs": [
    {
     "data": {
      "text/markdown": [
       "## There are 476 packages in the Anaconda Distribution 5.0"
      ],
      "text/plain": [
       "<IPython.core.display.Markdown object>"
      ]
     },
     "execution_count": 32,
     "metadata": {},
     "output_type": "execute_result"
    }
   ],
   "source": [
    "    display(Markdown(\n",
    "        \"## There are {} packages in the Anaconda Distribution 5.0\".format(\n",
    "            len(df.name.drop_duplicates()))))"
   ]
  }
 ],
 "metadata": {
  "kernelspec": {
   "display_name": "Python 3",
   "language": "python",
   "name": "python3"
  },
  "language_info": {
   "codemirror_mode": {
    "name": "ipython",
    "version": 3
   },
   "file_extension": ".py",
   "mimetype": "text/x-python",
   "name": "python",
   "nbconvert_exporter": "python",
   "pygments_lexer": "ipython3",
   "version": "3.5.3"
  }
 },
 "nbformat": 4,
 "nbformat_minor": 2
}
