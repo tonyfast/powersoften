{
 "cells": [
  {
   "cell_type": "code",
   "execution_count": 1,
   "metadata": {},
   "outputs": [],
   "source": [
    "    %reload_ext autoreload\n",
    "    %autoreload 2\n",
    "    from setuptools import find_packages\n",
    "    packages = find_packages('..')\n",
    "    from articles import *\n",
    "    from toolz.curried import *\n",
    "    from pandas import *\n",
    "    from IPython.display import *\n",
    "    from importlib import import_module\n",
    "    IFrame = partial(IFrame, width=600, height=400)\n"
   ]
  },
  {
   "cell_type": "code",
   "execution_count": 2,
   "metadata": {},
   "outputs": [],
   "source": [
    "    topics = 'design, systems, materials, community, media, culture'\n",
    "\n",
    "    constraints = 'functional, geographical, physical, people, sensory, time'\n",
    "    \n",
    "\n",
    "    topics, constraints = map(lambda ___: ___.replace(' ', '').split(','),[topics, constraints])"
   ]
  },
  {
   "cell_type": "code",
   "execution_count": 3,
   "metadata": {},
   "outputs": [
    {
     "ename": "IndentationError",
     "evalue": "unexpected indent (<ipython-input-3-5d96803b45ee>, line 2)",
     "output_type": "error",
     "traceback": [
      "\u001b[0;36m  File \u001b[0;32m\"<ipython-input-3-5d96803b45ee>\"\u001b[0;36m, line \u001b[0;32m2\u001b[0m\n\u001b[0;31m    df = concat([Series(\u001b[0m\n\u001b[0m    ^\u001b[0m\n\u001b[0;31mIndentationError\u001b[0m\u001b[0;31m:\u001b[0m unexpected indent\n"
     ]
    }
   ],
   "source": [
    "        \n",
    "    df = concat([Series(\n",
    "        a.cycle().do(the[[next]*(i+1)]).take(6).list()(topics), \n",
    "        MultiIndex.from_arrays([range(6), topics], names=['order', 'topic']), name=topics[i]).rename(constraints[i])\n",
    "        for i in range(len(topics))], axis=1).pipe(lambda df: setattr(df, 'columns', df.columns.rename('constraints'))or df)\n",
    "    df"
   ]
  },
  {
   "cell_type": "code",
   "execution_count": null,
   "metadata": {
    "collapsed": true
   },
   "outputs": [],
   "source": [
    "    def Import(pkg, default='particles', main='renci'):\n",
    "        pkg = (pkg.startswith('.') and default or '') + pkg\n",
    "        return import_module(pkg)"
   ]
  },
  {
   "cell_type": "code",
   "execution_count": null,
   "metadata": {
    "collapsed": true,
    "slideshow": {
     "slide_type": "slide"
    }
   },
   "outputs": [],
   "source": [
    "    rise_src_css = \"\"\"<style>\n",
    "    body.rise-hack-active div.reveal .code_cell .input,\n",
    "    body.rise-hack-active div.reveal .output_stderr {\n",
    "        display: none;\n",
    "    }\n",
    "    button.rise-hack:hover {\n",
    "        opacity: 0.7;\n",
    "    }\n",
    "    button.rise-hack {\n",
    "        font-weight: bold;\n",
    "    }\n",
    "    body.rise-hack-active button.rise-hack {\n",
    "        text-decoration: line-through;\n",
    "    }\n",
    "    body.rise-hack-active .reveal .rendered_html table {\n",
    "        font-size: 16px;\n",
    "    }\n",
    "    body.rise-hack-active .reveal .prompt {\n",
    "        display: none;\n",
    "    }\n",
    "    </style>\"\"\""
   ]
  },
  {
   "cell_type": "code",
   "execution_count": null,
   "metadata": {
    "collapsed": true,
    "slideshow": {
     "slide_type": "-"
    }
   },
   "outputs": [],
   "source": [
    "    rise_src_js = \"\"\";(function(){\n",
    "        function init() {   \n",
    "            $(\"button.rise-hack\").remove();\n",
    "            $(\"body\").addClass(\"rise-hack-active\");\n",
    "            var btn = $(\"<button/>\", {\"class\": \"rise-hack\"}).text(\"</>\");\n",
    "            btn.bind(\"click\", function(){\n",
    "                $(\"body\").toggleClass(\"rise-hack-active\");\n",
    "                Reveal.layout();\n",
    "            });\n",
    "            $(\".controls\").append(btn);\n",
    "        }\n",
    "\n",
    "        function subscribe(){\n",
    "            if(!window.Reveal){\n",
    "                return setTimeout(subscribe, 1000);\n",
    "            }\n",
    "            Reveal.addEventListener('ready', init);\n",
    "            init();\n",
    "        }\n",
    "        subscribe();   \n",
    "    }).call(this);\"\"\""
   ]
  },
  {
   "cell_type": "code",
   "execution_count": null,
   "metadata": {
    "collapsed": true,
    "slideshow": {
     "slide_type": "slide"
    }
   },
   "outputs": [],
   "source": [
    "    css = \"\"\"<style>\n",
    "        iframe {\n",
    "            width: 100%;\n",
    "            min-height: 80vh;\n",
    "            max-height: 1000px;\n",
    "        }\n",
    "    </style>\"\"\""
   ]
  },
  {
   "cell_type": "code",
   "execution_count": null,
   "metadata": {},
   "outputs": [],
   "source": [
    "    display(HTML(css), HTML(rise_src_css), Javascript(rise_src_js))"
   ]
  },
  {
   "cell_type": "code",
   "execution_count": null,
   "metadata": {
    "collapsed": true
   },
   "outputs": [],
   "source": [
    "    def imgs(imgs):\n",
    "        return HTML(\"<div class='row'>\"+(\n",
    "            ''.join(\n",
    "                \"\"\"<div class=\"col col-sm-4\">\n",
    "                <div class=\"row\"><h3><a href=\"{0}\">{1}</a></h3><br></div><div class=\"row\"><img src=\"{2}\"></img></div>\n",
    "                </div>\"\"\".format(*img)\n",
    "                for img in imgs\n",
    "            )\n",
    "        )+\"</div>\")\n",
    "    \n",
    "    # [\n",
    "    #     (\n",
    "    #         \"https://en.m.wikipedia.org/wiki/Code_of_Hammurabi\",\n",
    "    #         \"Code of Hammurabi\",\n",
    "    #         'https://upload.wikimedia.org/wikipedia/commons/thumb/5/58/Code-de-Hammurabi-1.jpg/220px-Code-de-Hammurabi-1.jpg',\n",
    "    #     ),\n",
    "    #     (\n",
    "    #         'https://en.wikipedia.org/wiki/Rosetta_Stone',\n",
    "    #         'Rosetta Stone',\n",
    "    #         'https://upload.wikimedia.org/wikipedia/commons/thumb/2/23/Rosetta_Stone.JPG/270px-Rosetta_Stone.JPG'\n",
    "    #     )\n",
    "    # ]"
   ]
  },
  {
   "cell_type": "code",
   "execution_count": null,
   "metadata": {
    "collapsed": true
   },
   "outputs": [],
   "source": []
  }
 ],
 "metadata": {
  "celltoolbar": "Slideshow",
  "kernelspec": {
   "display_name": "Python 3",
   "language": "python",
   "name": "python3"
  },
  "language_info": {
   "codemirror_mode": {
    "name": "ipython",
    "version": 3
   },
   "file_extension": ".py",
   "mimetype": "text/x-python",
   "name": "python",
   "nbconvert_exporter": "python",
   "pygments_lexer": "ipython3",
   "version": "3.5.3"
  }
 },
 "nbformat": 4,
 "nbformat_minor": 2
}
