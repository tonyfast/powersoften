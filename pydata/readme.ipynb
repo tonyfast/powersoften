{
 "cells": [
  {
   "cell_type": "markdown",
   "metadata": {
    "slideshow": {
     "slide_type": "slide"
    }
   },
   "source": [
    "# A Presentation for RENCI\n",
    "\n",
    "November 1, 2017\n",
    "\n",
    "The Nick and Tony Show\n",
    "\n",
    "RIPx"
   ]
  },
  {
   "cell_type": "code",
   "execution_count": 5,
   "metadata": {
    "slideshow": {
     "slide_type": "slide"
    }
   },
   "outputs": [
    {
     "data": {
      "text/markdown": [
       "    from IPython.display import *\n",
       "    from pydata.style import *\n",
       "    %load_ext literacy.template\n",
       "    from nbformat.v4 import *; from pathlib import Path; from articles import *; from nbformat import *"
      ],
      "text/plain": [
       "<IPython.core.display.Markdown object>"
      ]
     },
     "metadata": {},
     "output_type": "display_data"
    },
    {
     "name": "stdout",
     "output_type": "stream",
     "text": [
      "The literacy.template extension is already loaded. To reload it, use:\n",
      "  %reload_ext literacy.template\n"
     ]
    }
   ],
   "source": [
    "    from IPython.display import *\n",
    "    from pydata.style import *\n",
    "    %load_ext literacy.template\n",
    "    from nbformat.v4 import *; from pathlib import Path; from articles import *; from nbformat import *"
   ]
  },
  {
   "cell_type": "code",
   "execution_count": 6,
   "metadata": {
    "slideshow": {
     "slide_type": "slide"
    }
   },
   "outputs": [
    {
     "data": {
      "text/markdown": [
       "    %%file config.py\n",
       "    c.Exporter.preprocessors = ['literacy.Execute']"
      ],
      "text/plain": [
       "<IPython.core.display.Markdown object>"
      ]
     },
     "metadata": {},
     "output_type": "display_data"
    },
    {
     "name": "stdout",
     "output_type": "stream",
     "text": [
      "Overwriting config.py\n"
     ]
    }
   ],
   "source": [
    "    %%file config.py\n",
    "    c.Exporter.preprocessors = ['literacy.Execute']"
   ]
  },
  {
   "cell_type": "code",
   "execution_count": 7,
   "metadata": {
    "slideshow": {
     "slide_type": "slide"
    }
   },
   "outputs": [
    {
     "data": {
      "text/markdown": [
       "# Topics\n",
       "\n",
       "The major `topics = 'intro, design, systems, materials, community, media, culture'.replace(' ','').split(',')`.  "
      ],
      "text/plain": [
       "<IPython.core.display.Markdown object>"
      ]
     },
     "metadata": {},
     "output_type": "display_data"
    }
   ],
   "source": [
    "# Topics\n",
    "\n",
    "The major `topics = 'intro, design, systems, materials, community, media, culture'.replace(' ','').split(',')`.  "
   ]
  },
  {
   "cell_type": "code",
   "execution_count": 7,
   "metadata": {
    "slideshow": {
     "slide_type": "slide"
    }
   },
   "outputs": [
    {
     "data": {
      "text/markdown": [
       "* [intro.ipynb](intro.ipynb \"intro\")\n",
       "* [design.ipynb](design.ipynb \"design\")\n",
       "* [systems.ipynb](systems.ipynb \"systems\")\n",
       "* [materials.ipynb](materials.ipynb \"materials\")\n",
       "* [community.ipynb](community.ipynb \"community\")\n",
       "* [media.ipynb](media.ipynb \"media\")\n",
       "* [culture.ipynb](culture.ipynb \"culture\")\n"
      ],
      "text/plain": [
       "<IPython.core.display.Markdown object>"
      ]
     },
     "metadata": {},
     "output_type": "display_data"
    }
   ],
   "source": [
    "{% for topic in topics %}* [{{topic}}.ipynb]({{topic}}.ipynb \"{{topic}}\")\n",
    "{% endfor %}"
   ]
  },
  {
   "cell_type": "code",
   "execution_count": 8,
   "metadata": {},
   "outputs": [
    {
     "data": {
      "text/markdown": [
       "    %%file rise.py\n",
       "    c['livereveal']= {\n",
       "      \"width\": 800,\n",
       "      \"height\": 600,\n",
       "    }\n",
       "#     c.TemplateExporter.exclude_input=True \n",
       "    c.SlidesExporter.reveal_url_prefix=\"https://cdn.jsdelivr.net/npm/reveal.js@3.5.0\""
      ],
      "text/plain": [
       "<IPython.core.display.Markdown object>"
      ]
     },
     "metadata": {},
     "output_type": "display_data"
    },
    {
     "name": "stdout",
     "output_type": "stream",
     "text": [
      "Overwriting rise.py\n"
     ]
    }
   ],
   "source": [
    "    %%file rise.py\n",
    "    c['livereveal']= {\n",
    "      \"width\": 800,\n",
    "      \"height\": 600,\n",
    "    }\n",
    "#     c.TemplateExporter.exclude_input=True \n",
    "    c.SlidesExporter.reveal_url_prefix=\"https://cdn.jsdelivr.net/npm/reveal.js@3.5.0\""
   ]
  },
  {
   "cell_type": "code",
   "execution_count": 9,
   "metadata": {
    "scrolled": false,
    "slideshow": {
     "slide_type": "slide"
    }
   },
   "outputs": [
    {
     "data": {
      "text/markdown": [
       "## Auto Generate the output\n",
       "\n",
       "For each topic:\n",
       "\n",
       "1. Execute notebook.\n",
       "2. Trust the notebook so we can see iframes and html segments.\n",
       "3. Convert each notebook to it's own presentation.\n",
       "\n",
       "> __doit__ would be useful here.\n",
       "\n",
       " \n",
       "    !jupyter nbconvert --to slides --config rise.py  intro.ipynb \n",
       "    !jupyter nbconvert --to slides --config rise.py  design.ipynb \n",
       "    !jupyter nbconvert --to slides --config rise.py  systems.ipynb \n",
       "    !jupyter nbconvert --to slides --config rise.py  materials.ipynb \n",
       "    !jupyter nbconvert --to slides --config rise.py  community.ipynb \n",
       "    !jupyter nbconvert --to slides --config rise.py  media.ipynb \n",
       "    !jupyter nbconvert --to slides --config rise.py  culture.ipynb\n",
       "\n",
       "    nb = new_notebook()    \n",
       "    for topic in topics:\n",
       "        cells = reads(Path(topic).with_suffix('.ipynb').read_text(), 4).cells\n",
       "        for i, cell in enumerate(cells):\n",
       "            if 'slideshow' in cell['metadata'] and cell['metadata']['slideshow']['slide_type'] != 'skip':\n",
       "                if i>0 and cell['cell_type'] == 'code' and cell['metadata']['slideshow']['slide_type'] =='slide': \n",
       "                    cell['metadata']['slideshow']['slide_type'] = 'subslide'\n",
       "                nb.cells.append(cell)\n",
       "    nb.cells.append(new_code_cell(\"import style\", outputs=[new_output('display_data', {'text/html': [css]})]))\n",
       "    Path('full.ipynb').write_text(writes(nb))\n",
       "    !jupyter nbconvert --to slides --config rise.py --stdout full.ipynb > ../index.html"
      ],
      "text/plain": [
       "<IPython.core.display.Markdown object>"
      ]
     },
     "metadata": {},
     "output_type": "display_data"
    },
    {
     "name": "stdout",
     "output_type": "stream",
     "text": [
      "[NbConvertApp] Converting notebook intro.ipynb to slides\n",
      "[NbConvertApp] Writing 271115 bytes to intro.slides.html\n",
      "[NbConvertApp] Converting notebook design.ipynb to slides\n",
      "[NbConvertApp] Writing 326045 bytes to design.slides.html\n",
      "[NbConvertApp] Converting notebook systems.ipynb to slides\n",
      "[NbConvertApp] Writing 293983 bytes to systems.slides.html\n",
      "[NbConvertApp] Converting notebook materials.ipynb to slides\n",
      "[NbConvertApp] Writing 1461536 bytes to materials.slides.html\n",
      "[NbConvertApp] Converting notebook community.ipynb to slides\n",
      "[NbConvertApp] Writing 347377 bytes to community.slides.html\n",
      "[NbConvertApp] Converting notebook media.ipynb to slides\n",
      "[NbConvertApp] Writing 443710 bytes to media.slides.html\n",
      "[NbConvertApp] Converting notebook culture.ipynb to slides\n",
      "[NbConvertApp] Writing 281697 bytes to culture.slides.html\n",
      "[NbConvertApp] Converting notebook full.ipynb to slides\n"
     ]
    }
   ],
   "source": [
    "## Auto Generate the output\n",
    "\n",
    "For each topic:\n",
    "\n",
    "1. Execute notebook.\n",
    "2. Trust the notebook so we can see iframes and html segments.\n",
    "3. Convert each notebook to it's own presentation.\n",
    "\n",
    "> __doit__ would be useful here.\n",
    "\n",
    "{% for topic in topics[:] %} \n",
    "    !jupyter nbconvert --to slides --config rise.py  {{topic}}.ipynb{% endfor %}\n",
    "\n",
    "    nb = new_notebook()    \n",
    "    for topic in topics:\n",
    "        cells = reads(Path(topic).with_suffix('.ipynb').read_text(), 4).cells\n",
    "        for i, cell in enumerate(cells):\n",
    "            if 'slideshow' in cell['metadata'] and cell['metadata']['slideshow']['slide_type'] != 'skip':\n",
    "                if i>0 and cell['cell_type'] == 'code' and cell['metadata']['slideshow']['slide_type'] =='slide': \n",
    "                    cell['metadata']['slideshow']['slide_type'] = 'subslide'\n",
    "                nb.cells.append(cell)\n",
    "    nb.cells.append(new_code_cell(\"import style\", outputs=[new_output('display_data', {'text/html': [css]})]))\n",
    "    Path('full.ipynb').write_text(writes(nb))\n",
    "    !jupyter nbconvert --to slides --config rise.py --stdout full.ipynb > ../index.html"
   ]
  },
  {
   "cell_type": "code",
   "execution_count": 10,
   "metadata": {
    "slideshow": {
     "slide_type": "slide"
    }
   },
   "outputs": [
    {
     "data": {
      "text/markdown": [
       "## [The Master Static Presentation](index.slides.html)\n",
       "\n",
       "\n",
       "Create `nb = new_notebook()` so that `nb.cells.extend(` can create\n",
       "new code cells\n",
       "                                                      \n",
       "    [\n",
       "        new_code_cell(\n",
       "            \n",
       "with custom __display_data__\n",
       "            \n",
       "        \"\"\"# {}\"\"\".format(topic), outputs=[new_output('display_data', {\n",
       "            \"text/html\": [\n",
       "                \n",
       "creating an IFrame for __topic__, *.nbconvert.slides.html` is artifact from the __nbconvert__\n",
       "steps above\n",
       "                \n",
       "                IFrame(\"{}.ipynb\".format(topic))._repr_html_()\n",
       "            ]\n",
       "        })], \n",
       "\n",
       "Make each IFrame their own slide.\n",
       "            \n",
       "        metadata=dict(\n",
       "            slideshow=dict(slide_type=[\"subslide\", \"slide\"][i is 0])\n",
       "        )) for _topic in [\n",
       "            topics[:1], topics[1:3], topics[3:]\n",
       "        ] for i, topic in enumerate(_topic)])"
      ],
      "text/plain": [
       "<IPython.core.display.Markdown object>"
      ]
     },
     "metadata": {},
     "output_type": "display_data"
    }
   ],
   "source": [
    "## [The Master Static Presentation](index.slides.html)\n",
    "\n",
    "\n",
    "Create `nb = new_notebook()` so that `nb.cells.extend(` can create\n",
    "new code cells\n",
    "                                                      \n",
    "    [\n",
    "        new_code_cell(\n",
    "            \n",
    "with custom __display_data__\n",
    "            \n",
    "        \"\"\"# {}\"\"\".format(topic), outputs=[new_output('display_data', {\n",
    "            \"text/html\": [\n",
    "                \n",
    "creating an IFrame for __topic__, *.nbconvert.slides.html` is artifact from the __nbconvert__\n",
    "steps above\n",
    "                \n",
    "                IFrame(\"{}.ipynb\".format(topic))._repr_html_()\n",
    "            ]\n",
    "        })], \n",
    "\n",
    "Make each IFrame their own slide.\n",
    "            \n",
    "        metadata=dict(\n",
    "            slideshow=dict(slide_type=[\"subslide\", \"slide\"][i is 0])\n",
    "        )) for _topic in [\n",
    "            topics[:1], topics[1:3], topics[3:]\n",
    "        ] for i, topic in enumerate(_topic)])"
   ]
  },
  {
   "cell_type": "code",
   "execution_count": 12,
   "metadata": {
    "slideshow": {
     "slide_type": "slide"
    }
   },
   "outputs": [
    {
     "data": {
      "text/markdown": [
       "Append the custom styling we are using in all of the notebooks.\n",
       "\n",
       "    nb.cells[-1].outputs[0]['data']['text/html'].append(css)\n",
       "    nb.cells[-1].outputs[0]['data']['text/html'].append(\"\"\"<style>.code_cell .input {display: none;}</style>\"\"\")\n",
       "    \n",
       "Write this custom notebook to disk \n",
       "    \n",
       "    Path('index.ipynb').write_text(writes(nb))\n",
       "\n",
       "Finally, __trust__ and convert the slide.\n",
       "    \n",
       "    !jupyter trust index.ipynb\n",
       "    !jupyter nbconvert index.ipynb \n",
       "    !jupyter nbconvert --to slides --SlidesExporter.reveal_url_prefix=https://cdn.jsdelivr.net/npm/reveal.js@3.5.0 index.ipynb   \n",
       "    !cp index.slides.html index.html"
      ],
      "text/plain": [
       "<IPython.core.display.Markdown object>"
      ]
     },
     "metadata": {},
     "output_type": "display_data"
    },
    {
     "name": "stdout",
     "output_type": "stream",
     "text": [
      "Signing notebook: index.ipynb\n",
      "[NbConvertApp] Converting notebook index.ipynb to html\n",
      "[NbConvertApp] Writing 254006 bytes to index.html\n",
      "[NbConvertApp] Converting notebook index.ipynb to slides\n",
      "[NbConvertApp] Writing 259342 bytes to index.slides.html\n"
     ]
    }
   ],
   "source": [
    "Append the custom styling we are using in all of the notebooks.\n",
    "\n",
    "    nb.cells[-1].outputs[0]['data']['text/html'].append(css)\n",
    "    nb.cells[-1].outputs[0]['data']['text/html'].append(\"\"\"<style>.code_cell .input {display: none;}</style>\"\"\")\n",
    "    \n",
    "Write this custom notebook to disk \n",
    "    \n",
    "    Path('index.ipynb').write_text(writes(nb))\n",
    "\n",
    "Finally, __trust__ and convert the slide.\n",
    "    \n",
    "    !jupyter trust index.ipynb\n",
    "    !jupyter nbconvert index.ipynb \n",
    "    !jupyter nbconvert --to slides --SlidesExporter.reveal_url_prefix=https://cdn.jsdelivr.net/npm/reveal.js@3.5.0 index.ipynb   \n",
    "    !cp index.slides.html index.html"
   ]
  },
  {
   "cell_type": "code",
   "execution_count": 13,
   "metadata": {},
   "outputs": [
    {
     "data": {
      "text/markdown": [
       "    !jupyter nbconvert --to markdown --TemplateExporter.exclude_input=True readme.ipynb"
      ],
      "text/plain": [
       "<IPython.core.display.Markdown object>"
      ]
     },
     "metadata": {},
     "output_type": "display_data"
    },
    {
     "name": "stdout",
     "output_type": "stream",
     "text": [
      "[NbConvertApp] Converting notebook readme.ipynb to markdown\n",
      "[NbConvertApp] Writing 5417 bytes to readme.md\n"
     ]
    }
   ],
   "source": [
    "    !jupyter nbconvert --to markdown --TemplateExporter.exclude_input=True readme.ipynb"
   ]
  },
  {
   "cell_type": "code",
   "execution_count": null,
   "metadata": {
    "collapsed": true
   },
   "outputs": [],
   "source": []
  }
 ],
 "metadata": {
  "celltoolbar": "Slideshow",
  "kernelspec": {
   "display_name": "Python 3",
   "language": "python",
   "name": "python3"
  },
  "language_info": {
   "codemirror_mode": {
    "name": "ipython",
    "version": 3
   },
   "file_extension": ".py",
   "mimetype": "text/x-python",
   "name": "python",
   "nbconvert_exporter": "python",
   "pygments_lexer": "ipython3",
   "version": "3.5.3"
  }
 },
 "nbformat": 4,
 "nbformat_minor": 2
}
