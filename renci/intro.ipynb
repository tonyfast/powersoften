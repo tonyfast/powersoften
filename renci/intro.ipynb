{
 "cells": [
  {
   "cell_type": "markdown",
   "metadata": {
    "slideshow": {
     "slide_type": "slide"
    }
   },
   "source": [
    "# Powers of_ten_\n",
    "\n",
    "A talk inspired by __Powers of Ten__ released in _1977_ a collaboration between Ray and Charles Eames and [IBM]().  This talk was created using Jupyter Notebooks and Lab."
   ]
  },
  {
   "cell_type": "code",
   "execution_count": 1,
   "metadata": {
    "scrolled": true,
    "slideshow": {
     "slide_type": "-"
    }
   },
   "outputs": [
    {
     "data": {
      "text/html": [
       "<style>\n",
       "    iframe {\n",
       "        width: 100%;\n",
       "        min-height: 80vh;\n",
       "        max-height: 1000px;\n",
       "    }\n",
       "</style>"
      ],
      "text/plain": [
       "<IPython.core.display.HTML object>"
      ]
     },
     "metadata": {},
     "output_type": "display_data"
    },
    {
     "data": {
      "text/html": [
       "<style>\n",
       "body.rise-hack-active.rise-enabled .code_cell .input,\n",
       "body.rise-hack-active.rise-enabled div.reveal .code_cell .input,\n",
       "body.rise-hack-active.rise-enabled div.reveal .output_stderr,\n",
       "body.rise-hack-active.rise-enabled div.rise-enabled .output_stderr {\n",
       "    display: none;\n",
       "}\n",
       "</style>"
      ],
      "text/plain": [
       "<IPython.core.display.HTML object>"
      ]
     },
     "metadata": {},
     "output_type": "display_data"
    },
    {
     "data": {
      "application/javascript": [
       ";(function(){\n",
       "    function init() {\n",
       "        $(\"button.rise-hack\").remove();\n",
       "        var btn = $(\"<button/>\", {\"class\": \"rise-hack\"}).text(\"SRC\");\n",
       "        btn.bind(\"click\", function(){\n",
       "            $(\"body\").toggleClass(\"rise-hack-active\");\n",
       "            Reveal.layout();\n",
       "        });\n",
       "        $(\".controls\").append(btn);\n",
       "    }\n",
       "\n",
       "    function subscribe(){\n",
       "        console.log(\"Is reveal ready yet?\", window.Reveal);\n",
       "        if(!window.Reveal){\n",
       "            return setTimeout(subscribe, 1000);\n",
       "        }\n",
       "        Reveal.addEventListener('ready', init);\n",
       "        init();\n",
       "    }\n",
       "    subscribe();\n",
       "}).call(this);"
      ],
      "text/plain": [
       "<IPython.core.display.Javascript object>"
      ]
     },
     "metadata": {},
     "output_type": "display_data"
    }
   ],
   "source": [
    "    from renci.style import *; from articles import *; from pandas import *; \n",
    "    %load_ext literacy.template"
   ]
  },
  {
   "cell_type": "code",
   "execution_count": 1,
   "metadata": {
    "slideshow": {
     "slide_type": "-"
    }
   },
   "outputs": [
    {
     "data": {
      "text/html": [
       "\n",
       "        <iframe\n",
       "            width=\"600\"\n",
       "            height=\"400\"\n",
       "            src=\"https://www.youtube.com/embed/0fKBhvDjuy0\"\n",
       "            frameborder=\"0\"\n",
       "            allowfullscreen\n",
       "        ></iframe>\n",
       "        "
      ],
      "text/plain": [
       "<IPython.lib.display.IFrame at 0x1098f0ba8>"
      ]
     },
     "metadata": {},
     "output_type": "display_data"
    }
   ],
   "source": [
    "https://www.youtube.com/embed/0fKBhvDjuy0"
   ]
  },
  {
   "cell_type": "code",
   "execution_count": 2,
   "metadata": {
    "slideshow": {
     "slide_type": "subslide"
    }
   },
   "outputs": [
    {
     "data": {
      "text/markdown": [
       "## Topics\n",
       "\n",
       "This presentation is inspired by simple geometries.  Eventually we settled on the following key `topics\\`\n",
       "\n",
       "\n",
       "    = 'design, systems, materials, community, media, culture'\n",
       "    \n",
       "with the accompanying `constraints\\`\n",
       "\n",
       "    = 'functional, geographical, physical, people, sensory, time'"
      ],
      "text/plain": [
       "<IPython.core.display.Markdown object>"
      ]
     },
     "metadata": {},
     "output_type": "display_data"
    }
   ],
   "source": [
    "## Topics\n",
    "\n",
    "This presentation is inspired by simple geometries.  Eventually we settled on the following key `topics\\`\n",
    "\n",
    "\n",
    "    = 'design, systems, materials, community, media, culture'\n",
    "    \n",
    "with the accompanying `constraints\\`\n",
    "\n",
    "    = 'functional, geographical, physical, people, sensory, time'"
   ]
  },
  {
   "cell_type": "code",
   "execution_count": 3,
   "metadata": {
    "collapsed": true,
    "slideshow": {
     "slide_type": "-"
    }
   },
   "outputs": [],
   "source": [
    "    \n",
    "    topics, constraints = map(lambda ___: ___.replace(' ', '').split(','),[topics, constraints])"
   ]
  },
  {
   "cell_type": "code",
   "execution_count": 3,
   "metadata": {
    "slideshow": {
     "slide_type": "slide"
    }
   },
   "outputs": [
    {
     "data": {
      "text/markdown": [
       "# [Shapes of the presentation]()"
      ],
      "text/plain": [
       "<IPython.core.display.Markdown object>"
      ]
     },
     "metadata": {},
     "output_type": "display_data"
    }
   ],
   "source": [
    "# [Shapes of the presentation]()"
   ]
  },
  {
   "cell_type": "code",
   "execution_count": 4,
   "metadata": {
    "slideshow": {
     "slide_type": "-"
    }
   },
   "outputs": [
    {
     "data": {
      "text/html": [
       "<div>\n",
       "<style>\n",
       "    .dataframe thead tr:only-child th {\n",
       "        text-align: right;\n",
       "    }\n",
       "\n",
       "    .dataframe thead th {\n",
       "        text-align: left;\n",
       "    }\n",
       "\n",
       "    .dataframe tbody tr th {\n",
       "        vertical-align: top;\n",
       "    }\n",
       "</style>\n",
       "<table border=\"1\" class=\"dataframe\">\n",
       "  <thead>\n",
       "    <tr style=\"text-align: right;\">\n",
       "      <th></th>\n",
       "      <th>constraints</th>\n",
       "      <th>functional</th>\n",
       "      <th>geographical</th>\n",
       "      <th>physical</th>\n",
       "      <th>people</th>\n",
       "      <th>sensory</th>\n",
       "      <th>time</th>\n",
       "    </tr>\n",
       "    <tr>\n",
       "      <th>order</th>\n",
       "      <th>topic</th>\n",
       "      <th></th>\n",
       "      <th></th>\n",
       "      <th></th>\n",
       "      <th></th>\n",
       "      <th></th>\n",
       "      <th></th>\n",
       "    </tr>\n",
       "  </thead>\n",
       "  <tbody>\n",
       "    <tr>\n",
       "      <th>0</th>\n",
       "      <th>design</th>\n",
       "      <td>systems</td>\n",
       "      <td>materials</td>\n",
       "      <td>community</td>\n",
       "      <td>media</td>\n",
       "      <td>culture</td>\n",
       "      <td>design</td>\n",
       "    </tr>\n",
       "    <tr>\n",
       "      <th>1</th>\n",
       "      <th>systems</th>\n",
       "      <td>materials</td>\n",
       "      <td>community</td>\n",
       "      <td>media</td>\n",
       "      <td>culture</td>\n",
       "      <td>design</td>\n",
       "      <td>systems</td>\n",
       "    </tr>\n",
       "    <tr>\n",
       "      <th>2</th>\n",
       "      <th>materials</th>\n",
       "      <td>community</td>\n",
       "      <td>media</td>\n",
       "      <td>culture</td>\n",
       "      <td>design</td>\n",
       "      <td>systems</td>\n",
       "      <td>materials</td>\n",
       "    </tr>\n",
       "    <tr>\n",
       "      <th>3</th>\n",
       "      <th>community</th>\n",
       "      <td>media</td>\n",
       "      <td>culture</td>\n",
       "      <td>design</td>\n",
       "      <td>systems</td>\n",
       "      <td>materials</td>\n",
       "      <td>community</td>\n",
       "    </tr>\n",
       "    <tr>\n",
       "      <th>4</th>\n",
       "      <th>media</th>\n",
       "      <td>culture</td>\n",
       "      <td>design</td>\n",
       "      <td>systems</td>\n",
       "      <td>materials</td>\n",
       "      <td>community</td>\n",
       "      <td>media</td>\n",
       "    </tr>\n",
       "    <tr>\n",
       "      <th>5</th>\n",
       "      <th>culture</th>\n",
       "      <td>design</td>\n",
       "      <td>systems</td>\n",
       "      <td>materials</td>\n",
       "      <td>community</td>\n",
       "      <td>media</td>\n",
       "      <td>culture</td>\n",
       "    </tr>\n",
       "  </tbody>\n",
       "</table>\n",
       "</div>"
      ],
      "text/plain": [
       "constraints     functional geographical   physical     people    sensory  \\\n",
       "order topic                                                                \n",
       "0     design       systems    materials  community      media    culture   \n",
       "1     systems    materials    community      media    culture     design   \n",
       "2     materials  community        media    culture     design    systems   \n",
       "3     community      media      culture     design    systems  materials   \n",
       "4     media        culture       design    systems  materials  community   \n",
       "5     culture       design      systems  materials  community      media   \n",
       "\n",
       "constraints           time  \n",
       "order topic                 \n",
       "0     design        design  \n",
       "1     systems      systems  \n",
       "2     materials  materials  \n",
       "3     community  community  \n",
       "4     media          media  \n",
       "5     culture      culture  "
      ]
     },
     "execution_count": 4,
     "metadata": {},
     "output_type": "execute_result"
    }
   ],
   "source": [
    "    \n",
    "    concat([Series(\n",
    "        a.cycle().do(the[[next]*(i+1)]).take(6).list()(topics), \n",
    "        MultiIndex.from_arrays([range(6), topics], names=['order', 'topic']), name=topics[i]).rename(constraints[i])\n",
    "        for i in range(len(topics))], axis=1).pipe(lambda df: setattr(df, 'columns', df.columns.rename('constraints'))or df)"
   ]
  },
  {
   "cell_type": "code",
   "execution_count": 5,
   "metadata": {
    "slideshow": {
     "slide_type": "subslide"
    }
   },
   "outputs": [
    {
     "data": {
      "text/markdown": [
       "    Import('.Sierpinski Triangle');"
      ],
      "text/plain": [
       "<IPython.core.display.Markdown object>"
      ]
     },
     "metadata": {},
     "output_type": "display_data"
    },
    {
     "data": {
      "text/html": [
       "\n",
       "    <div class=\"bk-root\">\n",
       "        <a href=\"https://bokeh.pydata.org\" target=\"_blank\" class=\"bk-logo bk-logo-small bk-logo-notebook\"></a>\n",
       "        <span id=\"c4c47460-db88-408a-8faa-7b89c92a3c64\">Loading BokehJS ...</span>\n",
       "    </div>"
      ]
     },
     "metadata": {},
     "output_type": "display_data"
    },
    {
     "data": {
      "application/javascript": [
       "\n",
       "(function(root) {\n",
       "  function now() {\n",
       "    return new Date();\n",
       "  }\n",
       "\n",
       "  var force = true;\n",
       "\n",
       "  if (typeof (root._bokeh_onload_callbacks) === \"undefined\" || force === true) {\n",
       "    root._bokeh_onload_callbacks = [];\n",
       "    root._bokeh_is_loading = undefined;\n",
       "  }\n",
       "\n",
       "  var JS_MIME_TYPE = 'application/javascript';\n",
       "  var HTML_MIME_TYPE = 'text/html';\n",
       "  var EXEC_MIME_TYPE = 'application/vnd.bokehjs_exec.v0+json';\n",
       "  var CLASS_NAME = 'output_bokeh rendered_html';\n",
       "\n",
       "  /**\n",
       "   * Render data to the DOM node\n",
       "   */\n",
       "  function render(props, node) {\n",
       "    var script = document.createElement(\"script\");\n",
       "    node.appendChild(script);\n",
       "  }\n",
       "\n",
       "  /**\n",
       "   * Handle when an output is cleared or removed\n",
       "   */\n",
       "  function handleClearOutput(event, handle) {\n",
       "    var cell = handle.cell;\n",
       "\n",
       "    var id = cell.output_area._bokeh_element_id;\n",
       "    var server_id = cell.output_area._bokeh_server_id;\n",
       "    // Clean up Bokeh references\n",
       "    if (id !== undefined) {\n",
       "      Bokeh.index[id].model.document.clear();\n",
       "      delete Bokeh.index[id];\n",
       "    }\n",
       "\n",
       "    if (server_id !== undefined) {\n",
       "      // Clean up Bokeh references\n",
       "      var cmd = \"from bokeh.io import _state; print(_state.uuid_to_server['\" + server_id + \"'].get_sessions()[0].document.roots[0]._id)\";\n",
       "      cell.notebook.kernel.execute(cmd, {\n",
       "        iopub: {\n",
       "          output: function(msg) {\n",
       "            var element_id = msg.content.text.trim();\n",
       "            Bokeh.index[element_id].model.document.clear();\n",
       "            delete Bokeh.index[element_id];\n",
       "          }\n",
       "        }\n",
       "      });\n",
       "      // Destroy server and session\n",
       "      var cmd = \"from bokeh import io; io._destroy_server('\" + server_id + \"')\";\n",
       "      cell.notebook.kernel.execute(cmd);\n",
       "    }\n",
       "  }\n",
       "\n",
       "  /**\n",
       "   * Handle when a new output is added\n",
       "   */\n",
       "  function handleAddOutput(event, handle) {\n",
       "    var output_area = handle.output_area;\n",
       "    var output = handle.output;\n",
       "\n",
       "    // limit handleAddOutput to display_data with EXEC_MIME_TYPE content only\n",
       "    if ((output.output_type != \"display_data\") || (!output.data.hasOwnProperty(EXEC_MIME_TYPE))) {\n",
       "      return\n",
       "    }\n",
       "\n",
       "    var toinsert = output_area.element.find(`.${CLASS_NAME.split(' ')[0]}`);\n",
       "\n",
       "    if (output.metadata[EXEC_MIME_TYPE][\"id\"] !== undefined) {\n",
       "      toinsert[0].firstChild.textContent = output.data[JS_MIME_TYPE];\n",
       "      // store reference to embed id on output_area\n",
       "      output_area._bokeh_element_id = output.metadata[EXEC_MIME_TYPE][\"id\"];\n",
       "    }\n",
       "    if (output.metadata[EXEC_MIME_TYPE][\"server_id\"] !== undefined) {\n",
       "      var bk_div = document.createElement(\"div\");\n",
       "      bk_div.innerHTML = output.data[HTML_MIME_TYPE];\n",
       "      var script_attrs = bk_div.children[0].attributes;\n",
       "      for (var i = 0; i < script_attrs.length; i++) {\n",
       "        toinsert[0].firstChild.setAttribute(script_attrs[i].name, script_attrs[i].value);\n",
       "      }\n",
       "      // store reference to server id on output_area\n",
       "      output_area._bokeh_server_id = output.metadata[EXEC_MIME_TYPE][\"server_id\"];\n",
       "    }\n",
       "  }\n",
       "\n",
       "  function register_renderer(events, OutputArea) {\n",
       "\n",
       "    function append_mime(data, metadata, element) {\n",
       "      // create a DOM node to render to\n",
       "      var toinsert = this.create_output_subarea(\n",
       "        metadata,\n",
       "        CLASS_NAME,\n",
       "        EXEC_MIME_TYPE\n",
       "      );\n",
       "      this.keyboard_manager.register_events(toinsert);\n",
       "      // Render to node\n",
       "      var props = {data: data, metadata: metadata[EXEC_MIME_TYPE]};\n",
       "      render(props, toinsert[0]);\n",
       "      element.append(toinsert);\n",
       "      return toinsert\n",
       "    }\n",
       "\n",
       "    /* Handle when an output is cleared or removed */\n",
       "    events.on('clear_output.CodeCell', handleClearOutput);\n",
       "    events.on('delete.Cell', handleClearOutput);\n",
       "\n",
       "    /* Handle when a new output is added */\n",
       "    events.on('output_added.OutputArea', handleAddOutput);\n",
       "\n",
       "    /**\n",
       "     * Register the mime type and append_mime function with output_area\n",
       "     */\n",
       "    OutputArea.prototype.register_mime_type(EXEC_MIME_TYPE, append_mime, {\n",
       "      /* Is output safe? */\n",
       "      safe: true,\n",
       "      /* Index of renderer in `output_area.display_order` */\n",
       "      index: 0\n",
       "    });\n",
       "  }\n",
       "\n",
       "  // register the mime type if in Jupyter Notebook environment and previously unregistered\n",
       "  if (root.Jupyter !== undefined) {\n",
       "    var events = require('base/js/events');\n",
       "    var OutputArea = require('notebook/js/outputarea').OutputArea;\n",
       "\n",
       "    if (OutputArea.prototype.mime_types().indexOf(EXEC_MIME_TYPE) == -1) {\n",
       "      register_renderer(events, OutputArea);\n",
       "    }\n",
       "  }\n",
       "\n",
       "  \n",
       "  if (typeof (root._bokeh_timeout) === \"undefined\" || force === true) {\n",
       "    root._bokeh_timeout = Date.now() + 5000;\n",
       "    root._bokeh_failed_load = false;\n",
       "  }\n",
       "\n",
       "  var NB_LOAD_WARNING = {'data': {'text/html':\n",
       "     \"<div style='background-color: #fdd'>\\n\"+\n",
       "     \"<p>\\n\"+\n",
       "     \"BokehJS does not appear to have successfully loaded. If loading BokehJS from CDN, this \\n\"+\n",
       "     \"may be due to a slow or bad network connection. Possible fixes:\\n\"+\n",
       "     \"</p>\\n\"+\n",
       "     \"<ul>\\n\"+\n",
       "     \"<li>re-rerun `output_notebook()` to attempt to load from CDN again, or</li>\\n\"+\n",
       "     \"<li>use INLINE resources instead, as so:</li>\\n\"+\n",
       "     \"</ul>\\n\"+\n",
       "     \"<code>\\n\"+\n",
       "     \"from bokeh.resources import INLINE\\n\"+\n",
       "     \"output_notebook(resources=INLINE)\\n\"+\n",
       "     \"</code>\\n\"+\n",
       "     \"</div>\"}};\n",
       "\n",
       "  function display_loaded() {\n",
       "    var el = document.getElementById(\"c4c47460-db88-408a-8faa-7b89c92a3c64\");\n",
       "    if (el != null) {\n",
       "      el.textContent = \"BokehJS is loading...\";\n",
       "    }\n",
       "    if (root.Bokeh !== undefined) {\n",
       "      if (el != null) {\n",
       "        el.textContent = \"BokehJS \" + root.Bokeh.version + \" successfully loaded.\";\n",
       "      }\n",
       "    } else if (Date.now() < root._bokeh_timeout) {\n",
       "      setTimeout(display_loaded, 100)\n",
       "    }\n",
       "  }\n",
       "\n",
       "\n",
       "  function run_callbacks() {\n",
       "    try {\n",
       "      root._bokeh_onload_callbacks.forEach(function(callback) { callback() });\n",
       "    }\n",
       "    finally {\n",
       "      delete root._bokeh_onload_callbacks\n",
       "    }\n",
       "    console.info(\"Bokeh: all callbacks have finished\");\n",
       "  }\n",
       "\n",
       "  function load_libs(js_urls, callback) {\n",
       "    root._bokeh_onload_callbacks.push(callback);\n",
       "    if (root._bokeh_is_loading > 0) {\n",
       "      console.log(\"Bokeh: BokehJS is being loaded, scheduling callback at\", now());\n",
       "      return null;\n",
       "    }\n",
       "    if (js_urls == null || js_urls.length === 0) {\n",
       "      run_callbacks();\n",
       "      return null;\n",
       "    }\n",
       "    console.log(\"Bokeh: BokehJS not loaded, scheduling load and callback at\", now());\n",
       "    root._bokeh_is_loading = js_urls.length;\n",
       "    for (var i = 0; i < js_urls.length; i++) {\n",
       "      var url = js_urls[i];\n",
       "      var s = document.createElement('script');\n",
       "      s.src = url;\n",
       "      s.async = false;\n",
       "      s.onreadystatechange = s.onload = function() {\n",
       "        root._bokeh_is_loading--;\n",
       "        if (root._bokeh_is_loading === 0) {\n",
       "          console.log(\"Bokeh: all BokehJS libraries loaded\");\n",
       "          run_callbacks()\n",
       "        }\n",
       "      };\n",
       "      s.onerror = function() {\n",
       "        console.warn(\"failed to load library \" + url);\n",
       "      };\n",
       "      console.log(\"Bokeh: injecting script tag for BokehJS library: \", url);\n",
       "      document.getElementsByTagName(\"head\")[0].appendChild(s);\n",
       "    }\n",
       "  };var element = document.getElementById(\"c4c47460-db88-408a-8faa-7b89c92a3c64\");\n",
       "  if (element == null) {\n",
       "    console.log(\"Bokeh: ERROR: autoload.js configured with elementid 'c4c47460-db88-408a-8faa-7b89c92a3c64' but no matching script tag was found. \")\n",
       "    return false;\n",
       "  }\n",
       "\n",
       "  var js_urls = [\"https://cdn.pydata.org/bokeh/release/bokeh-0.12.9.min.js\", \"https://cdn.pydata.org/bokeh/release/bokeh-widgets-0.12.9.min.js\", \"https://cdn.pydata.org/bokeh/release/bokeh-tables-0.12.9.min.js\", \"https://cdn.pydata.org/bokeh/release/bokeh-gl-0.12.9.min.js\"];\n",
       "\n",
       "  var inline_js = [\n",
       "    function(Bokeh) {\n",
       "      Bokeh.set_log_level(\"info\");\n",
       "    },\n",
       "    \n",
       "    function(Bokeh) {\n",
       "      \n",
       "    },\n",
       "    function(Bokeh) {\n",
       "      console.log(\"Bokeh: injecting CSS: https://cdn.pydata.org/bokeh/release/bokeh-0.12.9.min.css\");\n",
       "      Bokeh.embed.inject_css(\"https://cdn.pydata.org/bokeh/release/bokeh-0.12.9.min.css\");\n",
       "      console.log(\"Bokeh: injecting CSS: https://cdn.pydata.org/bokeh/release/bokeh-widgets-0.12.9.min.css\");\n",
       "      Bokeh.embed.inject_css(\"https://cdn.pydata.org/bokeh/release/bokeh-widgets-0.12.9.min.css\");\n",
       "      console.log(\"Bokeh: injecting CSS: https://cdn.pydata.org/bokeh/release/bokeh-tables-0.12.9.min.css\");\n",
       "      Bokeh.embed.inject_css(\"https://cdn.pydata.org/bokeh/release/bokeh-tables-0.12.9.min.css\");\n",
       "    }\n",
       "  ];\n",
       "\n",
       "  function run_inline_js() {\n",
       "    \n",
       "    if ((root.Bokeh !== undefined) || (force === true)) {\n",
       "      for (var i = 0; i < inline_js.length; i++) {\n",
       "        inline_js[i].call(root, root.Bokeh);\n",
       "      }if (force === true) {\n",
       "        display_loaded();\n",
       "      }} else if (Date.now() < root._bokeh_timeout) {\n",
       "      setTimeout(run_inline_js, 100);\n",
       "    } else if (!root._bokeh_failed_load) {\n",
       "      console.log(\"Bokeh: BokehJS failed to load within specified timeout.\");\n",
       "      root._bokeh_failed_load = true;\n",
       "    } else if (force !== true) {\n",
       "      var cell = $(document.getElementById(\"c4c47460-db88-408a-8faa-7b89c92a3c64\")).parents('.cell').data().cell;\n",
       "      cell.output_area.append_execute_result(NB_LOAD_WARNING)\n",
       "    }\n",
       "\n",
       "  }\n",
       "\n",
       "  if (root._bokeh_is_loading === 0) {\n",
       "    console.log(\"Bokeh: BokehJS loaded, going straight to plotting\");\n",
       "    run_inline_js();\n",
       "  } else {\n",
       "    load_libs(js_urls, function() {\n",
       "      console.log(\"Bokeh: BokehJS plotting callback run at\", now());\n",
       "      run_inline_js();\n",
       "    });\n",
       "  }\n",
       "}(window));"
      ],
      "application/vnd.bokehjs_load.v0+json": "\n(function(root) {\n  function now() {\n    return new Date();\n  }\n\n  var force = true;\n\n  if (typeof (root._bokeh_onload_callbacks) === \"undefined\" || force === true) {\n    root._bokeh_onload_callbacks = [];\n    root._bokeh_is_loading = undefined;\n  }\n\n  \n\n  \n  if (typeof (root._bokeh_timeout) === \"undefined\" || force === true) {\n    root._bokeh_timeout = Date.now() + 5000;\n    root._bokeh_failed_load = false;\n  }\n\n  var NB_LOAD_WARNING = {'data': {'text/html':\n     \"<div style='background-color: #fdd'>\\n\"+\n     \"<p>\\n\"+\n     \"BokehJS does not appear to have successfully loaded. If loading BokehJS from CDN, this \\n\"+\n     \"may be due to a slow or bad network connection. Possible fixes:\\n\"+\n     \"</p>\\n\"+\n     \"<ul>\\n\"+\n     \"<li>re-rerun `output_notebook()` to attempt to load from CDN again, or</li>\\n\"+\n     \"<li>use INLINE resources instead, as so:</li>\\n\"+\n     \"</ul>\\n\"+\n     \"<code>\\n\"+\n     \"from bokeh.resources import INLINE\\n\"+\n     \"output_notebook(resources=INLINE)\\n\"+\n     \"</code>\\n\"+\n     \"</div>\"}};\n\n  function display_loaded() {\n    var el = document.getElementById(\"c4c47460-db88-408a-8faa-7b89c92a3c64\");\n    if (el != null) {\n      el.textContent = \"BokehJS is loading...\";\n    }\n    if (root.Bokeh !== undefined) {\n      if (el != null) {\n        el.textContent = \"BokehJS \" + root.Bokeh.version + \" successfully loaded.\";\n      }\n    } else if (Date.now() < root._bokeh_timeout) {\n      setTimeout(display_loaded, 100)\n    }\n  }\n\n\n  function run_callbacks() {\n    try {\n      root._bokeh_onload_callbacks.forEach(function(callback) { callback() });\n    }\n    finally {\n      delete root._bokeh_onload_callbacks\n    }\n    console.info(\"Bokeh: all callbacks have finished\");\n  }\n\n  function load_libs(js_urls, callback) {\n    root._bokeh_onload_callbacks.push(callback);\n    if (root._bokeh_is_loading > 0) {\n      console.log(\"Bokeh: BokehJS is being loaded, scheduling callback at\", now());\n      return null;\n    }\n    if (js_urls == null || js_urls.length === 0) {\n      run_callbacks();\n      return null;\n    }\n    console.log(\"Bokeh: BokehJS not loaded, scheduling load and callback at\", now());\n    root._bokeh_is_loading = js_urls.length;\n    for (var i = 0; i < js_urls.length; i++) {\n      var url = js_urls[i];\n      var s = document.createElement('script');\n      s.src = url;\n      s.async = false;\n      s.onreadystatechange = s.onload = function() {\n        root._bokeh_is_loading--;\n        if (root._bokeh_is_loading === 0) {\n          console.log(\"Bokeh: all BokehJS libraries loaded\");\n          run_callbacks()\n        }\n      };\n      s.onerror = function() {\n        console.warn(\"failed to load library \" + url);\n      };\n      console.log(\"Bokeh: injecting script tag for BokehJS library: \", url);\n      document.getElementsByTagName(\"head\")[0].appendChild(s);\n    }\n  };var element = document.getElementById(\"c4c47460-db88-408a-8faa-7b89c92a3c64\");\n  if (element == null) {\n    console.log(\"Bokeh: ERROR: autoload.js configured with elementid 'c4c47460-db88-408a-8faa-7b89c92a3c64' but no matching script tag was found. \")\n    return false;\n  }\n\n  var js_urls = [\"https://cdn.pydata.org/bokeh/release/bokeh-0.12.9.min.js\", \"https://cdn.pydata.org/bokeh/release/bokeh-widgets-0.12.9.min.js\", \"https://cdn.pydata.org/bokeh/release/bokeh-tables-0.12.9.min.js\", \"https://cdn.pydata.org/bokeh/release/bokeh-gl-0.12.9.min.js\"];\n\n  var inline_js = [\n    function(Bokeh) {\n      Bokeh.set_log_level(\"info\");\n    },\n    \n    function(Bokeh) {\n      \n    },\n    function(Bokeh) {\n      console.log(\"Bokeh: injecting CSS: https://cdn.pydata.org/bokeh/release/bokeh-0.12.9.min.css\");\n      Bokeh.embed.inject_css(\"https://cdn.pydata.org/bokeh/release/bokeh-0.12.9.min.css\");\n      console.log(\"Bokeh: injecting CSS: https://cdn.pydata.org/bokeh/release/bokeh-widgets-0.12.9.min.css\");\n      Bokeh.embed.inject_css(\"https://cdn.pydata.org/bokeh/release/bokeh-widgets-0.12.9.min.css\");\n      console.log(\"Bokeh: injecting CSS: https://cdn.pydata.org/bokeh/release/bokeh-tables-0.12.9.min.css\");\n      Bokeh.embed.inject_css(\"https://cdn.pydata.org/bokeh/release/bokeh-tables-0.12.9.min.css\");\n    }\n  ];\n\n  function run_inline_js() {\n    \n    if ((root.Bokeh !== undefined) || (force === true)) {\n      for (var i = 0; i < inline_js.length; i++) {\n        inline_js[i].call(root, root.Bokeh);\n      }if (force === true) {\n        display_loaded();\n      }} else if (Date.now() < root._bokeh_timeout) {\n      setTimeout(run_inline_js, 100);\n    } else if (!root._bokeh_failed_load) {\n      console.log(\"Bokeh: BokehJS failed to load within specified timeout.\");\n      root._bokeh_failed_load = true;\n    } else if (force !== true) {\n      var cell = $(document.getElementById(\"c4c47460-db88-408a-8faa-7b89c92a3c64\")).parents('.cell').data().cell;\n      cell.output_area.append_execute_result(NB_LOAD_WARNING)\n    }\n\n  }\n\n  if (root._bokeh_is_loading === 0) {\n    console.log(\"Bokeh: BokehJS loaded, going straight to plotting\");\n    run_inline_js();\n  } else {\n    load_libs(js_urls, function() {\n      console.log(\"Bokeh: BokehJS plotting callback run at\", now());\n      run_inline_js();\n    });\n  }\n}(window));"
     },
     "metadata": {},
     "output_type": "display_data"
    },
    {
     "data": {
      "text/html": [
       "\n",
       "<div class=\"bk-root\">\n",
       "    <div class=\"bk-plotdiv\" id=\"d9dab941-3862-4925-81e0-8b1728c60000\"></div>\n",
       "</div>"
      ]
     },
     "metadata": {},
     "output_type": "display_data"
    },
    {
     "data": {
      "application/javascript": [
       "(function(root) {\n",
       "  function embed_document(root) {\n",
       "    var docs_json = {\"d0f31204-66af-43c0-9df1-63836822c8af\":{\"roots\":{\"references\":[{\"attributes\":{\"overlay\":{\"id\":\"6a54946b-5fd5-4174-9e33-52fd0d1fd662\",\"type\":\"BoxAnnotation\"}},\"id\":\"8e8c8ae8-66f8-47fb-a692-d9e0b47d9721\",\"type\":\"BoxZoomTool\"},{\"attributes\":{\"active_drag\":\"auto\",\"active_inspect\":\"auto\",\"active_scroll\":\"auto\",\"active_tap\":\"auto\",\"tools\":[{\"id\":\"0e5e118b-4474-4354-8b95-c9cf969660df\",\"type\":\"PanTool\"},{\"id\":\"42053457-2fec-4e0d-a87a-decd0a239058\",\"type\":\"WheelZoomTool\"},{\"id\":\"8e8c8ae8-66f8-47fb-a692-d9e0b47d9721\",\"type\":\"BoxZoomTool\"},{\"id\":\"01e97743-891a-4eb0-9ec5-f3f9d9a89bce\",\"type\":\"SaveTool\"},{\"id\":\"92804730-a368-4ba2-9f9b-a22e079b5383\",\"type\":\"ResetTool\"},{\"id\":\"4e4645f8-1695-4187-b9c4-5bfc2120988b\",\"type\":\"HelpTool\"}]},\"id\":\"27d9e504-fcf9-42dc-ad45-d7379f34fcbb\",\"type\":\"Toolbar\"},{\"attributes\":{\"line_alpha\":{\"value\":0.1},\"line_color\":{\"value\":\"#1f77b4\"},\"x\":{\"field\":\"x\"},\"y\":{\"field\":\"y\"}},\"id\":\"0d86dd18-43ac-410e-abb7-6da4009b04ff\",\"type\":\"Line\"},{\"attributes\":{},\"id\":\"be04459f-fefd-4be3-b872-126e7cb2078d\",\"type\":\"BasicTickFormatter\"},{\"attributes\":{\"below\":[{\"id\":\"faa4a2c2-0cb5-4561-9034-8a9f4df8f844\",\"type\":\"LinearAxis\"}],\"left\":[{\"id\":\"8da44f2e-62bb-439b-9a26-7191cb05c0d2\",\"type\":\"LinearAxis\"}],\"renderers\":[{\"id\":\"faa4a2c2-0cb5-4561-9034-8a9f4df8f844\",\"type\":\"LinearAxis\"},{\"id\":\"8bcbef12-ec7a-4f1e-8929-57acc26cc405\",\"type\":\"Grid\"},{\"id\":\"8da44f2e-62bb-439b-9a26-7191cb05c0d2\",\"type\":\"LinearAxis\"},{\"id\":\"679c88ac-49f6-46f7-a8a5-7b30cd210e02\",\"type\":\"Grid\"},{\"id\":\"6a54946b-5fd5-4174-9e33-52fd0d1fd662\",\"type\":\"BoxAnnotation\"},{\"id\":\"00f378b0-8c6c-4403-b779-2a8af06b7f21\",\"type\":\"GlyphRenderer\"},{\"id\":\"77aaebe6-4ad3-4640-91a8-4b27ce17aa4b\",\"type\":\"GlyphRenderer\"},{\"id\":\"4fa8ba99-0bf7-4b3d-914f-3358a516f16e\",\"type\":\"GlyphRenderer\"}],\"title\":{\"id\":\"dc332a0f-0a7e-4483-a6c5-75041f377c0b\",\"type\":\"Title\"},\"toolbar\":{\"id\":\"27d9e504-fcf9-42dc-ad45-d7379f34fcbb\",\"type\":\"Toolbar\"},\"x_range\":{\"id\":\"c107e667-5786-4730-9b71-44de89e54057\",\"type\":\"DataRange1d\"},\"x_scale\":{\"id\":\"5edbcbdb-1972-4609-9781-53a89e42833c\",\"type\":\"LinearScale\"},\"y_range\":{\"id\":\"866396c9-e6e1-4d4f-b3c9-9e396fb151bb\",\"type\":\"DataRange1d\"},\"y_scale\":{\"id\":\"ae570cac-d676-4c33-a76f-ea1c4d6e228e\",\"type\":\"LinearScale\"}},\"id\":\"0a0f784e-d608-48ed-aaec-bc0687d27c5d\",\"subtype\":\"Figure\",\"type\":\"Plot\"},{\"attributes\":{\"source\":{\"id\":\"581c0899-22a0-49a4-ac3d-a7060af96ebd\",\"type\":\"ColumnDataSource\"}},\"id\":\"fddf3caa-2679-40b1-b235-24009f8047a6\",\"type\":\"CDSView\"},{\"attributes\":{},\"id\":\"87c191f6-5195-4d47-9b47-ab83a6016c81\",\"type\":\"BasicTicker\"},{\"attributes\":{\"plot\":{\"id\":\"0a0f784e-d608-48ed-aaec-bc0687d27c5d\",\"subtype\":\"Figure\",\"type\":\"Plot\"},\"ticker\":{\"id\":\"87c191f6-5195-4d47-9b47-ab83a6016c81\",\"type\":\"BasicTicker\"}},\"id\":\"8bcbef12-ec7a-4f1e-8929-57acc26cc405\",\"type\":\"Grid\"},{\"attributes\":{\"source\":{\"id\":\"cb224a25-5c66-461c-a7ba-d7c6096bf5e6\",\"type\":\"ColumnDataSource\"}},\"id\":\"6aa09c04-2671-447f-91e7-9aa7e9d61224\",\"type\":\"CDSView\"},{\"attributes\":{},\"id\":\"0e5e118b-4474-4354-8b95-c9cf969660df\",\"type\":\"PanTool\"},{\"attributes\":{\"formatter\":{\"id\":\"be04459f-fefd-4be3-b872-126e7cb2078d\",\"type\":\"BasicTickFormatter\"},\"plot\":{\"id\":\"0a0f784e-d608-48ed-aaec-bc0687d27c5d\",\"subtype\":\"Figure\",\"type\":\"Plot\"},\"ticker\":{\"id\":\"87c191f6-5195-4d47-9b47-ab83a6016c81\",\"type\":\"BasicTicker\"}},\"id\":\"faa4a2c2-0cb5-4561-9034-8a9f4df8f844\",\"type\":\"LinearAxis\"},{\"attributes\":{\"callback\":null,\"column_names\":[\"x\",\"y\"],\"data\":{\"x\":{\"__ndarray__\":\"AAAAAAAA4L8AAAAAAADgPwAAAAAAAAAAAAAAAAAA4L8=\",\"dtype\":\"float64\",\"shape\":[4]},\"y\":{\"__ndarray__\":\"AAAAAAAA4D8AAAAAAADgPwAAAAAAAAAAAAAAAAAA4D8=\",\"dtype\":\"float64\",\"shape\":[4]}}},\"id\":\"581c0899-22a0-49a4-ac3d-a7060af96ebd\",\"type\":\"ColumnDataSource\"},{\"attributes\":{\"line_color\":{\"value\":\"#1f77b4\"},\"x\":{\"field\":\"x\"},\"y\":{\"field\":\"y\"}},\"id\":\"7f3f342f-b3a9-493c-8c80-06e419ba0c83\",\"type\":\"Line\"},{\"attributes\":{},\"id\":\"92804730-a368-4ba2-9f9b-a22e079b5383\",\"type\":\"ResetTool\"},{\"attributes\":{},\"id\":\"22acf3a2-2dd8-4989-96b4-68123b875002\",\"type\":\"BasicTickFormatter\"},{\"attributes\":{\"formatter\":{\"id\":\"22acf3a2-2dd8-4989-96b4-68123b875002\",\"type\":\"BasicTickFormatter\"},\"plot\":{\"id\":\"0a0f784e-d608-48ed-aaec-bc0687d27c5d\",\"subtype\":\"Figure\",\"type\":\"Plot\"},\"ticker\":{\"id\":\"91872597-2e1d-4779-9254-befa5c3bb899\",\"type\":\"BasicTicker\"}},\"id\":\"8da44f2e-62bb-439b-9a26-7191cb05c0d2\",\"type\":\"LinearAxis\"},{\"attributes\":{\"callback\":null},\"id\":\"c107e667-5786-4730-9b71-44de89e54057\",\"type\":\"DataRange1d\"},{\"attributes\":{\"text_color\":{\"value\":\"black\"},\"x\":{\"field\":\"x\"},\"y\":{\"field\":\"y\"}},\"id\":\"5db4b27e-7fb4-4550-8f02-fc1150966157\",\"type\":\"Text\"},{\"attributes\":{\"callback\":null},\"id\":\"866396c9-e6e1-4d4f-b3c9-9e396fb151bb\",\"type\":\"DataRange1d\"},{\"attributes\":{\"callback\":null,\"column_names\":[\"text\",\"x\",\"y\"],\"data\":{\"text\":[\"design\",\"systems\",\"materials\",\"community\",\"media\",\"culture\"],\"x\":{\"__ndarray__\":\"AAAAAAAA6L8AAAAAAADQvwAAAAAAANA/AAAAAAAA6D8AAAAAAADgPwAAAAAAAOC/\",\"dtype\":\"float64\",\"shape\":[6]},\"y\":{\"__ndarray__\":\"AAAAAAAA0D8AAAAAAADoPwAAAAAAAOg/AAAAAAAA0D8AAAAAAAAAAAAAAAAAAAAA\",\"dtype\":\"float64\",\"shape\":[6]}}},\"id\":\"cb224a25-5c66-461c-a7ba-d7c6096bf5e6\",\"type\":\"ColumnDataSource\"},{\"attributes\":{\"bottom_units\":\"screen\",\"fill_alpha\":{\"value\":0.5},\"fill_color\":{\"value\":\"lightgrey\"},\"left_units\":\"screen\",\"level\":\"overlay\",\"line_alpha\":{\"value\":1.0},\"line_color\":{\"value\":\"black\"},\"line_dash\":[4,4],\"line_width\":{\"value\":2},\"plot\":null,\"render_mode\":\"css\",\"right_units\":\"screen\",\"top_units\":\"screen\"},\"id\":\"6a54946b-5fd5-4174-9e33-52fd0d1fd662\",\"type\":\"BoxAnnotation\"},{\"attributes\":{\"line_alpha\":{\"value\":0.1},\"line_color\":{\"value\":\"#1f77b4\"},\"x\":{\"field\":\"x\"},\"y\":{\"field\":\"y\"}},\"id\":\"3fc3c013-1feb-4c98-b339-e2ab46832864\",\"type\":\"Line\"},{\"attributes\":{\"text_alpha\":{\"value\":0.1},\"text_color\":{\"value\":\"black\"},\"x\":{\"field\":\"x\"},\"y\":{\"field\":\"y\"}},\"id\":\"0fcff188-d78c-4584-a8e4-ef688e9cf40d\",\"type\":\"Text\"},{\"attributes\":{},\"id\":\"4e4645f8-1695-4187-b9c4-5bfc2120988b\",\"type\":\"HelpTool\"},{\"attributes\":{\"callback\":null,\"column_names\":[\"x\",\"y\"],\"data\":{\"x\":{\"__ndarray__\":\"AAAAAAAA8L8AAAAAAADgvwAAAAAAAAAAAAAAAAAA4D8AAAAAAADwPwAAAAAAAAAAAAAAAAAA8L8=\",\"dtype\":\"float64\",\"shape\":[7]},\"y\":{\"__ndarray__\":\"AAAAAAAAAAAAAAAAAADgPwAAAAAAAPA/AAAAAAAA4D8AAAAAAAAAAAAAAAAAAAAAAAAAAAAAAAA=\",\"dtype\":\"float64\",\"shape\":[7]}}},\"id\":\"4830d5e9-f778-470f-b079-1a460eb83f61\",\"type\":\"ColumnDataSource\"},{\"attributes\":{\"source\":{\"id\":\"4830d5e9-f778-470f-b079-1a460eb83f61\",\"type\":\"ColumnDataSource\"}},\"id\":\"f9c79a2e-60a1-46ff-9a64-4455ca011618\",\"type\":\"CDSView\"},{\"attributes\":{\"dimension\":1,\"plot\":{\"id\":\"0a0f784e-d608-48ed-aaec-bc0687d27c5d\",\"subtype\":\"Figure\",\"type\":\"Plot\"},\"ticker\":{\"id\":\"91872597-2e1d-4779-9254-befa5c3bb899\",\"type\":\"BasicTicker\"}},\"id\":\"679c88ac-49f6-46f7-a8a5-7b30cd210e02\",\"type\":\"Grid\"},{\"attributes\":{},\"id\":\"42053457-2fec-4e0d-a87a-decd0a239058\",\"type\":\"WheelZoomTool\"},{\"attributes\":{\"data_source\":{\"id\":\"581c0899-22a0-49a4-ac3d-a7060af96ebd\",\"type\":\"ColumnDataSource\"},\"glyph\":{\"id\":\"301fdb36-a825-4429-8e39-b45923a6bb91\",\"type\":\"Line\"},\"hover_glyph\":null,\"muted_glyph\":null,\"nonselection_glyph\":{\"id\":\"3fc3c013-1feb-4c98-b339-e2ab46832864\",\"type\":\"Line\"},\"selection_glyph\":null,\"view\":{\"id\":\"fddf3caa-2679-40b1-b235-24009f8047a6\",\"type\":\"CDSView\"}},\"id\":\"77aaebe6-4ad3-4640-91a8-4b27ce17aa4b\",\"type\":\"GlyphRenderer\"},{\"attributes\":{\"line_color\":{\"value\":\"#1f77b4\"},\"x\":{\"field\":\"x\"},\"y\":{\"field\":\"y\"}},\"id\":\"301fdb36-a825-4429-8e39-b45923a6bb91\",\"type\":\"Line\"},{\"attributes\":{},\"id\":\"01e97743-891a-4eb0-9ec5-f3f9d9a89bce\",\"type\":\"SaveTool\"},{\"attributes\":{},\"id\":\"ae570cac-d676-4c33-a76f-ea1c4d6e228e\",\"type\":\"LinearScale\"},{\"attributes\":{\"plot\":null,\"text\":\"\"},\"id\":\"dc332a0f-0a7e-4483-a6c5-75041f377c0b\",\"type\":\"Title\"},{\"attributes\":{\"data_source\":{\"id\":\"cb224a25-5c66-461c-a7ba-d7c6096bf5e6\",\"type\":\"ColumnDataSource\"},\"glyph\":{\"id\":\"5db4b27e-7fb4-4550-8f02-fc1150966157\",\"type\":\"Text\"},\"hover_glyph\":null,\"muted_glyph\":null,\"nonselection_glyph\":{\"id\":\"0fcff188-d78c-4584-a8e4-ef688e9cf40d\",\"type\":\"Text\"},\"selection_glyph\":null,\"view\":{\"id\":\"6aa09c04-2671-447f-91e7-9aa7e9d61224\",\"type\":\"CDSView\"}},\"id\":\"4fa8ba99-0bf7-4b3d-914f-3358a516f16e\",\"type\":\"GlyphRenderer\"},{\"attributes\":{},\"id\":\"91872597-2e1d-4779-9254-befa5c3bb899\",\"type\":\"BasicTicker\"},{\"attributes\":{\"data_source\":{\"id\":\"4830d5e9-f778-470f-b079-1a460eb83f61\",\"type\":\"ColumnDataSource\"},\"glyph\":{\"id\":\"7f3f342f-b3a9-493c-8c80-06e419ba0c83\",\"type\":\"Line\"},\"hover_glyph\":null,\"muted_glyph\":null,\"nonselection_glyph\":{\"id\":\"0d86dd18-43ac-410e-abb7-6da4009b04ff\",\"type\":\"Line\"},\"selection_glyph\":null,\"view\":{\"id\":\"f9c79a2e-60a1-46ff-9a64-4455ca011618\",\"type\":\"CDSView\"}},\"id\":\"00f378b0-8c6c-4403-b779-2a8af06b7f21\",\"type\":\"GlyphRenderer\"},{\"attributes\":{},\"id\":\"5edbcbdb-1972-4609-9781-53a89e42833c\",\"type\":\"LinearScale\"}],\"root_ids\":[\"0a0f784e-d608-48ed-aaec-bc0687d27c5d\"]},\"title\":\"Bokeh Application\",\"version\":\"0.12.9\"}};\n",
       "    var render_items = [{\"docid\":\"d0f31204-66af-43c0-9df1-63836822c8af\",\"elementid\":\"d9dab941-3862-4925-81e0-8b1728c60000\",\"modelid\":\"0a0f784e-d608-48ed-aaec-bc0687d27c5d\"}];\n",
       "\n",
       "    root.Bokeh.embed.embed_items(docs_json, render_items);\n",
       "  }\n",
       "\n",
       "  if (root.Bokeh !== undefined) {\n",
       "    embed_document(root);\n",
       "  } else {\n",
       "    var attempts = 0;\n",
       "    var timer = setInterval(function(root) {\n",
       "      if (root.Bokeh !== undefined) {\n",
       "        embed_document(root);\n",
       "        clearInterval(timer);\n",
       "      }\n",
       "      attempts++;\n",
       "      if (attempts > 100) {\n",
       "        console.log(\"Bokeh: ERROR: Unable to embed document because BokehJS library is missing\")\n",
       "        clearInterval(timer);\n",
       "      }\n",
       "    }, 10, root)\n",
       "  }\n",
       "})(window);"
      ],
      "application/vnd.bokehjs_exec.v0+json": ""
     },
     "metadata": {
      "application/vnd.bokehjs_exec.v0+json": {
       "id": "0a0f784e-d608-48ed-aaec-bc0687d27c5d"
      }
     },
     "output_type": "display_data"
    }
   ],
   "source": [
    "    Import('.Sierpinski Triangle');"
   ]
  },
  {
   "cell_type": "code",
   "execution_count": 6,
   "metadata": {
    "slideshow": {
     "slide_type": "subslide"
    }
   },
   "outputs": [
    {
     "data": {
      "text/markdown": [
       "    Import('.shapes');"
      ],
      "text/plain": [
       "<IPython.core.display.Markdown object>"
      ]
     },
     "metadata": {},
     "output_type": "display_data"
    },
    {
     "name": "stderr",
     "output_type": "stream",
     "text": [
      "/Users/tonyfast/anaconda/lib/python3.5/site-packages/networkx/drawing/nx_pylab.py:126: MatplotlibDeprecationWarning: pyplot.hold is deprecated.\n",
      "    Future behavior will be consistent with the long-time default:\n",
      "    plot commands add elements without first clearing the\n",
      "    Axes and/or Figure.\n",
      "  b = plt.ishold()\n",
      "/Users/tonyfast/anaconda/lib/python3.5/site-packages/networkx/drawing/nx_pylab.py:138: MatplotlibDeprecationWarning: pyplot.hold is deprecated.\n",
      "    Future behavior will be consistent with the long-time default:\n",
      "    plot commands add elements without first clearing the\n",
      "    Axes and/or Figure.\n",
      "  plt.hold(b)\n",
      "/Users/tonyfast/anaconda/lib/python3.5/site-packages/matplotlib/__init__.py:917: UserWarning: axes.hold is deprecated. Please remove it from your matplotlibrc and/or style files.\n",
      "  warnings.warn(self.msg_depr_set % key)\n",
      "/Users/tonyfast/anaconda/lib/python3.5/site-packages/matplotlib/rcsetup.py:152: UserWarning: axes.hold is deprecated, will be removed in 3.0\n",
      "  warnings.warn(\"axes.hold is deprecated, will be removed in 3.0\")\n"
     ]
    },
    {
     "data": {
      "image/png": "[encoded data removed]",
      "text/plain": [
       "<matplotlib.figure.Figure at 0x1133ab390>"
      ]
     },
     "metadata": {},
     "output_type": "display_data"
    }
   ],
   "source": [
    "    Import('.shapes');"
   ]
  },
  {
   "cell_type": "code",
   "execution_count": 6,
   "metadata": {
    "slideshow": {
     "slide_type": "slide"
    }
   },
   "outputs": [
    {
     "data": {
      "text/markdown": [
       "# Abstracts"
      ],
      "text/plain": [
       "<IPython.core.display.Markdown object>"
      ]
     },
     "metadata": {},
     "output_type": "display_data"
    }
   ],
   "source": [
    "# Abstracts"
   ]
  },
  {
   "cell_type": "code",
   "execution_count": 6,
   "metadata": {
    "slideshow": {
     "slide_type": "fragment"
    }
   },
   "outputs": [
    {
     "data": {
      "text/markdown": [
       "# [Design]()\n",
       "\n",
       "> Design applies shared experience to conceptualize (non)functional ideas.\n",
       "\n",
       "Modern cultures are designed, engineered, and distributed in a way that Ray and Charles Eames could have only imagined.  Their landmark video \"Powers of Ten\" illustrated the state of the art in optics and machinery in the 1970s. \n",
       "# [Systems]()\n",
       "\n",
       "> Systems automate work for humans.  Systems may have many geographical contraints.\n"
      ],
      "text/plain": [
       "<IPython.core.display.Markdown object>"
      ]
     },
     "metadata": {},
     "output_type": "display_data"
    }
   ],
   "source": [
    "{% for topic in topics[:2] %}{{the.Path().read_text().loads().get_in(['cells', 0, 'source'])[''.join](topic+'.ipynb')}}\n",
    "{% endfor %}"
   ]
  },
  {
   "cell_type": "code",
   "execution_count": 6,
   "metadata": {
    "slideshow": {
     "slide_type": "subslide"
    }
   },
   "outputs": [
    {
     "data": {
      "text/markdown": [
       "# [Materials]()\n",
       "\n",
       "> It takes work to make change.  All our designs are bound by existing or future physics.\n",
       "\n",
       "# [Community]()\n",
       "\n",
       "> A community is a group that has rules, games, information, and shared experience.\n",
       "\n"
      ],
      "text/plain": [
       "<IPython.core.display.Markdown object>"
      ]
     },
     "metadata": {},
     "output_type": "display_data"
    }
   ],
   "source": [
    "{% for topic in topics[2:4] %}{{the.Path().read_text().loads().get_in(['cells', 0, 'source'])[''.join](topic+'.ipynb')}}\n",
    "\n",
    "{% endfor %}"
   ]
  },
  {
   "cell_type": "code",
   "execution_count": 6,
   "metadata": {
    "slideshow": {
     "slide_type": "subslide"
    }
   },
   "outputs": [
    {
     "data": {
      "text/markdown": [
       "# [Media]()\n",
       "\n",
       "> Media is information that triggers the senses.  The more sense the more significant.\n",
       "\n",
       "# [Culture]()\n",
       "\n",
       "> Fashion is Fickle, boo.\n",
       "\n",
       "The modern, machine-assisted cultural infrastructure for open knowledge is:\n"
      ],
      "text/plain": [
       "<IPython.core.display.Markdown object>"
      ]
     },
     "metadata": {},
     "output_type": "display_data"
    }
   ],
   "source": [
    "{% for topic in topics[4:] %}{{the.Path().read_text().loads().get_in(['cells', 0, 'source'])[''.join](topic+'.ipynb')}}\n",
    "{% endfor %}"
   ]
  },
  {
   "cell_type": "code",
   "execution_count": 6,
   "metadata": {
    "slideshow": {
     "slide_type": "slide"
    }
   },
   "outputs": [
    {
     "data": {
      "text/markdown": [
       "## Particles\n",
       "\n",
       "Particles are standalone articles and presentations that are importable."
      ],
      "text/plain": [
       "<IPython.core.display.Markdown object>"
      ]
     },
     "metadata": {},
     "output_type": "display_data"
    }
   ],
   "source": [
    "## Particles\n",
    "\n",
    "Particles are standalone articles and presentations that are importable."
   ]
  }
 ],
 "metadata": {
  "celltoolbar": "Slideshow",
  "kernelspec": {
   "display_name": "Python 3",
   "language": "python",
   "name": "python3"
  },
  "language_info": {
   "codemirror_mode": {
    "name": "ipython",
    "version": 3
   },
   "file_extension": ".py",
   "mimetype": "text/x-python",
   "name": "python",
   "nbconvert_exporter": "python",
   "pygments_lexer": "ipython3",
   "version": "3.5.3"
  }
 },
 "nbformat": 4,
 "nbformat_minor": 2
}
