{
 "cells": [
  {
   "cell_type": "markdown",
   "metadata": {
    "slideshow": {
     "slide_type": "slide"
    }
   },
   "source": [
    "# [Community]()\n",
    "\n",
    "> A community shares resources and experiences."
   ]
  },
  {
   "cell_type": "markdown",
   "metadata": {
    "slideshow": {
     "slide_type": "-"
    }
   },
   "source": [
    "Communities **self-organize** to engineer **solutions** to **problems** within a set of **geographical** \n",
    "and **material** constraints."
   ]
  },
  {
   "cell_type": "code",
   "execution_count": 1,
   "metadata": {
    "slideshow": {
     "slide_type": "skip"
    }
   },
   "outputs": [
    {
     "data": {
      "text/html": [
       "<style>\n",
       "    iframe {\n",
       "        width: 100%;\n",
       "        min-height: 80vh;\n",
       "        max-height: 1000px;\n",
       "    }\n",
       "</style>"
      ],
      "text/plain": [
       "<IPython.core.display.HTML object>"
      ]
     },
     "metadata": {},
     "output_type": "display_data"
    },
    {
     "data": {
      "text/html": [
       "<style>\n",
       "body.rise-hack-active div.reveal .code_cell .input,\n",
       "body.rise-hack-active div.reveal .output_stderr {\n",
       "    display: none;\n",
       "}\n",
       "button.rise-hack:hover {\n",
       "    opacity: 0.7;\n",
       "}\n",
       "button.rise-hack {\n",
       "    font-weight: bold;\n",
       "}\n",
       "body.rise-hack-active button.rise-hack {\n",
       "    text-decoration: line-through;\n",
       "}\n",
       "</style>"
      ],
      "text/plain": [
       "<IPython.core.display.HTML object>"
      ]
     },
     "metadata": {},
     "output_type": "display_data"
    },
    {
     "data": {
      "application/javascript": [
       ";(function(){\n",
       "    function init() {\n",
       "        $(\"button.rise-hack\").remove();\n",
       "        $(\"body\").addClass(\"rise-hack-active\");\n",
       "        var btn = $(\"<button/>\", {\"class\": \"rise-hack\"}).text(\"</>\");\n",
       "        btn.bind(\"click\", function(){\n",
       "            $(\"body\").toggleClass(\"rise-hack-active\");\n",
       "            Reveal.layout();\n",
       "        });\n",
       "        $(\".controls\").append(btn);\n",
       "    }\n",
       "\n",
       "    function subscribe(){\n",
       "        if(!window.Reveal){\n",
       "            return setTimeout(subscribe, 1000);\n",
       "        }\n",
       "        Reveal.addEventListener('ready', init);\n",
       "        init();\n",
       "    }\n",
       "    subscribe();\n",
       "}).call(this);"
      ],
      "text/plain": [
       "<IPython.core.display.Javascript object>"
      ]
     },
     "metadata": {},
     "output_type": "display_data"
    }
   ],
   "source": [
    "from renci.style import *\n",
    "%load_ext literacy.template"
   ]
  },
  {
   "cell_type": "code",
   "execution_count": 1,
   "metadata": {
    "slideshow": {
     "slide_type": "slide"
    }
   },
   "outputs": [
    {
     "data": {
      "text/markdown": [
       "## _Community_ & [Media]()\n",
       "\n",
       "All we know about communities are in the sparse media they have left behind."
      ],
      "text/plain": [
       "<IPython.core.display.Markdown object>"
      ]
     },
     "metadata": {},
     "output_type": "display_data"
    }
   ],
   "source": [
    "## _Community_ & [Media]()\n",
    "\n",
    "All we know about communities are in the sparse media they have left behind."
   ]
  },
  {
   "cell_type": "code",
   "execution_count": 1,
   "metadata": {
    "slideshow": {
     "slide_type": "subslide"
    }
   },
   "outputs": [
    {
     "data": {
      "text/markdown": [
       "[Code of Hammurabi](https://en.m.wikipedia.org/wiki/Code_of_Hammurabi \"-1754\")"
      ],
      "text/plain": [
       "<IPython.core.display.Markdown object>"
      ]
     },
     "metadata": {},
     "output_type": "display_data"
    },
    {
     "data": {
      "text/html": [
       "\n",
       "        <iframe\n",
       "            width=\"600\"\n",
       "            height=\"400\"\n",
       "            src=\"https://en.m.wikipedia.org/wiki/Code_of_Hammurabi\"\n",
       "            frameborder=\"0\"\n",
       "            allowfullscreen\n",
       "        ></iframe>\n",
       "        "
      ],
      "text/plain": [
       "<IPython.lib.display.IFrame at 0x104acfe48>"
      ]
     },
     "metadata": {},
     "output_type": "display_data"
    }
   ],
   "source": [
    "[Code of Hammurabi](https://en.m.wikipedia.org/wiki/Code_of_Hammurabi \"-1754\")"
   ]
  },
  {
   "cell_type": "code",
   "execution_count": 1,
   "metadata": {
    "slideshow": {
     "slide_type": "subslide"
    }
   },
   "outputs": [
    {
     "data": {
      "text/markdown": [
       "[Rosetta Stone](https://en.m.wikipedia.org/wiki/Rosetta_Stone \"-196\")"
      ],
      "text/plain": [
       "<IPython.core.display.Markdown object>"
      ]
     },
     "metadata": {},
     "output_type": "display_data"
    },
    {
     "data": {
      "text/html": [
       "\n",
       "        <iframe\n",
       "            width=\"600\"\n",
       "            height=\"400\"\n",
       "            src=\"https://en.m.wikipedia.org/wiki/Rosetta_Stone\"\n",
       "            frameborder=\"0\"\n",
       "            allowfullscreen\n",
       "        ></iframe>\n",
       "        "
      ],
      "text/plain": [
       "<IPython.lib.display.IFrame at 0x1045292e8>"
      ]
     },
     "metadata": {},
     "output_type": "display_data"
    }
   ],
   "source": [
    "[Rosetta Stone](https://en.m.wikipedia.org/wiki/Rosetta_Stone \"-196\")"
   ]
  },
  {
   "cell_type": "code",
   "execution_count": 1,
   "metadata": {
    "slideshow": {
     "slide_type": "subslide"
    }
   },
   "outputs": [
    {
     "data": {
      "text/markdown": [
       "[Magna Carta](https://en.m.wikipedia.org/wiki/Magna_Carta \"1215\")"
      ],
      "text/plain": [
       "<IPython.core.display.Markdown object>"
      ]
     },
     "metadata": {},
     "output_type": "display_data"
    },
    {
     "data": {
      "text/html": [
       "\n",
       "        <iframe\n",
       "            width=\"600\"\n",
       "            height=\"400\"\n",
       "            src=\"https://en.m.wikipedia.org/wiki/Magna_Carta\"\n",
       "            frameborder=\"0\"\n",
       "            allowfullscreen\n",
       "        ></iframe>\n",
       "        "
      ],
      "text/plain": [
       "<IPython.lib.display.IFrame at 0x103b515c0>"
      ]
     },
     "metadata": {},
     "output_type": "display_data"
    }
   ],
   "source": [
    "[Magna Carta](https://en.m.wikipedia.org/wiki/Magna_Carta \"1215\")"
   ]
  },
  {
   "cell_type": "code",
   "execution_count": 1,
   "metadata": {
    "slideshow": {
     "slide_type": "subslide"
    }
   },
   "outputs": [
    {
     "data": {
      "text/markdown": [
       "[Gutenberg bible](https://en.m.wikipedia.org/wiki/Gutenberg_Bible \"1450\")"
      ],
      "text/plain": [
       "<IPython.core.display.Markdown object>"
      ]
     },
     "metadata": {},
     "output_type": "display_data"
    },
    {
     "data": {
      "text/html": [
       "\n",
       "        <iframe\n",
       "            width=\"600\"\n",
       "            height=\"400\"\n",
       "            src=\"https://en.m.wikipedia.org/wiki/Gutenberg_Bible\"\n",
       "            frameborder=\"0\"\n",
       "            allowfullscreen\n",
       "        ></iframe>\n",
       "        "
      ],
      "text/plain": [
       "<IPython.lib.display.IFrame at 0x104a61d30>"
      ]
     },
     "metadata": {},
     "output_type": "display_data"
    }
   ],
   "source": [
    "[Gutenberg bible](https://en.m.wikipedia.org/wiki/Gutenberg_Bible \"1450\")"
   ]
  },
  {
   "cell_type": "code",
   "execution_count": 1,
   "metadata": {
    "slideshow": {
     "slide_type": "subslide"
    }
   },
   "outputs": [
    {
     "data": {
      "text/markdown": [
       "[Declaration of Independence](https://en.m.wikipedia.org/wiki/United_States_Declaration_of_Independence \"1819\")"
      ],
      "text/plain": [
       "<IPython.core.display.Markdown object>"
      ]
     },
     "metadata": {},
     "output_type": "display_data"
    },
    {
     "data": {
      "text/html": [
       "\n",
       "        <iframe\n",
       "            width=\"600\"\n",
       "            height=\"400\"\n",
       "            src=\"https://en.m.wikipedia.org/wiki/United_States_Declaration_of_Independence\"\n",
       "            frameborder=\"0\"\n",
       "            allowfullscreen\n",
       "        ></iframe>\n",
       "        "
      ],
      "text/plain": [
       "<IPython.lib.display.IFrame at 0x103b51550>"
      ]
     },
     "metadata": {},
     "output_type": "display_data"
    }
   ],
   "source": [
    "[Declaration of Independence](https://en.m.wikipedia.org/wiki/United_States_Declaration_of_Independence \"1819\")"
   ]
  },
  {
   "cell_type": "code",
   "execution_count": 6,
   "metadata": {
    "slideshow": {
     "slide_type": "subslide"
    }
   },
   "outputs": [
    {
     "data": {
      "text/html": [
       "\n",
       "        <iframe\n",
       "            width=\"600\"\n",
       "            height=\"400\"\n",
       "            src=\"https://www.high.org/exhibition/basquiat-notebooks/\"\n",
       "            frameborder=\"0\"\n",
       "            allowfullscreen\n",
       "        ></iframe>\n",
       "        "
      ],
      "text/plain": [
       "<IPython.lib.display.IFrame at 0x10ed4f780>"
      ]
     },
     "metadata": {},
     "output_type": "display_data"
    }
   ],
   "source": [
    "https://www.high.org/exhibition/basquiat-notebooks/"
   ]
  },
  {
   "cell_type": "code",
   "execution_count": 1,
   "metadata": {
    "slideshow": {
     "slide_type": "skip"
    }
   },
   "outputs": [
    {
     "data": {
      "text/markdown": [
       "* AIM\n",
       "* Napster\n",
       "* Jabber\n",
       "* Hangouts, Messenger, iChat\n",
       "\n",
       "---\n",
       "\n",
       "* GeoCities\n",
       "* Social Media\n",
       "* Facebook Events"
      ],
      "text/plain": [
       "<IPython.core.display.Markdown object>"
      ]
     },
     "metadata": {},
     "output_type": "display_data"
    }
   ],
   "source": [
    "* AIM\n",
    "* Napster\n",
    "* Jabber\n",
    "* Hangouts, Messenger, iChat\n",
    "\n",
    "---\n",
    "\n",
    "* GeoCities\n",
    "* Social Media\n",
    "* Facebook Events"
   ]
  },
  {
   "cell_type": "code",
   "execution_count": 6,
   "metadata": {
    "slideshow": {
     "slide_type": "slide"
    }
   },
   "outputs": [
    {
     "data": {
      "text/markdown": [
       "## _Community_ & [Culture]()"
      ],
      "text/plain": [
       "<IPython.core.display.Markdown object>"
      ]
     },
     "metadata": {},
     "output_type": "display_data"
    }
   ],
   "source": [
    "## _Community_ & [Culture]()"
   ]
  },
  {
   "cell_type": "code",
   "execution_count": 6,
   "metadata": {},
   "outputs": [
    {
     "data": {
      "text/html": [
       "\n",
       "        <iframe\n",
       "            width=\"600\"\n",
       "            height=\"400\"\n",
       "            src=\"http://www.openculture.com/2013/10/4000-years-of-history-in-histomap-from-1931.html\"\n",
       "            frameborder=\"0\"\n",
       "            allowfullscreen\n",
       "        ></iframe>\n",
       "        "
      ],
      "text/plain": [
       "<IPython.lib.display.IFrame at 0x10ed4fa20>"
      ]
     },
     "metadata": {},
     "output_type": "display_data"
    }
   ],
   "source": [
    "http://www.openculture.com/2013/10/4000-years-of-history-in-histomap-from-1931.html"
   ]
  },
  {
   "cell_type": "code",
   "execution_count": 1,
   "metadata": {
    "slideshow": {
     "slide_type": "fragment"
    }
   },
   "outputs": [
    {
     "data": {
      "text/markdown": [
       "* Old Time magazines\n",
       "* Newspapers\n",
       "* Sears Catalog\n",
       "* Zines\n",
       "\n",
       "---\n",
       "\n",
       "\n",
       "* USENET\n",
       "* IRC \n",
       "* BBS \n",
       "* MUDs"
      ],
      "text/plain": [
       "<IPython.core.display.Markdown object>"
      ]
     },
     "metadata": {},
     "output_type": "display_data"
    }
   ],
   "source": [
    "* Old Time magazines\n",
    "* Newspapers\n",
    "* Sears Catalog\n",
    "* Zines\n",
    "\n",
    "---\n",
    "\n",
    "\n",
    "* USENET\n",
    "* IRC \n",
    "* BBS \n",
    "* MUDs"
   ]
  },
  {
   "cell_type": "code",
   "execution_count": 1,
   "metadata": {
    "slideshow": {
     "slide_type": "subslide"
    }
   },
   "outputs": [
    {
     "data": {
      "text/markdown": [
       "> ##  [The First Web Page](http://info.cern.ch/hypertext/WWW/TheProject.html \"1990\")"
      ],
      "text/plain": [
       "<IPython.core.display.Markdown object>"
      ]
     },
     "metadata": {},
     "output_type": "display_data"
    },
    {
     "data": {
      "text/html": [
       "\n",
       "        <iframe\n",
       "            width=\"600\"\n",
       "            height=\"400\"\n",
       "            src=\"http://info.cern.ch/hypertext/WWW/TheProject.html\"\n",
       "            frameborder=\"0\"\n",
       "            allowfullscreen\n",
       "        ></iframe>\n",
       "        "
      ],
      "text/plain": [
       "<IPython.lib.display.IFrame at 0x103adc898>"
      ]
     },
     "metadata": {},
     "output_type": "display_data"
    }
   ],
   "source": [
    "> ##  [The First Web Page](http://info.cern.ch/hypertext/WWW/TheProject.html \"1990\")"
   ]
  },
  {
   "cell_type": "code",
   "execution_count": 1,
   "metadata": {
    "slideshow": {
     "slide_type": "subslide"
    }
   },
   "outputs": [
    {
     "data": {
      "text/markdown": [
       "> ##  The web needs _both raw data_ -- _fresh hypertext_ or old plain text files, or _smart servers_ giving views of existing databases\n",
       "> – [Helping.html (1990)](http://info.cern.ch/hypertext/WWW/Helping.html)"
      ],
      "text/plain": [
       "<IPython.core.display.Markdown object>"
      ]
     },
     "metadata": {},
     "output_type": "display_data"
    }
   ],
   "source": [
    "> ##  The web needs _both raw data_ -- _fresh hypertext_ or old plain text files, or _smart servers_ giving views of existing databases\n",
    "> – [Helping.html (1990)](http://info.cern.ch/hypertext/WWW/Helping.html)"
   ]
  },
  {
   "cell_type": "code",
   "execution_count": 1,
   "metadata": {
    "slideshow": {
     "slide_type": "skip"
    }
   },
   "outputs": [
    {
     "data": {
      "text/markdown": [
       "## _Community_ & [Culture]()\n",
       "\n",
       "Museums curate the _art_, _craft_ or _media_ of communities with great impact.\n",
       "\n",
       "Group Identities\n",
       "\n",
       "* IKEA\n",
       "* Instagram, Pinterest\n",
       "* Flickr\n",
       "* Beautiful Losers & Skateboarding\n",
       "* Warhol\n",
       "* Sears Roebuck Catalog"
      ],
      "text/plain": [
       "<IPython.core.display.Markdown object>"
      ]
     },
     "metadata": {},
     "output_type": "display_data"
    }
   ],
   "source": [
    "Museums curate the _art_, _craft_ or _media_ of communities with great impact.\n",
    "\n",
    "Group Identities\n",
    "\n",
    "* IKEA\n",
    "* Instagram, Pinterest\n",
    "* Flickr\n",
    "* Beautiful Losers & Skateboarding\n",
    "* Warhol\n",
    "* Sears Roebuck Catalog"
   ]
  },
  {
   "cell_type": "code",
   "execution_count": 6,
   "metadata": {
    "slideshow": {
     "slide_type": "slide"
    }
   },
   "outputs": [
    {
     "data": {
      "text/markdown": [
       "## _Community_ & [Design]()\n",
       "\n",
       "> .. it was Plato (ca. 427 347 BCE) who decreed that all geometric constructions should be done with a straightedge and compass alone.\n",
       "- excerpt from _Beautiful Geometry_, Maor, Jost; 2014"
      ],
      "text/plain": [
       "<IPython.core.display.Markdown object>"
      ]
     },
     "metadata": {},
     "output_type": "display_data"
    }
   ],
   "source": [
    "## _Community_ & [Design]()\n",
    "\n",
    "> .. it was Plato (ca. 427 347 BCE) who decreed that all geometric constructions should be done with a straightedge and compass alone.\n",
    "- excerpt from _Beautiful Geometry_, Maor, Jost; 2014"
   ]
  },
  {
   "cell_type": "code",
   "execution_count": 6,
   "metadata": {
    "slideshow": {
     "slide_type": "subslide"
    }
   },
   "outputs": [
    {
     "data": {
      "text/html": [
       "\n",
       "        <iframe\n",
       "            width=\"600\"\n",
       "            height=\"400\"\n",
       "            src=\"https://en.wikipedia.org/wiki/Form_follows_function#Origins_of_the_phrase\"\n",
       "            frameborder=\"0\"\n",
       "            allowfullscreen\n",
       "        ></iframe>\n",
       "        "
      ],
      "text/plain": [
       "<IPython.lib.display.IFrame at 0x10ed4f780>"
      ]
     },
     "metadata": {},
     "output_type": "display_data"
    }
   ],
   "source": [
    "https://en.wikipedia.org/wiki/Form_follows_function#Origins_of_the_phrase"
   ]
  },
  {
   "cell_type": "code",
   "execution_count": 6,
   "metadata": {
    "slideshow": {
     "slide_type": "subslide"
    }
   },
   "outputs": [
    {
     "data": {
      "text/html": [
       "\n",
       "        <iframe\n",
       "            width=\"600\"\n",
       "            height=\"400\"\n",
       "            src=\"https://player.vimeo.com/video/75234192\"\n",
       "            frameborder=\"0\"\n",
       "            allowfullscreen\n",
       "        ></iframe>\n",
       "        "
      ],
      "text/plain": [
       "<IPython.lib.display.IFrame at 0x113e65668>"
      ]
     },
     "metadata": {},
     "output_type": "display_data"
    }
   ],
   "source": [
    "https://player.vimeo.com/video/75234192"
   ]
  },
  {
   "cell_type": "code",
   "execution_count": 1,
   "metadata": {
    "slideshow": {
     "slide_type": "slide"
    }
   },
   "outputs": [
    {
     "data": {
      "text/markdown": [
       "## _Community_ & [Systems]()\n",
       "\n",
       "\n",
       "> The Eagle soars in the summit of Heaven,\n",
       "The Hunter with his dogs pursues his circuit.\n",
       "O perpetual revolution of configured stars,\n",
       "O perpetual recurrence of determined seasons,\n",
       "O world of spring and autumn, birth and dying!\n",
       "The endless cycle of idea and action,\n",
       "Endless invention, endless experiment,\n",
       "Brings knowledge of motion, but not of stillness;\n",
       "Knowledge of speech, but not of silence;\n",
       "Knowledge of words, and ignorance of the Word.\n",
       "All our knowledge brings us nearer to death,\n",
       "But nearness to death no nearer to God.\n",
       "Where is the Life we have lost in living?\n",
       "Where is the wisdom we have lost in knowledge?\n",
       "Where is the knowledge we have lost in information?\n",
       "The cycles of Heaven in twenty centuries\n",
       "Brings us farther from God and nearer to the Dust.\n",
       "\n",
       "    \n",
       "> [T.S. Eliot - The Rock](http://www.tech-samaritan.org/blog/2010/06/16/choruses-from-the-rock-t-s-eliot/)"
      ],
      "text/plain": [
       "<IPython.core.display.Markdown object>"
      ]
     },
     "metadata": {},
     "output_type": "display_data"
    }
   ],
   "source": [
    "## _Community_ & [Systems]()\n",
    "\n",
    "\n",
    "> The Eagle soars in the summit of Heaven,\n",
    "The Hunter with his dogs pursues his circuit.\n",
    "O perpetual revolution of configured stars,\n",
    "O perpetual recurrence of determined seasons,\n",
    "O world of spring and autumn, birth and dying!\n",
    "The endless cycle of idea and action,\n",
    "Endless invention, endless experiment,\n",
    "Brings knowledge of motion, but not of stillness;\n",
    "Knowledge of speech, but not of silence;\n",
    "Knowledge of words, and ignorance of the Word.\n",
    "All our knowledge brings us nearer to death,\n",
    "But nearness to death no nearer to God.\n",
    "Where is the Life we have lost in living?\n",
    "Where is the wisdom we have lost in knowledge?\n",
    "Where is the knowledge we have lost in information?\n",
    "The cycles of Heaven in twenty centuries\n",
    "Brings us farther from God and nearer to the Dust.\n",
    "\n",
    "    \n",
    "> [T.S. Eliot - The Rock](http://www.tech-samaritan.org/blog/2010/06/16/choruses-from-the-rock-t-s-eliot/)"
   ]
  },
  {
   "cell_type": "code",
   "execution_count": 1,
   "metadata": {},
   "outputs": [
    {
     "data": {
      "text/html": [
       "\n",
       "        <iframe\n",
       "            width=\"600\"\n",
       "            height=\"400\"\n",
       "            src=\"https://en.m.wikipedia.org/wiki/How_to_Solve_It\"\n",
       "            frameborder=\"0\"\n",
       "            allowfullscreen\n",
       "        ></iframe>\n",
       "        "
      ],
      "text/plain": [
       "<IPython.lib.display.IFrame at 0x103acaf98>"
      ]
     },
     "metadata": {},
     "output_type": "display_data"
    }
   ],
   "source": [
    "https://en.m.wikipedia.org/wiki/How_to_Solve_It"
   ]
  },
  {
   "cell_type": "code",
   "execution_count": 1,
   "metadata": {
    "slideshow": {
     "slide_type": "subslide"
    }
   },
   "outputs": [
    {
     "data": {
      "text/html": [
       "\n",
       "        <iframe\n",
       "            width=\"600\"\n",
       "            height=\"400\"\n",
       "            src=\"https://en.m.wikipedia.org/wiki/Bauhaus\"\n",
       "            frameborder=\"0\"\n",
       "            allowfullscreen\n",
       "        ></iframe>\n",
       "        "
      ],
      "text/plain": [
       "<IPython.lib.display.IFrame at 0x103acafd0>"
      ]
     },
     "metadata": {},
     "output_type": "display_data"
    }
   ],
   "source": [
    "https://en.m.wikipedia.org/wiki/Bauhaus"
   ]
  },
  {
   "cell_type": "code",
   "execution_count": 1,
   "metadata": {
    "slideshow": {
     "slide_type": "subslide"
    }
   },
   "outputs": [
    {
     "data": {
      "text/markdown": [
       "### [Paul Klee]()\n",
       "\n",
       "> A line is a dot that went for a walk."
      ],
      "text/plain": [
       "<IPython.core.display.Markdown object>"
      ]
     },
     "metadata": {},
     "output_type": "display_data"
    }
   ],
   "source": [
    "### [Paul Klee]()\n",
    "\n",
    "> A line is a dot that went for a walk."
   ]
  },
  {
   "cell_type": "code",
   "execution_count": 2,
   "metadata": {
    "slideshow": {
     "slide_type": "-"
    }
   },
   "outputs": [
    {
     "data": {
      "text/html": [
       "\n",
       "        <iframe\n",
       "            width=\"600\"\n",
       "            height=\"400\"\n",
       "            src=\"https://www.zpk.org/\"\n",
       "            frameborder=\"0\"\n",
       "            allowfullscreen\n",
       "        ></iframe>\n",
       "        "
      ],
      "text/plain": [
       "<IPython.lib.display.IFrame at 0x104a48ac8>"
      ]
     },
     "execution_count": 2,
     "metadata": {},
     "output_type": "execute_result"
    }
   ],
   "source": [
    "\n",
    "    IFrame(\"https://www.zpk.org/\")"
   ]
  },
  {
   "cell_type": "code",
   "execution_count": 2,
   "metadata": {},
   "outputs": [
    {
     "data": {
      "text/html": [
       "\n",
       "        <iframe\n",
       "            width=\"600\"\n",
       "            height=\"400\"\n",
       "            src=\"http://www.openculture.com/2016/03/3900-pages-of-paul-klees-personal-notebooks-are-now-online.html\"\n",
       "            frameborder=\"0\"\n",
       "            allowfullscreen\n",
       "        ></iframe>\n",
       "        "
      ],
      "text/plain": [
       "<IPython.lib.display.IFrame at 0x104b8bc88>"
      ]
     },
     "metadata": {},
     "output_type": "display_data"
    }
   ],
   "source": [
    "http://www.openculture.com/2016/03/3900-pages-of-paul-klees-personal-notebooks-are-now-online.html"
   ]
  },
  {
   "cell_type": "code",
   "execution_count": 2,
   "metadata": {},
   "outputs": [
    {
     "data": {
      "text/html": [
       "\n",
       "        <iframe\n",
       "            width=\"600\"\n",
       "            height=\"400\"\n",
       "            src=\"http://www.kleegestaltungslehre.zpk.org/ee/ZPK/BF/2012/01/01/001/\"\n",
       "            frameborder=\"0\"\n",
       "            allowfullscreen\n",
       "        ></iframe>\n",
       "        "
      ],
      "text/plain": [
       "<IPython.lib.display.IFrame at 0x10260f128>"
      ]
     },
     "metadata": {},
     "output_type": "display_data"
    }
   ],
   "source": [
    "http://www.kleegestaltungslehre.zpk.org/ee/ZPK/BF/2012/01/01/001/"
   ]
  },
  {
   "cell_type": "code",
   "execution_count": 2,
   "metadata": {},
   "outputs": [
    {
     "data": {
      "text/markdown": [
       "### [Josef Albers](https://w.soundcloud.com/player/?url=https%3A//api.soundcloud.com/tracks/105616439&amp;color=%23ff5500&amp;auto_play=false&amp;hide_related=false&amp;show_comments=true&amp;show_user=true&amp;show_reposts=false&amp;show_teaser=true&amp;visual=true)"
      ],
      "text/plain": [
       "<IPython.core.display.Markdown object>"
      ]
     },
     "metadata": {},
     "output_type": "display_data"
    },
    {
     "data": {
      "text/html": [
       "\n",
       "        <iframe\n",
       "            width=\"600\"\n",
       "            height=\"400\"\n",
       "            src=\"https://w.soundcloud.com/player/?url=https%3A//api.soundcloud.com/tracks/105616439&amp;color=%23ff5500&amp;auto_play=false&amp;hide_related=false&amp;show_comments=true&amp;show_user=true&amp;show_reposts=false&amp;show_teaser=true&amp;visual=true\"\n",
       "            frameborder=\"0\"\n",
       "            allowfullscreen\n",
       "        ></iframe>\n",
       "        "
      ],
      "text/plain": [
       "<IPython.lib.display.IFrame at 0x103ae1278>"
      ]
     },
     "metadata": {},
     "output_type": "display_data"
    }
   ],
   "source": [
    "### [Josef Albers](https://w.soundcloud.com/player/?url=https%3A//api.soundcloud.com/tracks/105616439&amp;color=%23ff5500&amp;auto_play=false&amp;hide_related=false&amp;show_comments=true&amp;show_user=true&amp;show_reposts=false&amp;show_teaser=true&amp;visual=true)"
   ]
  },
  {
   "cell_type": "code",
   "execution_count": 2,
   "metadata": {},
   "outputs": [
    {
     "data": {
      "text/html": [
       "\n",
       "        <iframe\n",
       "            width=\"600\"\n",
       "            height=\"400\"\n",
       "            src=\"http://printingcode.runemadsen.com/lecture-color\"\n",
       "            frameborder=\"0\"\n",
       "            allowfullscreen\n",
       "        ></iframe>\n",
       "        "
      ],
      "text/plain": [
       "<IPython.lib.display.IFrame at 0x10260f128>"
      ]
     },
     "metadata": {},
     "output_type": "display_data"
    }
   ],
   "source": [
    "http://printingcode.runemadsen.com/lecture-color"
   ]
  },
  {
   "cell_type": "code",
   "execution_count": 2,
   "metadata": {},
   "outputs": [
    {
     "data": {
      "text/markdown": [
       "### [Johannes Itten](https://en.m.wikipedia.org/wiki/Johannes_Itten#Influence)"
      ],
      "text/plain": [
       "<IPython.core.display.Markdown object>"
      ]
     },
     "metadata": {},
     "output_type": "display_data"
    },
    {
     "data": {
      "text/html": [
       "\n",
       "        <iframe\n",
       "            width=\"600\"\n",
       "            height=\"400\"\n",
       "            src=\"https://en.m.wikipedia.org/wiki/Johannes_Itten#Influence\"\n",
       "            frameborder=\"0\"\n",
       "            allowfullscreen\n",
       "        ></iframe>\n",
       "        "
      ],
      "text/plain": [
       "<IPython.lib.display.IFrame at 0x101d1c160>"
      ]
     },
     "metadata": {},
     "output_type": "display_data"
    }
   ],
   "source": [
    "### [Johannes Itten](https://en.m.wikipedia.org/wiki/Johannes_Itten#Influence)"
   ]
  },
  {
   "cell_type": "code",
   "execution_count": 2,
   "metadata": {},
   "outputs": [
    {
     "data": {
      "text/markdown": [
       "> [](https://thecolourjournal.files.wordpress.com/2014/09/itten_presentation1oct2.pdf#page=3)"
      ],
      "text/plain": [
       "<IPython.core.display.Markdown object>"
      ]
     },
     "metadata": {},
     "output_type": "display_data"
    },
    {
     "data": {
      "text/html": [
       "\n",
       "        <iframe\n",
       "            width=\"600\"\n",
       "            height=\"400\"\n",
       "            src=\"https://thecolourjournal.files.wordpress.com/2014/09/itten_presentation1oct2.pdf#page=3\"\n",
       "            frameborder=\"0\"\n",
       "            allowfullscreen\n",
       "        ></iframe>\n",
       "        "
      ],
      "text/plain": [
       "<IPython.lib.display.IFrame at 0x104a486a0>"
      ]
     },
     "metadata": {},
     "output_type": "display_data"
    }
   ],
   "source": [
    "> [](https://thecolourjournal.files.wordpress.com/2014/09/itten_presentation1oct2.pdf#page=3)"
   ]
  },
  {
   "cell_type": "code",
   "execution_count": 2,
   "metadata": {},
   "outputs": [
    {
     "data": {
      "text/html": [
       "\n",
       "        <iframe\n",
       "            width=\"600\"\n",
       "            height=\"400\"\n",
       "            src=\"https://en.m.wikipedia.org/wiki/A_Mathematical_Theory_of_Communication\"\n",
       "            frameborder=\"0\"\n",
       "            allowfullscreen\n",
       "        ></iframe>\n",
       "        "
      ],
      "text/plain": [
       "<IPython.lib.display.IFrame at 0x101d1c160>"
      ]
     },
     "metadata": {},
     "output_type": "display_data"
    }
   ],
   "source": [
    "https://en.m.wikipedia.org/wiki/A_Mathematical_Theory_of_Communication"
   ]
  },
  {
   "cell_type": "code",
   "execution_count": 2,
   "metadata": {},
   "outputs": [
    {
     "data": {
      "text/html": [
       "\n",
       "        <iframe\n",
       "            width=\"600\"\n",
       "            height=\"400\"\n",
       "            src=\"https://en.m.wikipedia.org/wiki/The_Mother_of_All_Demos\"\n",
       "            frameborder=\"0\"\n",
       "            allowfullscreen\n",
       "        ></iframe>\n",
       "        "
      ],
      "text/plain": [
       "<IPython.lib.display.IFrame at 0x101d99a90>"
      ]
     },
     "metadata": {},
     "output_type": "display_data"
    }
   ],
   "source": [
    "https://en.m.wikipedia.org/wiki/The_Mother_of_All_Demos"
   ]
  },
  {
   "cell_type": "code",
   "execution_count": 2,
   "metadata": {},
   "outputs": [
    {
     "data": {
      "text/html": [
       "\n",
       "        <iframe\n",
       "            width=\"600\"\n",
       "            height=\"400\"\n",
       "            src=\"http://us.steelclassic.com/bauhaus-designer.html\"\n",
       "            frameborder=\"0\"\n",
       "            allowfullscreen\n",
       "        ></iframe>\n",
       "        "
      ],
      "text/plain": [
       "<IPython.lib.display.IFrame at 0x10260f240>"
      ]
     },
     "metadata": {},
     "output_type": "display_data"
    }
   ],
   "source": [
    "http://us.steelclassic.com/bauhaus-designer.html"
   ]
  },
  {
   "cell_type": "code",
   "execution_count": 2,
   "metadata": {
    "slideshow": {
     "slide_type": "subslide"
    }
   },
   "outputs": [
    {
     "data": {
      "text/markdown": [
       "* Goal is **insight**, not **entertainment**... though **insight** can be _entertaining_\n",
       "* Communities use systems that do **work** when humans **can't**... or **shouldn't**"
      ],
      "text/plain": [
       "<IPython.core.display.Markdown object>"
      ]
     },
     "metadata": {},
     "output_type": "display_data"
    }
   ],
   "source": [
    "* Goal is **insight**, not **entertainment**... though **insight** can be _entertaining_\n",
    "* Communities use systems that do **work** when humans **can't**... or **shouldn't**"
   ]
  },
  {
   "cell_type": "code",
   "execution_count": 2,
   "metadata": {
    "slideshow": {
     "slide_type": "slide"
    }
   },
   "outputs": [
    {
     "data": {
      "text/markdown": [
       "## _Community_ & [Materials]()"
      ],
      "text/plain": [
       "<IPython.core.display.Markdown object>"
      ]
     },
     "metadata": {},
     "output_type": "display_data"
    }
   ],
   "source": [
    "## _Community_ & [Materials]()"
   ]
  },
  {
   "cell_type": "code",
   "execution_count": 2,
   "metadata": {
    "scrolled": true,
    "slideshow": {
     "slide_type": "-"
    }
   },
   "outputs": [
    {
     "data": {
      "text/markdown": [
       "## [Decline of library usage](https://en.m.wikipedia.org/wiki/Trends_in_library_usage#Academic_libraries)"
      ],
      "text/plain": [
       "<IPython.core.display.Markdown object>"
      ]
     },
     "metadata": {},
     "output_type": "display_data"
    },
    {
     "data": {
      "text/html": [
       "\n",
       "        <iframe\n",
       "            width=\"600\"\n",
       "            height=\"400\"\n",
       "            src=\"https://en.m.wikipedia.org/wiki/Trends_in_library_usage#Academic_libraries\"\n",
       "            frameborder=\"0\"\n",
       "            allowfullscreen\n",
       "        ></iframe>\n",
       "        "
      ],
      "text/plain": [
       "<IPython.lib.display.IFrame at 0x101d1c160>"
      ]
     },
     "metadata": {},
     "output_type": "display_data"
    }
   ],
   "source": [
    "## [Decline of library usage](https://en.m.wikipedia.org/wiki/Trends_in_library_usage#Academic_libraries)"
   ]
  },
  {
   "cell_type": "code",
   "execution_count": 2,
   "metadata": {
    "slideshow": {
     "slide_type": "subslide"
    }
   },
   "outputs": [
    {
     "data": {
      "text/html": [
       "\n",
       "        <iframe\n",
       "            width=\"600\"\n",
       "            height=\"400\"\n",
       "            src=\"https://www.hermanmiller.com/content/hermanmiller/northamerica/en_us/home/research/research-summaries/the-once-and-future-library.html\"\n",
       "            frameborder=\"0\"\n",
       "            allowfullscreen\n",
       "        ></iframe>\n",
       "        "
      ],
      "text/plain": [
       "<IPython.lib.display.IFrame at 0x104b8bc88>"
      ]
     },
     "metadata": {},
     "output_type": "display_data"
    }
   ],
   "source": [
    "https://www.hermanmiller.com/content/hermanmiller/northamerica/en_us/home/research/research-summaries/the-once-and-future-library.html"
   ]
  },
  {
   "cell_type": "code",
   "execution_count": 2,
   "metadata": {
    "slideshow": {
     "slide_type": "subslide"
    }
   },
   "outputs": [
    {
     "data": {
      "text/markdown": [
       "<blockquote class=\"twitter-tweet\" data-lang=\"en\"><p lang=\"en\" dir=\"ltr\">fuck paywalls for research papers, fuck paying to publish. these things do nothing good for science. i can&#39;t even access my own work.</p>&mdash; Tony Fast (@DocFast) <a href=\"https://twitter.com/DocFast/status/922282015281569792?ref_src=twsrc%5Etfw\">October 23, 2017</a></blockquote>\n",
       "<script async src=\"https://platform.twitter.com/widgets.js\" charset=\"utf-8\"></script>"
      ],
      "text/plain": [
       "<IPython.core.display.Markdown object>"
      ]
     },
     "metadata": {},
     "output_type": "display_data"
    }
   ],
   "source": [
    "<blockquote class=\"twitter-tweet\" data-lang=\"en\"><p lang=\"en\" dir=\"ltr\">fuck paywalls for research papers, fuck paying to publish. these things do nothing good for science. i can&#39;t even access my own work.</p>&mdash; Tony Fast (@DocFast) <a href=\"https://twitter.com/DocFast/status/922282015281569792?ref_src=twsrc%5Etfw\">October 23, 2017</a></blockquote>\n",
    "<script async src=\"https://platform.twitter.com/widgets.js\" charset=\"utf-8\"></script>"
   ]
  },
  {
   "cell_type": "code",
   "execution_count": 2,
   "metadata": {
    "slideshow": {
     "slide_type": "subslide"
    }
   },
   "outputs": [
    {
     "data": {
      "text/markdown": [
       "# [Scihub](https://en.m.wikipedia.org/wiki/Sci-Hub \"2011\")"
      ],
      "text/plain": [
       "<IPython.core.display.Markdown object>"
      ]
     },
     "metadata": {},
     "output_type": "display_data"
    },
    {
     "data": {
      "text/html": [
       "\n",
       "        <iframe\n",
       "            width=\"600\"\n",
       "            height=\"400\"\n",
       "            src=\"https://en.m.wikipedia.org/wiki/Sci-Hub\"\n",
       "            frameborder=\"0\"\n",
       "            allowfullscreen\n",
       "        ></iframe>\n",
       "        "
      ],
      "text/plain": [
       "<IPython.lib.display.IFrame at 0x104057748>"
      ]
     },
     "metadata": {},
     "output_type": "display_data"
    }
   ],
   "source": [
    "# [Scihub](https://en.m.wikipedia.org/wiki/Sci-Hub \"2011\")"
   ]
  },
  {
   "cell_type": "code",
   "execution_count": 2,
   "metadata": {
    "slideshow": {
     "slide_type": "subslide"
    }
   },
   "outputs": [
    {
     "data": {
      "text/markdown": [
       "* Github\n",
       "    * Science\n",
       "    * Students\n",
       "    * Desktop"
      ],
      "text/plain": [
       "<IPython.core.display.Markdown object>"
      ]
     },
     "metadata": {},
     "output_type": "display_data"
    }
   ],
   "source": [
    "* Github\n",
    "    * Science\n",
    "    * Students\n",
    "    * Desktop"
   ]
  },
  {
   "cell_type": "code",
   "execution_count": 2,
   "metadata": {
    "slideshow": {
     "slide_type": "fragment"
    }
   },
   "outputs": [
    {
     "data": {
      "text/markdown": [
       "> Integration into the Web of Knowledge?"
      ],
      "text/plain": [
       "<IPython.core.display.Markdown object>"
      ]
     },
     "metadata": {},
     "output_type": "display_data"
    }
   ],
   "source": [
    "> Integration into the Web of Knowledge?"
   ]
  },
  {
   "cell_type": "code",
   "execution_count": 2,
   "metadata": {
    "slideshow": {
     "slide_type": "fragment"
    }
   },
   "outputs": [
    {
     "data": {
      "text/markdown": [
       "* Universal Content Identity\n",
       "    * Zenodo (DOI) - A CERN project\n",
       "    * Blockchain\n",
       "    * Interplanetary File System\n",
       "    * DAT - A Moore Foundation Project\n",
       "* Publishing\n",
       "    * Journal of Open Source Science\n",
       "    * Rescience"
      ],
      "text/plain": [
       "<IPython.core.display.Markdown object>"
      ]
     },
     "metadata": {},
     "output_type": "display_data"
    }
   ],
   "source": [
    "* Universal Content Identity\n",
    "    * Zenodo (DOI) - A CERN project\n",
    "    * Blockchain\n",
    "    * Interplanetary File System\n",
    "    * DAT - A Moore Foundation Project\n",
    "* Publishing\n",
    "    * Journal of Open Source Science\n",
    "    * Rescience"
   ]
  },
  {
   "cell_type": "code",
   "execution_count": 2,
   "metadata": {
    "slideshow": {
     "slide_type": "slide"
    }
   },
   "outputs": [
    {
     "data": {
      "text/markdown": [
       "## _Community_ & [Community]()\n",
       "\n",
       "[![](https://www.numfocus.org/wp-content/uploads/NumFocus_LRG.png)](https://www.numfocus.org/)"
      ],
      "text/plain": [
       "<IPython.core.display.Markdown object>"
      ]
     },
     "metadata": {},
     "output_type": "display_data"
    }
   ],
   "source": [
    "## _Community_ & [Community]()\n",
    "\n",
    "[![](https://www.numfocus.org/wp-content/uploads/NumFocus_LRG.png)](https://www.numfocus.org/)"
   ]
  },
  {
   "cell_type": "code",
   "execution_count": 3,
   "metadata": {
    "slideshow": {
     "slide_type": "subslide"
    }
   },
   "outputs": [
    {
     "data": {
      "text/markdown": [
       "Anaconda and the founders thought this was important too!\n",
       "\n",
       "                    __import__('particles.Anaconda_');\n",
       "\n",
       "[![](https://www.anaconda.com/wp-content/themes/anaconda/images/logo-dark.png)](https://anaconda.org)"
      ],
      "text/plain": [
       "<IPython.core.display.Markdown object>"
      ]
     },
     "metadata": {},
     "output_type": "display_data"
    },
    {
     "data": {
      "text/markdown": [
       "## There are 476 packages in the Anaconda Distribution 5.0"
      ],
      "text/plain": [
       "<IPython.core.display.Markdown object>"
      ]
     },
     "metadata": {},
     "output_type": "display_data"
    }
   ],
   "source": [
    "Anaconda and the founders thought this was important too!\n",
    "\n",
    "                    __import__('particles.Anaconda_');\n",
    "\n",
    "[![](https://www.anaconda.com/wp-content/themes/anaconda/images/logo-dark.png)](https://anaconda.org)"
   ]
  },
  {
   "cell_type": "code",
   "execution_count": 4,
   "metadata": {
    "slideshow": {
     "slide_type": "fragment"
    }
   },
   "outputs": [
    {
     "data": {
      "text/markdown": [
       "![](https://conda-forge.org/img/anvil_black.png)\n",
       "        \n",
       "        __import__('particles.Conda Forge Packages');"
      ],
      "text/plain": [
       "<IPython.core.display.Markdown object>"
      ]
     },
     "metadata": {},
     "output_type": "display_data"
    },
    {
     "data": {
      "text/markdown": [
       "## There are 3246 packages by the Conda Forge community"
      ],
      "text/plain": [
       "<IPython.core.display.Markdown object>"
      ]
     },
     "metadata": {},
     "output_type": "display_data"
    }
   ],
   "source": [
    "![](https://conda-forge.org/img/anvil_black.png)\n",
    "        \n",
    "        __import__('particles.Conda Forge Packages');"
   ]
  },
  {
   "cell_type": "code",
   "execution_count": 5,
   "metadata": {
    "slideshow": {
     "slide_type": "subslide"
    }
   },
   "outputs": [
    {
     "data": {
      "text/markdown": [
       "## [conda ![](https://conda-forge.org/img/anvil_black.png) forge has had rapid growth in the past year and a half]()\n",
       "\n",
       "        __import__('particles.Conda Forge');"
      ],
      "text/plain": [
       "<IPython.core.display.Markdown object>"
      ]
     },
     "metadata": {},
     "output_type": "display_data"
    },
    {
     "data": {
      "image/png": "[encoded data removed]",
      "text/plain": [
       "<matplotlib.figure.Figure at 0x10e19cf98>"
      ]
     },
     "metadata": {},
     "output_type": "display_data"
    }
   ],
   "source": [
    "## [conda ![](https://conda-forge.org/img/anvil_black.png) forge has had rapid growth in the past year and a half]()\n",
    "\n",
    "        __import__('particles.Conda Forge');"
   ]
  },
  {
   "cell_type": "code",
   "execution_count": 6,
   "metadata": {
    "slideshow": {
     "slide_type": "subslide"
    }
   },
   "outputs": [
    {
     "data": {
      "text/markdown": [
       "# There are 95 Jupyter kernels"
      ],
      "text/plain": [
       "<IPython.core.display.Markdown object>"
      ]
     },
     "metadata": {},
     "output_type": "display_data"
    },
    {
     "data": {
      "text/html": [
       "<table border=\"1\" class=\"dataframe\">\n",
       "  <thead>\n",
       "    <tr style=\"text-align: right;\">\n",
       "      <th></th>\n",
       "      <th>Jupyter/IPython Version</th>\n",
       "      <th>Language(s) Version</th>\n",
       "      <th>3rd party dependencies</th>\n",
       "      <th>Example Notebooks</th>\n",
       "      <th>Notes</th>\n",
       "    </tr>\n",
       "    <tr>\n",
       "      <th>Name</th>\n",
       "      <th></th>\n",
       "      <th></th>\n",
       "      <th></th>\n",
       "      <th></th>\n",
       "      <th></th>\n",
       "    </tr>\n",
       "  </thead>\n",
       "  <tbody>\n",
       "    <tr>\n",
       "      <th>Coarray-Fortran</th>\n",
       "      <td>Jupyter 4.0</td>\n",
       "      <td>Fortran 2008/2015</td>\n",
       "      <td>GFortran &gt;= 7.1, OpenCoarrays, MPICH &gt;= 3.2</td>\n",
       "      <td>Demo, Binder demo</td>\n",
       "      <td>Docker image</td>\n",
       "    </tr>\n",
       "    <tr>\n",
       "      <th>sparkmagic</th>\n",
       "      <td>Jupyter &gt;=4.0</td>\n",
       "      <td>Pyspark (Python 2 &amp; 3), Spark (Scala), SparkR (R)</td>\n",
       "      <td>Livy</td>\n",
       "      <td>Notebooks, Docker Images</td>\n",
       "      <td>This kernels are implemented via the magics ma...</td>\n",
       "    </tr>\n",
       "    <tr>\n",
       "      <th>sas_kernel</th>\n",
       "      <td>Jupyter 4.0</td>\n",
       "      <td>python &gt;= 3.3</td>\n",
       "      <td>SAS 9.4 or higher</td>\n",
       "      <td>NaN</td>\n",
       "      <td>NaN</td>\n",
       "    </tr>\n",
       "    <tr>\n",
       "      <th>IPyKernel</th>\n",
       "      <td>Jupyter 4.0</td>\n",
       "      <td>python 2.7, &gt;= 3.3</td>\n",
       "      <td>pyzmq</td>\n",
       "      <td>NaN</td>\n",
       "      <td>NaN</td>\n",
       "    </tr>\n",
       "    <tr>\n",
       "      <th>IJulia</th>\n",
       "      <td>NaN</td>\n",
       "      <td>julia &gt;= 0.3</td>\n",
       "      <td>NaN</td>\n",
       "      <td>NaN</td>\n",
       "      <td>NaN</td>\n",
       "    </tr>\n",
       "    <tr>\n",
       "      <th>IHaskell</th>\n",
       "      <td>NaN</td>\n",
       "      <td>ghc &gt;= 7.6</td>\n",
       "      <td>NaN</td>\n",
       "      <td>NaN</td>\n",
       "      <td>NaN</td>\n",
       "    </tr>\n",
       "    <tr>\n",
       "      <th>IRuby</th>\n",
       "      <td>NaN</td>\n",
       "      <td>ruby &gt;= 2.1</td>\n",
       "      <td>NaN</td>\n",
       "      <td>NaN</td>\n",
       "      <td>NaN</td>\n",
       "    </tr>\n",
       "    <tr>\n",
       "      <th>IJavascript</th>\n",
       "      <td>NaN</td>\n",
       "      <td>nodejs &gt;= 0.10</td>\n",
       "      <td>NaN</td>\n",
       "      <td>NaN</td>\n",
       "      <td>NaN</td>\n",
       "    </tr>\n",
       "    <tr>\n",
       "      <th>jpCoffeescript</th>\n",
       "      <td>NaN</td>\n",
       "      <td>coffeescript &gt;= 1.7</td>\n",
       "      <td>NaN</td>\n",
       "      <td>NaN</td>\n",
       "      <td>NaN</td>\n",
       "    </tr>\n",
       "    <tr>\n",
       "      <th>ICSharp</th>\n",
       "      <td>Jupyter 4.0</td>\n",
       "      <td>C# 4.0+</td>\n",
       "      <td>scriptcs</td>\n",
       "      <td>NaN</td>\n",
       "      <td>NaN</td>\n",
       "    </tr>\n",
       "    <tr>\n",
       "      <th>IRKernel</th>\n",
       "      <td>IPython 3.0</td>\n",
       "      <td>R 3.2</td>\n",
       "      <td>rzmq</td>\n",
       "      <td>NaN</td>\n",
       "      <td>NaN</td>\n",
       "    </tr>\n",
       "    <tr>\n",
       "      <th>SageMath</th>\n",
       "      <td>Jupyter 4</td>\n",
       "      <td>Any</td>\n",
       "      <td>many</td>\n",
       "      <td>NaN</td>\n",
       "      <td>NaN</td>\n",
       "    </tr>\n",
       "    <tr>\n",
       "      <th>pari_jupyter</th>\n",
       "      <td>Jupyter 4</td>\n",
       "      <td>2.8</td>\n",
       "      <td>Cython</td>\n",
       "      <td>NaN</td>\n",
       "      <td>NaN</td>\n",
       "    </tr>\n",
       "    <tr>\n",
       "      <th>IFSharp</th>\n",
       "      <td>IPython 2.0</td>\n",
       "      <td>F#</td>\n",
       "      <td>NaN</td>\n",
       "      <td>Features</td>\n",
       "      <td>NaN</td>\n",
       "    </tr>\n",
       "    <tr>\n",
       "      <th>gopherlab</th>\n",
       "      <td>Jupyter 4.1, JupyterLab</td>\n",
       "      <td>Go &gt;= 1.6</td>\n",
       "      <td>ZeroMQ (4.x)</td>\n",
       "      <td>examples</td>\n",
       "      <td>NaN</td>\n",
       "    </tr>\n",
       "    <tr>\n",
       "      <th>Gophernotes</th>\n",
       "      <td>Jupyter 4</td>\n",
       "      <td>Go &gt;= 1.4</td>\n",
       "      <td>zeromq 2.2.x</td>\n",
       "      <td>examples</td>\n",
       "      <td>docker image</td>\n",
       "    </tr>\n",
       "    <tr>\n",
       "      <th>IGo</th>\n",
       "      <td>NaN</td>\n",
       "      <td>Go &gt;= 1.4</td>\n",
       "      <td>NaN</td>\n",
       "      <td>NaN</td>\n",
       "      <td>NaN</td>\n",
       "    </tr>\n",
       "    <tr>\n",
       "      <th>IScala</th>\n",
       "      <td>NaN</td>\n",
       "      <td>Scala</td>\n",
       "      <td>NaN</td>\n",
       "      <td>NaN</td>\n",
       "      <td>NaN</td>\n",
       "    </tr>\n",
       "    <tr>\n",
       "      <th>Jupyter-scala</th>\n",
       "      <td>IPython&gt;=3.0</td>\n",
       "      <td>Scala&gt;=2.10</td>\n",
       "      <td>NaN</td>\n",
       "      <td>example</td>\n",
       "      <td>NaN</td>\n",
       "    </tr>\n",
       "    <tr>\n",
       "      <th>IErlang</th>\n",
       "      <td>IPython 2.3</td>\n",
       "      <td>Erlang</td>\n",
       "      <td>rebar</td>\n",
       "      <td>NaN</td>\n",
       "      <td>NaN</td>\n",
       "    </tr>\n",
       "    <tr>\n",
       "      <th>ITorch</th>\n",
       "      <td>IPython &gt;= 2.2</td>\n",
       "      <td>Torch 7 (LuaJIT)</td>\n",
       "      <td>NaN</td>\n",
       "      <td>NaN</td>\n",
       "      <td>NaN</td>\n",
       "    </tr>\n",
       "    <tr>\n",
       "      <th>IElixir</th>\n",
       "      <td>Jupyter &lt; 6.0</td>\n",
       "      <td>Elixir &lt; 1.5</td>\n",
       "      <td>Erlang OTP &lt;= 19.3, Rebar</td>\n",
       "      <td>example</td>\n",
       "      <td>IElixir Notebook in Docker</td>\n",
       "    </tr>\n",
       "    <tr>\n",
       "      <th>ierl</th>\n",
       "      <td>Jupyter &gt;= 4.0</td>\n",
       "      <td>Erlang 19 or 20, Elixir 1.4 or 1.5, LFE 1.2</td>\n",
       "      <td>Erlang, (optional) Elixir</td>\n",
       "      <td>NaN</td>\n",
       "      <td>NaN</td>\n",
       "    </tr>\n",
       "    <tr>\n",
       "      <th>IAldor</th>\n",
       "      <td>IPython &gt;= 1</td>\n",
       "      <td>Aldor</td>\n",
       "      <td>NaN</td>\n",
       "      <td>NaN</td>\n",
       "      <td>NaN</td>\n",
       "    </tr>\n",
       "    <tr>\n",
       "      <th>IOCaml</th>\n",
       "      <td>IPython &gt;= 1.1</td>\n",
       "      <td>OCaml &gt;= 4.01</td>\n",
       "      <td>opam</td>\n",
       "      <td>NaN</td>\n",
       "      <td>NaN</td>\n",
       "    </tr>\n",
       "    <tr>\n",
       "      <th>IForth</th>\n",
       "      <td>IPython &gt;= 3</td>\n",
       "      <td>Forth</td>\n",
       "      <td>NaN</td>\n",
       "      <td>NaN</td>\n",
       "      <td>NaN</td>\n",
       "    </tr>\n",
       "    <tr>\n",
       "      <th>IPerl</th>\n",
       "      <td>NaN</td>\n",
       "      <td>Perl 5</td>\n",
       "      <td>NaN</td>\n",
       "      <td>NaN</td>\n",
       "      <td>NaN</td>\n",
       "    </tr>\n",
       "    <tr>\n",
       "      <th>IPerl6</th>\n",
       "      <td>NaN</td>\n",
       "      <td>Perl 6</td>\n",
       "      <td>NaN</td>\n",
       "      <td>NaN</td>\n",
       "      <td>NaN</td>\n",
       "    </tr>\n",
       "    <tr>\n",
       "      <th>Jupyter-Perl6</th>\n",
       "      <td>Jupyter</td>\n",
       "      <td>Perl 6.C</td>\n",
       "      <td>Rakudo Perl 6</td>\n",
       "      <td>NaN</td>\n",
       "      <td>NaN</td>\n",
       "    </tr>\n",
       "    <tr>\n",
       "      <th>IPHP</th>\n",
       "      <td>IPython &gt;= 2</td>\n",
       "      <td>PHP &gt;= 5.4</td>\n",
       "      <td>composer</td>\n",
       "      <td>NaN</td>\n",
       "      <td>DEPRECATED, use Jupyter-PHP</td>\n",
       "    </tr>\n",
       "    <tr>\n",
       "      <th>Jupyter-PHP</th>\n",
       "      <td>Jupyter 4.0</td>\n",
       "      <td>PHP &gt;= 7.0.0</td>\n",
       "      <td>composer, php-zmq</td>\n",
       "      <td>NaN</td>\n",
       "      <td>NaN</td>\n",
       "    </tr>\n",
       "    <tr>\n",
       "      <th>IOctave</th>\n",
       "      <td>Jupyter</td>\n",
       "      <td>Octave</td>\n",
       "      <td>NaN</td>\n",
       "      <td>Example</td>\n",
       "      <td>MetaKernel</td>\n",
       "    </tr>\n",
       "    <tr>\n",
       "      <th>IScilab</th>\n",
       "      <td>Jupyter</td>\n",
       "      <td>Scilab</td>\n",
       "      <td>NaN</td>\n",
       "      <td>Example</td>\n",
       "      <td>MetaKernel</td>\n",
       "    </tr>\n",
       "    <tr>\n",
       "      <th>MATLAB Kernel</th>\n",
       "      <td>Jupyter</td>\n",
       "      <td>Matlab</td>\n",
       "      <td>pymatbridge</td>\n",
       "      <td>Example</td>\n",
       "      <td>MetaKernel</td>\n",
       "    </tr>\n",
       "    <tr>\n",
       "      <th>Bash</th>\n",
       "      <td>IPython &gt;= 3</td>\n",
       "      <td>bash</td>\n",
       "      <td>NaN</td>\n",
       "      <td>NaN</td>\n",
       "      <td>Wrapper</td>\n",
       "    </tr>\n",
       "    <tr>\n",
       "      <th>PowerShell</th>\n",
       "      <td>IPython &gt;= 3</td>\n",
       "      <td>Windows</td>\n",
       "      <td>NaN</td>\n",
       "      <td>NaN</td>\n",
       "      <td>Wrapper, Based on Bash Kernel</td>\n",
       "    </tr>\n",
       "    <tr>\n",
       "      <th>CloJupyter</th>\n",
       "      <td>Jupyter</td>\n",
       "      <td>Clojure &gt;= 1.7</td>\n",
       "      <td>NaN</td>\n",
       "      <td>NaN</td>\n",
       "      <td>NaN</td>\n",
       "    </tr>\n",
       "    <tr>\n",
       "      <th>CLJ-Jupyter</th>\n",
       "      <td>Jupyter</td>\n",
       "      <td>Clojure</td>\n",
       "      <td>NaN</td>\n",
       "      <td>NaN</td>\n",
       "      <td>Abandoned as of 2017-02-12</td>\n",
       "    </tr>\n",
       "    <tr>\n",
       "      <th>jupyter-kernel-jsr223</th>\n",
       "      <td>Jupyter&gt;=4.0</td>\n",
       "      <td>Clojure 1.8</td>\n",
       "      <td>clojure-jrs223, Java&gt;=7</td>\n",
       "      <td>NaN</td>\n",
       "      <td>Java based JSR223 compliant</td>\n",
       "    </tr>\n",
       "    <tr>\n",
       "      <th>Hy Kernel</th>\n",
       "      <td>Jupyter</td>\n",
       "      <td>Hy</td>\n",
       "      <td>NaN</td>\n",
       "      <td>Tutorial</td>\n",
       "      <td>treats Hy as Python pre-processor</td>\n",
       "    </tr>\n",
       "    <tr>\n",
       "      <th>Calysto Hy</th>\n",
       "      <td>Jupyter</td>\n",
       "      <td>Hy</td>\n",
       "      <td>NaN</td>\n",
       "      <td>Tutorial</td>\n",
       "      <td>based on MetaKernel (magics, shell, parallel, ...</td>\n",
       "    </tr>\n",
       "    <tr>\n",
       "      <th>Redis Kernel</th>\n",
       "      <td>IPython &gt;= 3</td>\n",
       "      <td>redis</td>\n",
       "      <td>NaN</td>\n",
       "      <td>NaN</td>\n",
       "      <td>Wrapper</td>\n",
       "    </tr>\n",
       "    <tr>\n",
       "      <th>jove</th>\n",
       "      <td>NaN</td>\n",
       "      <td>io.js</td>\n",
       "      <td>NaN</td>\n",
       "      <td>NaN</td>\n",
       "      <td>NaN</td>\n",
       "    </tr>\n",
       "    <tr>\n",
       "      <th>jp-babel</th>\n",
       "      <td>Jupyter</td>\n",
       "      <td>Babel</td>\n",
       "      <td>NaN</td>\n",
       "      <td>NaN</td>\n",
       "      <td>NaN</td>\n",
       "    </tr>\n",
       "    <tr>\n",
       "      <th>ICalico</th>\n",
       "      <td>IPython &gt;= 2</td>\n",
       "      <td>multiple</td>\n",
       "      <td>NaN</td>\n",
       "      <td>Index</td>\n",
       "      <td>NaN</td>\n",
       "    </tr>\n",
       "    <tr>\n",
       "      <th>IMathics</th>\n",
       "      <td>NaN</td>\n",
       "      <td>Mathics</td>\n",
       "      <td>NaN</td>\n",
       "      <td>NaN</td>\n",
       "      <td>NaN</td>\n",
       "    </tr>\n",
       "    <tr>\n",
       "      <th>IWolfram</th>\n",
       "      <td>NaN</td>\n",
       "      <td>Wolfram Mathematica</td>\n",
       "      <td>Wolfram Mathematica(R), Metakernel</td>\n",
       "      <td>NaN</td>\n",
       "      <td>MetaKernel</td>\n",
       "    </tr>\n",
       "    <tr>\n",
       "      <th>Lua Kernel</th>\n",
       "      <td>NaN</td>\n",
       "      <td>Lua</td>\n",
       "      <td>NaN</td>\n",
       "      <td>NaN</td>\n",
       "      <td>NaN</td>\n",
       "    </tr>\n",
       "    <tr>\n",
       "      <th>IPyLua</th>\n",
       "      <td>NaN</td>\n",
       "      <td>Lua</td>\n",
       "      <td>NaN</td>\n",
       "      <td>NaN</td>\n",
       "      <td>Fork of Lua Kernel</td>\n",
       "    </tr>\n",
       "    <tr>\n",
       "      <th>Calysto Scheme</th>\n",
       "      <td>NaN</td>\n",
       "      <td>Scheme</td>\n",
       "      <td>NaN</td>\n",
       "      <td>Reference Guide</td>\n",
       "      <td>MetaKernel</td>\n",
       "    </tr>\n",
       "    <tr>\n",
       "      <th>Calysto Processing</th>\n",
       "      <td>NaN</td>\n",
       "      <td>Processing.js &gt;= 2</td>\n",
       "      <td>NaN</td>\n",
       "      <td>NaN</td>\n",
       "      <td>MetaKernel</td>\n",
       "    </tr>\n",
       "    <tr>\n",
       "      <th>idl_kernel</th>\n",
       "      <td>NaN</td>\n",
       "      <td>IDL</td>\n",
       "      <td>NaN</td>\n",
       "      <td>NaN</td>\n",
       "      <td>IDL seem to have a built-in kernel starting wi...</td>\n",
       "    </tr>\n",
       "    <tr>\n",
       "      <th>Mochi Kernel</th>\n",
       "      <td>NaN</td>\n",
       "      <td>Mochi</td>\n",
       "      <td>NaN</td>\n",
       "      <td>NaN</td>\n",
       "      <td>NaN</td>\n",
       "    </tr>\n",
       "    <tr>\n",
       "      <th>Lua (used in Splash)</th>\n",
       "      <td>NaN</td>\n",
       "      <td>Lua</td>\n",
       "      <td>NaN</td>\n",
       "      <td>NaN</td>\n",
       "      <td>NaN</td>\n",
       "    </tr>\n",
       "    <tr>\n",
       "      <th>Apache Toree (formerly Spark Kernel)</th>\n",
       "      <td>Jupyter</td>\n",
       "      <td>Scala, Python, R</td>\n",
       "      <td>Spark &gt;= 1.5</td>\n",
       "      <td>Example</td>\n",
       "      <td>NaN</td>\n",
       "    </tr>\n",
       "    <tr>\n",
       "      <th>Skulpt Python Kernel</th>\n",
       "      <td>NaN</td>\n",
       "      <td>Skulpt Python</td>\n",
       "      <td>NaN</td>\n",
       "      <td>Examples</td>\n",
       "      <td>MetaKernel</td>\n",
       "    </tr>\n",
       "    <tr>\n",
       "      <th>MetaKernel Bash</th>\n",
       "      <td>NaN</td>\n",
       "      <td>bash</td>\n",
       "      <td>NaN</td>\n",
       "      <td>NaN</td>\n",
       "      <td>MetaKernel</td>\n",
       "    </tr>\n",
       "    <tr>\n",
       "      <th>MetaKernel Python</th>\n",
       "      <td>NaN</td>\n",
       "      <td>python</td>\n",
       "      <td>NaN</td>\n",
       "      <td>NaN</td>\n",
       "      <td>MetaKernel</td>\n",
       "    </tr>\n",
       "    <tr>\n",
       "      <th>IVisual</th>\n",
       "      <td>NaN</td>\n",
       "      <td>VPython</td>\n",
       "      <td>NaN</td>\n",
       "      <td>Ball-in-Box</td>\n",
       "      <td>NaN</td>\n",
       "    </tr>\n",
       "    <tr>\n",
       "      <th>IBrainfuck</th>\n",
       "      <td>NaN</td>\n",
       "      <td>Brainfuck</td>\n",
       "      <td>NaN</td>\n",
       "      <td>Demo</td>\n",
       "      <td>Wrapper</td>\n",
       "    </tr>\n",
       "    <tr>\n",
       "      <th>KDB+/Q Kernel (IKdbQ)</th>\n",
       "      <td>IPython &gt;= 3.1</td>\n",
       "      <td>Q</td>\n",
       "      <td>qzmq, qcrypt</td>\n",
       "      <td>NaN</td>\n",
       "      <td>NaN</td>\n",
       "    </tr>\n",
       "    <tr>\n",
       "      <th>KDB+/Q Kernel (KdbQ Kernel)</th>\n",
       "      <td>Jupyter</td>\n",
       "      <td>Q</td>\n",
       "      <td>NaN</td>\n",
       "      <td>NaN</td>\n",
       "      <td>NaN</td>\n",
       "    </tr>\n",
       "    <tr>\n",
       "      <th>ICryptol</th>\n",
       "      <td>NaN</td>\n",
       "      <td>Cryptol</td>\n",
       "      <td>CVC4</td>\n",
       "      <td>NaN</td>\n",
       "      <td>NaN</td>\n",
       "    </tr>\n",
       "    <tr>\n",
       "      <th>cling</th>\n",
       "      <td>Jupyter 4</td>\n",
       "      <td>C++</td>\n",
       "      <td>NaN</td>\n",
       "      <td>Example</td>\n",
       "      <td>NaN</td>\n",
       "    </tr>\n",
       "    <tr>\n",
       "      <th>Xonsh</th>\n",
       "      <td>NaN</td>\n",
       "      <td>Xonsh</td>\n",
       "      <td>NaN</td>\n",
       "      <td>Example</td>\n",
       "      <td>MetaKernel</td>\n",
       "    </tr>\n",
       "    <tr>\n",
       "      <th>Prolog</th>\n",
       "      <td>NaN</td>\n",
       "      <td>Prolog</td>\n",
       "      <td>NaN</td>\n",
       "      <td>NaN</td>\n",
       "      <td>MetaKernel</td>\n",
       "    </tr>\n",
       "    <tr>\n",
       "      <th>cl-jupyter</th>\n",
       "      <td>Jupyter</td>\n",
       "      <td>Common Lisp</td>\n",
       "      <td>Quicklisp</td>\n",
       "      <td>About</td>\n",
       "      <td>NaN</td>\n",
       "    </tr>\n",
       "    <tr>\n",
       "      <th>Maxima-Jupyter</th>\n",
       "      <td>Jupyter</td>\n",
       "      <td>Maxima</td>\n",
       "      <td>Quicklisp</td>\n",
       "      <td>NaN</td>\n",
       "      <td>NaN</td>\n",
       "    </tr>\n",
       "    <tr>\n",
       "      <th>Calysto LC3</th>\n",
       "      <td>NaN</td>\n",
       "      <td>NaN</td>\n",
       "      <td>NaN</td>\n",
       "      <td>NaN</td>\n",
       "      <td>Assembly Language for the Little Computer 3</td>\n",
       "    </tr>\n",
       "    <tr>\n",
       "      <th>Yacas</th>\n",
       "      <td>NaN</td>\n",
       "      <td>YACAS</td>\n",
       "      <td>NaN</td>\n",
       "      <td>NaN</td>\n",
       "      <td>NaN</td>\n",
       "    </tr>\n",
       "    <tr>\n",
       "      <th>IJython</th>\n",
       "      <td>NaN</td>\n",
       "      <td>Jython 2.7</td>\n",
       "      <td>NaN</td>\n",
       "      <td>NaN</td>\n",
       "      <td>NaN</td>\n",
       "    </tr>\n",
       "    <tr>\n",
       "      <th>ROOT</th>\n",
       "      <td>Jupyter</td>\n",
       "      <td>C++/python</td>\n",
       "      <td>ROOT &gt;= 6.05</td>\n",
       "      <td>NaN</td>\n",
       "      <td>NaN</td>\n",
       "    </tr>\n",
       "    <tr>\n",
       "      <th>Gnuplot Kernel</th>\n",
       "      <td>NaN</td>\n",
       "      <td>Gnuplot</td>\n",
       "      <td>NaN</td>\n",
       "      <td>Example</td>\n",
       "      <td>MetaKernel</td>\n",
       "    </tr>\n",
       "    <tr>\n",
       "      <th>Tcl</th>\n",
       "      <td>Jupyter</td>\n",
       "      <td>Tcl 8.5</td>\n",
       "      <td>NaN</td>\n",
       "      <td>NaN</td>\n",
       "      <td>Based on Bash Kernel</td>\n",
       "    </tr>\n",
       "    <tr>\n",
       "      <th>J</th>\n",
       "      <td>Jupyter</td>\n",
       "      <td>J 805</td>\n",
       "      <td>NaN</td>\n",
       "      <td>Examples</td>\n",
       "      <td>NaN</td>\n",
       "    </tr>\n",
       "    <tr>\n",
       "      <th>Jython</th>\n",
       "      <td>Jupyter&gt;=4.0</td>\n",
       "      <td>Jython&gt;=2.7.0</td>\n",
       "      <td>Java&gt;=7</td>\n",
       "      <td>NaN</td>\n",
       "      <td>Java based JSR223 compliant</td>\n",
       "    </tr>\n",
       "    <tr>\n",
       "      <th>C</th>\n",
       "      <td>Jupyter</td>\n",
       "      <td>C</td>\n",
       "      <td>gcc</td>\n",
       "      <td>NaN</td>\n",
       "      <td>NaN</td>\n",
       "    </tr>\n",
       "    <tr>\n",
       "      <th>TaQL</th>\n",
       "      <td>Jupyter</td>\n",
       "      <td>TaQL</td>\n",
       "      <td>python-casacore</td>\n",
       "      <td>TaQL tutorial</td>\n",
       "      <td>NaN</td>\n",
       "    </tr>\n",
       "    <tr>\n",
       "      <th>Coconut</th>\n",
       "      <td>Jupyter</td>\n",
       "      <td>Coconut</td>\n",
       "      <td>NaN</td>\n",
       "      <td>NaN</td>\n",
       "      <td>NaN</td>\n",
       "    </tr>\n",
       "    <tr>\n",
       "      <th>SPARQL</th>\n",
       "      <td>Jupyter 4</td>\n",
       "      <td>Python 2.7 or &gt;=3.4</td>\n",
       "      <td>rdflib, SPARQLWrapper</td>\n",
       "      <td>Examples</td>\n",
       "      <td>Optional GraphViz dependency</td>\n",
       "    </tr>\n",
       "    <tr>\n",
       "      <th>AIML chatbot</th>\n",
       "      <td>Jupyter 4</td>\n",
       "      <td>Python 2.7</td>\n",
       "      <td>pyAIML</td>\n",
       "      <td>Examples</td>\n",
       "      <td>NaN</td>\n",
       "    </tr>\n",
       "    <tr>\n",
       "      <th>IArm</th>\n",
       "      <td>Jupyter 4</td>\n",
       "      <td>ARMv6 THUMB</td>\n",
       "      <td>NaN</td>\n",
       "      <td>Examples</td>\n",
       "      <td>Based off of the ARM Cortex M0+ CPU</td>\n",
       "    </tr>\n",
       "    <tr>\n",
       "      <th>SoS</th>\n",
       "      <td>Jupyter 4</td>\n",
       "      <td>Python &gt;=3.4</td>\n",
       "      <td>NaN</td>\n",
       "      <td>Examples</td>\n",
       "      <td>Workflow system, Multi-Kernel support</td>\n",
       "    </tr>\n",
       "    <tr>\n",
       "      <th>jupyter-nodejs</th>\n",
       "      <td>Jupyter, iPython 3.x</td>\n",
       "      <td>NodeJS, Babel, Clojurescript</td>\n",
       "      <td>NaN</td>\n",
       "      <td>Examples</td>\n",
       "      <td>NaN</td>\n",
       "    </tr>\n",
       "    <tr>\n",
       "      <th>Pike</th>\n",
       "      <td>IPython &gt;= 3</td>\n",
       "      <td>Pike &gt;= 7.8</td>\n",
       "      <td>NaN</td>\n",
       "      <td>NaN</td>\n",
       "      <td>Wrapper, Based on Bash Kernel</td>\n",
       "    </tr>\n",
       "    <tr>\n",
       "      <th>ITypeScript</th>\n",
       "      <td>NaN</td>\n",
       "      <td>Typescript &gt;= 2.0</td>\n",
       "      <td>Node.js &gt;= 0.10.0</td>\n",
       "      <td>NaN</td>\n",
       "      <td>NaN</td>\n",
       "    </tr>\n",
       "    <tr>\n",
       "      <th>imatlab</th>\n",
       "      <td>ipykernel &gt;= 4.1</td>\n",
       "      <td>MATLAB &gt;= 2016b</td>\n",
       "      <td>NaN</td>\n",
       "      <td>NaN</td>\n",
       "      <td>NaN</td>\n",
       "    </tr>\n",
       "    <tr>\n",
       "      <th>jupyter-kotlin</th>\n",
       "      <td>Jupyter</td>\n",
       "      <td>Kotlin 1.1-M04 EAP</td>\n",
       "      <td>Java &gt;= 8</td>\n",
       "      <td>NaN</td>\n",
       "      <td>NaN</td>\n",
       "    </tr>\n",
       "    <tr>\n",
       "      <th>jupyter_kernel_singular</th>\n",
       "      <td>Jupyter</td>\n",
       "      <td>Singular 4.1.0</td>\n",
       "      <td>NaN</td>\n",
       "      <td>Demo</td>\n",
       "      <td>Optional PySingular for better performance, su...</td>\n",
       "    </tr>\n",
       "    <tr>\n",
       "      <th>spylon-kernel</th>\n",
       "      <td>ipykernel &gt;=4.5</td>\n",
       "      <td>python &gt;= 3.5, scala &gt;= 2.11</td>\n",
       "      <td>Apache Spark &gt;=2.0</td>\n",
       "      <td>Example</td>\n",
       "      <td>MetaKernel</td>\n",
       "    </tr>\n",
       "    <tr>\n",
       "      <th>mit-scheme-kernel</th>\n",
       "      <td>Jupyter 4.0</td>\n",
       "      <td>MIT Scheme 9.2</td>\n",
       "      <td>NaN</td>\n",
       "      <td>NaN</td>\n",
       "      <td>NaN</td>\n",
       "    </tr>\n",
       "    <tr>\n",
       "      <th>elm-kernel</th>\n",
       "      <td>Jupyter</td>\n",
       "      <td>NaN</td>\n",
       "      <td>NaN</td>\n",
       "      <td>Examples</td>\n",
       "      <td>NaN</td>\n",
       "    </tr>\n",
       "    <tr>\n",
       "      <th>SciJava Jupyter Kernel</th>\n",
       "      <td>Jupyter 4.3.0</td>\n",
       "      <td>Java + 9 scripting languages</td>\n",
       "      <td>Java</td>\n",
       "      <td>Examples</td>\n",
       "      <td>NaN</td>\n",
       "    </tr>\n",
       "    <tr>\n",
       "      <th>Isbt</th>\n",
       "      <td>Jupyter 4.3.0</td>\n",
       "      <td>sbt &gt;= 1.0.0</td>\n",
       "      <td>sbt</td>\n",
       "      <td>example</td>\n",
       "      <td>NaN</td>\n",
       "    </tr>\n",
       "    <tr>\n",
       "      <th>BeakerX</th>\n",
       "      <td>NaN</td>\n",
       "      <td>NaN</td>\n",
       "      <td>Groovy, Java, Scala, Clojure, Kotlin, SQL</td>\n",
       "      <td>example</td>\n",
       "      <td>docker image</td>\n",
       "    </tr>\n",
       "  </tbody>\n",
       "</table>"
      ],
      "text/plain": [
       "<IPython.core.display.HTML object>"
      ]
     },
     "metadata": {},
     "output_type": "display_data"
    }
   ],
   "source": [
    "\n",
    "    kernels = Import('.Number of Kernels')"
   ]
  }
 ],
 "metadata": {
  "celltoolbar": "Slideshow",
  "kernelspec": {
   "display_name": "Python 3",
   "language": "python",
   "name": "python3"
  },
  "language_info": {
   "codemirror_mode": {
    "name": "ipython",
    "version": 3
   },
   "file_extension": ".py",
   "mimetype": "text/x-python",
   "name": "python",
   "nbconvert_exporter": "python",
   "pygments_lexer": "ipython3",
   "version": "3.5.3"
  }
 },
 "nbformat": 4,
 "nbformat_minor": 2
}
