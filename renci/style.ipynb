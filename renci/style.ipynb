{
 "cells": [
  {
   "cell_type": "code",
   "execution_count": 1,
   "metadata": {
    "collapsed": true
   },
   "outputs": [],
   "source": [
    "    %reload_ext autoreload\n",
    "    %autoreload 2\n",
    "    from setuptools import find_packages\n",
    "    packages = find_packages('..')\n",
    "    from toolz.curried import *\n",
    "    from IPython.display import *\n",
    "    from importlib import import_module\n",
    "    IFrame = partial(IFrame, width=600, height=400)"
   ]
  },
  {
   "cell_type": "code",
   "execution_count": 2,
   "metadata": {
    "collapsed": true
   },
   "outputs": [],
   "source": [
    "    def Import(pkg, default='particles', main='renci'):\n",
    "        pkg = (pkg.startswith('.') and default or '') + pkg\n",
    "        return import_module(pkg)"
   ]
  },
  {
   "cell_type": "code",
   "execution_count": 3,
   "metadata": {
    "collapsed": true,
    "slideshow": {
     "slide_type": "slide"
    }
   },
   "outputs": [],
   "source": [
    "    rise_src_css = \"\"\"<style>\n",
    "    body.rise-hack-active div.reveal .code_cell .input,\n",
    "    body.rise-hack-active div.reveal .output_stderr {\n",
    "        display: none;\n",
    "    }\n",
    "    button.rise-hack:hover {\n",
    "        opacity: 0.7;\n",
    "    }\n",
    "    button.rise-hack {\n",
    "        font-weight: bold;\n",
    "    }\n",
    "    body.rise-hack-active button.rise-hack {\n",
    "        text-decoration: line-through;\n",
    "    }\n",
    "    </style>\"\"\""
   ]
  },
  {
   "cell_type": "code",
   "execution_count": 4,
   "metadata": {
    "collapsed": true,
    "slideshow": {
     "slide_type": "-"
    }
   },
   "outputs": [],
   "source": [
    "    rise_src_js = \"\"\";(function(){\n",
    "        function init() {   \n",
    "            $(\"button.rise-hack\").remove();\n",
    "            $(\"body\").addClass(\"rise-hack-active\");\n",
    "            var btn = $(\"<button/>\", {\"class\": \"rise-hack\"}).text(\"</>\");\n",
    "            btn.bind(\"click\", function(){\n",
    "                $(\"body\").toggleClass(\"rise-hack-active\");\n",
    "                Reveal.layout();\n",
    "            });\n",
    "            $(\".controls\").append(btn);\n",
    "        }\n",
    "\n",
    "        function subscribe(){\n",
    "            if(!window.Reveal){\n",
    "                return setTimeout(subscribe, 1000);\n",
    "            }\n",
    "            Reveal.addEventListener('ready', init);\n",
    "            init();\n",
    "        }\n",
    "        subscribe();   \n",
    "    }).call(this);\"\"\""
   ]
  },
  {
   "cell_type": "code",
   "execution_count": 5,
   "metadata": {
    "collapsed": true,
    "slideshow": {
     "slide_type": "slide"
    }
   },
   "outputs": [],
   "source": [
    "    css = \"\"\"<style>\n",
    "        iframe {\n",
    "            width: 100%;\n",
    "            min-height: 80vh;\n",
    "            max-height: 1000px;\n",
    "        }\n",
    "    </style>\"\"\""
   ]
  },
  {
   "cell_type": "code",
   "execution_count": 6,
   "metadata": {},
   "outputs": [
    {
     "data": {
      "text/html": [
       "<style>\n",
       "    iframe {\n",
       "        width: 100%;\n",
       "        min-height: 80vh;\n",
       "        max-height: 1000px;\n",
       "    }\n",
       "</style>"
      ],
      "text/plain": [
       "<IPython.core.display.HTML object>"
      ]
     },
     "metadata": {},
     "output_type": "display_data"
    },
    {
     "data": {
      "text/html": [
       "<style>\n",
       "body.rise-hack-active div.reveal .code_cell .input,\n",
       "body.rise-hack-active div.reveal .output_stderr {\n",
       "    display: none;\n",
       "}\n",
       "button.rise-hack:hover {\n",
       "    opacity: 0.7;\n",
       "}\n",
       "button.rise-hack {\n",
       "    font-weight: bold;\n",
       "}\n",
       "body.rise-hack-active button.rise-hack {\n",
       "    text-decoration: line-through;\n",
       "}\n",
       "</style>"
      ],
      "text/plain": [
       "<IPython.core.display.HTML object>"
      ]
     },
     "metadata": {},
     "output_type": "display_data"
    },
    {
     "data": {
      "application/javascript": [
       ";(function(){\n",
       "    function init() {   \n",
       "        $(\"button.rise-hack\").remove();\n",
       "        $(\"body\").addClass(\"rise-hack-active\");\n",
       "        var btn = $(\"<button/>\", {\"class\": \"rise-hack\"}).text(\"</>\");\n",
       "        btn.bind(\"click\", function(){\n",
       "            $(\"body\").toggleClass(\"rise-hack-active\");\n",
       "            Reveal.layout();\n",
       "        });\n",
       "        $(\".controls\").append(btn);\n",
       "    }\n",
       "\n",
       "    function subscribe(){\n",
       "        if(!window.Reveal){\n",
       "            return setTimeout(subscribe, 1000);\n",
       "        }\n",
       "        Reveal.addEventListener('ready', init);\n",
       "        init();\n",
       "    }\n",
       "    subscribe();   \n",
       "}).call(this);"
      ],
      "text/plain": [
       "<IPython.core.display.Javascript object>"
      ]
     },
     "metadata": {},
     "output_type": "display_data"
    }
   ],
   "source": [
    "    display(HTML(css), HTML(rise_src_css), Javascript(rise_src_js))"
   ]
  },
  {
   "cell_type": "code",
   "execution_count": null,
   "metadata": {
    "collapsed": true
   },
   "outputs": [],
   "source": []
  }
 ],
 "metadata": {
  "celltoolbar": "Slideshow",
  "kernelspec": {
   "display_name": "Python 3",
   "language": "python",
   "name": "python3"
  },
  "language_info": {
   "codemirror_mode": {
    "name": "ipython",
    "version": 3
   },
   "file_extension": ".py",
   "mimetype": "text/x-python",
   "name": "python",
   "nbconvert_exporter": "python",
   "pygments_lexer": "ipython3",
   "version": "3.5.3"
  }
 },
 "nbformat": 4,
 "nbformat_minor": 2
}
