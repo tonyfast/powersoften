{
 "cells": [
  {
   "cell_type": "markdown",
   "metadata": {
    "slideshow": {
     "slide_type": "slide"
    }
   },
   "source": [
    "# [Culture]()\n",
    "\n",
    "> Culture changes with time."
   ]
  },
  {
   "cell_type": "markdown",
   "metadata": {
    "slideshow": {
     "slide_type": "-"
    }
   },
   "source": [
    "The modern, machine-assisted cultural infrastructure for open knowledge is:\n",
    "\n",
    "- persistent\n",
    "- (human, computer) language agnostic\n",
    "- multi-domain\n",
    "- built on volunteer effort\n",
    "- decentralized\n",
    "- open source\n",
    "\n",
    "Case study: ![](https://github.com/jupyter/notebook/raw/master/notebook/static/base/images/logo.png)"
   ]
  },
  {
   "cell_type": "code",
   "execution_count": 1,
   "metadata": {
    "slideshow": {
     "slide_type": "slide"
    }
   },
   "outputs": [
    {
     "data": {
      "text/html": [
       "<style>\n",
       "    iframe {\n",
       "        width: 100%;\n",
       "        min-height: 80vh;\n",
       "        max-height: 1000px;\n",
       "    }\n",
       "</style>"
      ],
      "text/plain": [
       "<IPython.core.display.HTML object>"
      ]
     },
     "metadata": {},
     "output_type": "display_data"
    },
    {
     "data": {
      "text/html": [
       "<style>\n",
       "body.rise-hack-active div.reveal .code_cell .input,\n",
       "body.rise-hack-active div.reveal .output_stderr {\n",
       "    display: none;\n",
       "}\n",
       "button.rise-hack:hover {\n",
       "    opacity: 0.7;\n",
       "}\n",
       "button.rise-hack {\n",
       "    font-weight: bold;\n",
       "}\n",
       "body.rise-hack-active button.rise-hack {\n",
       "    text-decoration: line-through;\n",
       "}\n",
       "</style>"
      ],
      "text/plain": [
       "<IPython.core.display.HTML object>"
      ]
     },
     "metadata": {},
     "output_type": "display_data"
    },
    {
     "data": {
      "application/javascript": [
       ";(function(){\n",
       "    function init() {\n",
       "        $(\"button.rise-hack\").remove();\n",
       "        $(\"body\").addClass(\"rise-hack-active\");\n",
       "        var btn = $(\"<button/>\", {\"class\": \"rise-hack\"}).text(\"</>\");\n",
       "        btn.bind(\"click\", function(){\n",
       "            $(\"body\").toggleClass(\"rise-hack-active\");\n",
       "            Reveal.layout();\n",
       "        });\n",
       "        $(\".controls\").append(btn);\n",
       "    }\n",
       "\n",
       "    function subscribe(){\n",
       "        if(!window.Reveal){\n",
       "            return setTimeout(subscribe, 1000);\n",
       "        }\n",
       "        Reveal.addEventListener('ready', init);\n",
       "        init();\n",
       "    }\n",
       "    subscribe();\n",
       "}).call(this);"
      ],
      "text/plain": [
       "<IPython.core.display.Javascript object>"
      ]
     },
     "metadata": {},
     "output_type": "display_data"
    }
   ],
   "source": [
    "    %load_ext literacy.template\n",
    "    from renci.style import *"
   ]
  },
  {
   "cell_type": "code",
   "execution_count": 1,
   "metadata": {
    "slideshow": {
     "slide_type": "-"
    }
   },
   "outputs": [
    {
     "data": {
      "text/markdown": [
       "## _Culture_ & [Design]()"
      ],
      "text/plain": [
       "<IPython.core.display.Markdown object>"
      ]
     },
     "metadata": {},
     "output_type": "display_data"
    }
   ],
   "source": [
    "## _Culture_ & [Design]()"
   ]
  },
  {
   "cell_type": "code",
   "execution_count": 1,
   "metadata": {},
   "outputs": [
    {
     "data": {
      "text/markdown": [
       "> [Pigment has a long history.](http://www.webexhibits.org/pigments/intro/history.html#timeline)"
      ],
      "text/plain": [
       "<IPython.core.display.Markdown object>"
      ]
     },
     "metadata": {},
     "output_type": "display_data"
    },
    {
     "data": {
      "text/html": [
       "\n",
       "        <iframe\n",
       "            width=\"600\"\n",
       "            height=\"400\"\n",
       "            src=\"http://www.webexhibits.org/pigments/intro/history.html#timeline\"\n",
       "            frameborder=\"0\"\n",
       "            allowfullscreen\n",
       "        ></iframe>\n",
       "        "
      ],
      "text/plain": [
       "<IPython.lib.display.IFrame at 0x103d70eb8>"
      ]
     },
     "metadata": {},
     "output_type": "display_data"
    }
   ],
   "source": [
    "> [Pigment has a long history.](http://www.webexhibits.org/pigments/intro/history.html#timeline)"
   ]
  },
  {
   "cell_type": "code",
   "execution_count": 1,
   "metadata": {
    "slideshow": {
     "slide_type": "subslide"
    }
   },
   "outputs": [
    {
     "data": {
      "text/markdown": [
       "> ### [Brand Identities like Facebook and CocaCola are the new colors.](https://brandcolors.net/c/google,home-depot,coca-cola,t-mobile,facebook,mailchimp)"
      ],
      "text/plain": [
       "<IPython.core.display.Markdown object>"
      ]
     },
     "metadata": {},
     "output_type": "display_data"
    },
    {
     "data": {
      "text/html": [
       "\n",
       "        <iframe\n",
       "            width=\"600\"\n",
       "            height=\"400\"\n",
       "            src=\"https://brandcolors.net/c/google,home-depot,coca-cola,t-mobile,facebook,mailchimp\"\n",
       "            frameborder=\"0\"\n",
       "            allowfullscreen\n",
       "        ></iframe>\n",
       "        "
      ],
      "text/plain": [
       "<IPython.lib.display.IFrame at 0x104c4b908>"
      ]
     },
     "metadata": {},
     "output_type": "display_data"
    }
   ],
   "source": [
    "> ### [Brand Identities like Facebook and CocaCola are the new colors.](https://brandcolors.net/c/google,home-depot,coca-cola,t-mobile,facebook,mailchimp)"
   ]
  },
  {
   "cell_type": "code",
   "execution_count": 2,
   "metadata": {
    "slideshow": {
     "slide_type": "subslide"
    }
   },
   "outputs": [
    {
     "data": {
      "text/markdown": [
       "# Color Picker <input type=\"color\" name=\"favcolor\" value=\"#ff0000\">\n",
       "\n",
       "    __import__(\"ipywidgets\").ColorPicker()"
      ],
      "text/plain": [
       "<IPython.core.display.Markdown object>"
      ]
     },
     "metadata": {},
     "output_type": "display_data"
    },
    {
     "data": {
      "application/vnd.jupyter.widget-view+json": {
       "model_id": "ac9e004012534d3f80ae4b3f7ad8a570",
       "version_major": 2,
       "version_minor": 0
      },
      "text/plain": [
       "A Jupyter Widget"
      ]
     },
     "metadata": {},
     "output_type": "display_data"
    }
   ],
   "source": [
    "# Color Picker <input type=\"color\" name=\"favcolor\" value=\"#ff0000\">\n",
    "\n",
    "    __import__(\"ipywidgets\").ColorPicker()"
   ]
  },
  {
   "cell_type": "code",
   "execution_count": 2,
   "metadata": {
    "slideshow": {
     "slide_type": "fragment"
    }
   },
   "outputs": [
    {
     "data": {
      "text/markdown": [
       "> Now when I see people with Jupyter on their laptops I ask what they are doing."
      ],
      "text/plain": [
       "<IPython.core.display.Markdown object>"
      ]
     },
     "metadata": {},
     "output_type": "display_data"
    }
   ],
   "source": [
    "> Now when I see people with Jupyter on their laptops I ask what they are doing."
   ]
  },
  {
   "cell_type": "code",
   "execution_count": 2,
   "metadata": {
    "slideshow": {
     "slide_type": "slide"
    }
   },
   "outputs": [
    {
     "data": {
      "text/markdown": [
       "## _Culture_ & [Systems]() "
      ],
      "text/plain": [
       "<IPython.core.display.Markdown object>"
      ]
     },
     "metadata": {},
     "output_type": "display_data"
    }
   ],
   "source": [
    "## _Culture_ & [Systems]() "
   ]
  },
  {
   "cell_type": "code",
   "execution_count": 2,
   "metadata": {
    "slideshow": {
     "slide_type": "-"
    }
   },
   "outputs": [
    {
     "data": {
      "text/html": [
       "\n",
       "        <iframe\n",
       "            width=\"600\"\n",
       "            height=\"400\"\n",
       "            src=\"https://en.wikipedia.org/wiki/The_Mother_of_All_Demos\"\n",
       "            frameborder=\"0\"\n",
       "            allowfullscreen\n",
       "        ></iframe>\n",
       "        "
      ],
      "text/plain": [
       "<IPython.lib.display.IFrame at 0x103df65c0>"
      ]
     },
     "metadata": {},
     "output_type": "display_data"
    }
   ],
   "source": [
    "https://en.wikipedia.org/wiki/The_Mother_of_All_Demos"
   ]
  },
  {
   "cell_type": "markdown",
   "metadata": {
    "slideshow": {
     "slide_type": "fragment"
    }
   },
   "source": [
    "> So in my office I have a console like this, and there are 12 others that are computer supplies.  \n",
    "And we try now-a-days to do our daily work on here.  __So this characterizes the way I could sit here and look at a clear blank piece of paper, \n",
    "that's the way I start many projects.__  So with my system, I start and say \"I'd like to load that in.\"  So, sorry about \n",
    "that.  So I'm putting in an entity called a \"statement.\"  And this is full of other entities called \"words.\"  **If I make \n",
    "some mistakes I can back up a little bit.**  So I have a statement with some entities, words, and I can do some operations \n",
    "on these and copy a word, and that word might copy after itself.  In fact, a pair word I like to copy after itself.  And I \n",
    "can just do this a few times, and get a bit of material there.  And there are other materials, like \"text.\"  I can copy from that \n",
    "oint to that point.  __It's copy.__  So I can __get myself some material on my blank piece of paper__ and say, \"Well, this is going to be \n",
    "more important than it looks, so I'd like to set up a file.\"  So I tell the machine, \"Output to a file.\"  And it says, \"Well, \n",
    "I need a name.\"  I'll give it a name.  I'll say it's \"sample file.\"  And I'll say \"Please output it\", and it did! \n",
    "[A 7 year old github repo](https://github.com/atduskgreg/MoAD-Transcript/blob/master/20101020_moad_transcription_draft.txt#L7)"
   ]
  },
  {
   "cell_type": "code",
   "execution_count": 2,
   "metadata": {
    "slideshow": {
     "slide_type": "subslide"
    }
   },
   "outputs": [
    {
     "data": {
      "text/html": [
       "\n",
       "        <iframe\n",
       "            width=\"600\"\n",
       "            height=\"400\"\n",
       "            src=\"https://en.wikipedia.org/wiki/Read%E2%80%93eval%E2%80%93print_loop    \"\n",
       "            frameborder=\"0\"\n",
       "            allowfullscreen\n",
       "        ></iframe>\n",
       "        "
      ],
      "text/plain": [
       "<IPython.lib.display.IFrame at 0x104d41438>"
      ]
     },
     "metadata": {},
     "output_type": "display_data"
    }
   ],
   "source": [
    "https://en.wikipedia.org/wiki/Read%E2%80%93eval%E2%80%93print_loop    "
   ]
  },
  {
   "cell_type": "code",
   "execution_count": 2,
   "metadata": {
    "slideshow": {
     "slide_type": "subslide"
    }
   },
   "outputs": [
    {
     "data": {
      "text/html": [
       "\n",
       "        <iframe\n",
       "            width=\"600\"\n",
       "            height=\"400\"\n",
       "            src=\"https://en.wikipedia.org/wiki/SageMath\"\n",
       "            frameborder=\"0\"\n",
       "            allowfullscreen\n",
       "        ></iframe>\n",
       "        "
      ],
      "text/plain": [
       "<IPython.lib.display.IFrame at 0x103d70f28>"
      ]
     },
     "metadata": {},
     "output_type": "display_data"
    }
   ],
   "source": [
    "https://en.wikipedia.org/wiki/SageMath"
   ]
  },
  {
   "cell_type": "code",
   "execution_count": 2,
   "metadata": {
    "slideshow": {
     "slide_type": "skip"
    }
   },
   "outputs": [
    {
     "data": {
      "text/markdown": [
       "## _Culture_ & [Systems]()\n",
       "\n",
       "> * Linus designed the system: linux, git, etc. \n",
       "    \n",
       "- $1$ Language, $1$ Computer: **IPython**\n",
       "- $1$ Language, $C$ Computers: **ipyparallel --> dask**\n",
       "- $1$ Language, $I$ User Interfaces: **ipython-notebook**\n",
       "- $K$ Languages, $I$ User Interfaces, $C$ Computers: **jupyter**\n",
       "- $K$ Languages, $I$ User Interfaces, $C$ Computers, $U$ Simultaneous Users: **jupyterhub**\n",
       "- $K$ Languages, $I$ User Interfaces, $C$ Computers, $U$ Simultaneous Users, $2$ Synchronized Users: **oriole**\n",
       "- $K$ Languages, $I$ User Interfaces, $C$ Computers, $U$ Simultaneous Users, GitHub: [**binderhub**](https://beta.mybinder.org) \n",
       "- $K$ Languages, $I$ User Interfaces, $C$ Computers, $U$ Simultaneous Users, $S$ Synchronized Users: **jupyterlab-google-drive** "
      ],
      "text/plain": [
       "<IPython.core.display.Markdown object>"
      ]
     },
     "metadata": {},
     "output_type": "display_data"
    }
   ],
   "source": [
    "## _Culture_ & [Systems]()\n",
    "\n",
    "> * Linus designed the system: linux, git, etc. \n",
    "    \n",
    "- $1$ Language, $1$ Computer: **IPython**\n",
    "- $1$ Language, $C$ Computers: **ipyparallel --> dask**\n",
    "- $1$ Language, $I$ User Interfaces: **ipython-notebook**\n",
    "- $K$ Languages, $I$ User Interfaces, $C$ Computers: **jupyter**\n",
    "- $K$ Languages, $I$ User Interfaces, $C$ Computers, $U$ Simultaneous Users: **jupyterhub**\n",
    "- $K$ Languages, $I$ User Interfaces, $C$ Computers, $U$ Simultaneous Users, $2$ Synchronized Users: **oriole**\n",
    "- $K$ Languages, $I$ User Interfaces, $C$ Computers, $U$ Simultaneous Users, GitHub: [**binderhub**](https://beta.mybinder.org) \n",
    "- $K$ Languages, $I$ User Interfaces, $C$ Computers, $U$ Simultaneous Users, $S$ Synchronized Users: **jupyterlab-google-drive** "
   ]
  },
  {
   "cell_type": "code",
   "execution_count": 2,
   "metadata": {
    "slideshow": {
     "slide_type": "subslide"
    }
   },
   "outputs": [
    {
     "data": {
      "text/markdown": [
       "#     webrtc = __import__('particles.webrtc')"
      ],
      "text/plain": [
       "<IPython.core.display.Markdown object>"
      ]
     },
     "metadata": {},
     "output_type": "display_data"
    }
   ],
   "source": [
    "#     webrtc = __import__('particles.webrtc')"
   ]
  },
  {
   "cell_type": "code",
   "execution_count": 2,
   "metadata": {
    "slideshow": {
     "slide_type": "slide"
    }
   },
   "outputs": [
    {
     "data": {
      "text/markdown": [
       "## _Culture_ & [Materials]()\n",
       "\n",
       "![](https://images.gr-assets.com/authors/1340706964p4/3004479.jpg)\n",
       "\n",
       "> ### The best things in life are free. The second best things are very, very expensive."
      ],
      "text/plain": [
       "<IPython.core.display.Markdown object>"
      ]
     },
     "metadata": {},
     "output_type": "display_data"
    }
   ],
   "source": [
    "## _Culture_ & [Materials]()\n",
    "\n",
    "![](https://images.gr-assets.com/authors/1340706964p4/3004479.jpg)\n",
    "\n",
    "> ### The best things in life are free. The second best things are very, very expensive."
   ]
  },
  {
   "cell_type": "code",
   "execution_count": 2,
   "metadata": {
    "slideshow": {
     "slide_type": "fragment"
    }
   },
   "outputs": [
    {
     "data": {
      "text/markdown": [
       "- Github\n",
       "- Binder"
      ],
      "text/plain": [
       "<IPython.core.display.Markdown object>"
      ]
     },
     "metadata": {},
     "output_type": "display_data"
    }
   ],
   "source": [
    "- Github\n",
    "- Binder"
   ]
  },
  {
   "cell_type": "code",
   "execution_count": 2,
   "metadata": {
    "slideshow": {
     "slide_type": "slide"
    }
   },
   "outputs": [
    {
     "data": {
      "text/markdown": [
       "## _Culture_ & [Community]()\n",
       "\n",
       "### [Contributors](https://github.com/jupyter/notebook/graphs/contributors)\n",
       "\n",
       "### [Code of Conduct](https://github.com/jupyter/governance/blob/master/conduct/code_of_conduct.md)\n",
       "\n",
       "### [Internationalization](https://github.com/jupyter/notebook/pull/2140 \"JEP\")\n",
       " \n",
       "### [https://github.com/JuliaLang/julia/issues/4774](juliacon talk on an issue) \n",
       " "
      ],
      "text/plain": [
       "<IPython.core.display.Markdown object>"
      ]
     },
     "metadata": {},
     "output_type": "display_data"
    }
   ],
   "source": [
    "## _Culture_ & [Community]()\n",
    "\n",
    "### [Contributors](https://github.com/jupyter/notebook/graphs/contributors)\n",
    "\n",
    "### [Code of Conduct](https://github.com/jupyter/governance/blob/master/conduct/code_of_conduct.md)\n",
    "\n",
    "### [Internationalization](https://github.com/jupyter/notebook/pull/2140 \"JEP\")\n",
    " \n",
    "### [https://github.com/JuliaLang/julia/issues/4774](juliacon talk on an issue) \n",
    " "
   ]
  },
  {
   "cell_type": "code",
   "execution_count": 2,
   "metadata": {
    "slideshow": {
     "slide_type": "slide"
    }
   },
   "outputs": [
    {
     "data": {
      "text/markdown": [
       "## _Culture_ & [Media]()"
      ],
      "text/plain": [
       "<IPython.core.display.Markdown object>"
      ]
     },
     "metadata": {},
     "output_type": "display_data"
    }
   ],
   "source": [
    "## _Culture_ & [Media]()"
   ]
  },
  {
   "cell_type": "code",
   "execution_count": 3,
   "metadata": {},
   "outputs": [
    {
     "data": {
      "text/html": [
       "\n",
       "        <iframe\n",
       "            width=\"600\"\n",
       "            height=\"400\"\n",
       "            src=\"https://www.meetup.com/pro/pydata\"\n",
       "            frameborder=\"0\"\n",
       "            allowfullscreen\n",
       "        ></iframe>\n",
       "        "
      ],
      "text/plain": [
       "<IPython.lib.display.IFrame at 0x103df6550>"
      ]
     },
     "metadata": {},
     "output_type": "display_data"
    }
   ],
   "source": [
    "https://www.meetup.com/pro/pydata"
   ]
  },
  {
   "cell_type": "code",
   "execution_count": 2,
   "metadata": {
    "slideshow": {
     "slide_type": "subslide"
    }
   },
   "outputs": [
    {
     "data": {
      "text/markdown": [
       "Jupyter days: Atlanta, Boston, Chicago, Hawaii, Philadelphia, Mountain View    "
      ],
      "text/plain": [
       "<IPython.core.display.Markdown object>"
      ]
     },
     "metadata": {},
     "output_type": "display_data"
    }
   ],
   "source": [
    "Jupyter days: Atlanta, Boston, Chicago, Hawaii, Philadelphia, Mountain View    "
   ]
  },
  {
   "cell_type": "code",
   "execution_count": 2,
   "metadata": {
    "slideshow": {
     "slide_type": "subslide"
    }
   },
   "outputs": [
    {
     "data": {
      "text/markdown": [
       "Jupytercon"
      ],
      "text/plain": [
       "<IPython.core.display.Markdown object>"
      ]
     },
     "metadata": {},
     "output_type": "display_data"
    }
   ],
   "source": [
    "Jupytercon"
   ]
  },
  {
   "cell_type": "code",
   "execution_count": 2,
   "metadata": {
    "slideshow": {
     "slide_type": "subslide"
    }
   },
   "outputs": [
    {
     "data": {
      "text/markdown": [
       "[nbviewer](https://nbviewer.org)"
      ],
      "text/plain": [
       "<IPython.core.display.Markdown object>"
      ]
     },
     "metadata": {},
     "output_type": "display_data"
    },
    {
     "data": {
      "text/html": [
       "\n",
       "        <iframe\n",
       "            width=\"600\"\n",
       "            height=\"400\"\n",
       "            src=\"https://nbviewer.org\"\n",
       "            frameborder=\"0\"\n",
       "            allowfullscreen\n",
       "        ></iframe>\n",
       "        "
      ],
      "text/plain": [
       "<IPython.lib.display.IFrame at 0x104d50f28>"
      ]
     },
     "metadata": {},
     "output_type": "display_data"
    }
   ],
   "source": [
    "[nbviewer](https://nbviewer.org)"
   ]
  },
  {
   "cell_type": "code",
   "execution_count": 3,
   "metadata": {
    "slideshow": {
     "slide_type": "subslide"
    }
   },
   "outputs": [
    {
     "data": {
      "text/markdown": [
       "`Import('.Number of Notebooks').view`"
      ],
      "text/plain": [
       "<IPython.core.display.Markdown object>"
      ]
     },
     "metadata": {},
     "output_type": "display_data"
    },
    {
     "data": {
      "text/html": [
       "\n",
       "        <iframe\n",
       "            width=\"600\"\n",
       "            height=\"400\"\n",
       "            src=\"http://nbviewer.jupyter.org/gist/parente/facb555dfbae28e817e0/ipynb_count.ipynb#Count-Prediction\"\n",
       "            frameborder=\"0\"\n",
       "            allowfullscreen\n",
       "        ></iframe>\n",
       "        "
      ],
      "text/plain": [
       "<IPython.lib.display.IFrame at 0x102870160>"
      ]
     },
     "execution_count": 3,
     "metadata": {},
     "output_type": "execute_result"
    }
   ],
   "source": [
    "`Import('.Number of Notebooks').view`"
   ]
  },
  {
   "cell_type": "code",
   "execution_count": 3,
   "metadata": {
    "slideshow": {
     "slide_type": "slide"
    }
   },
   "outputs": [
    {
     "data": {
      "text/markdown": [
       "## _Culture_ & [Culture]()\n",
       "\n",
       "- Open Source Software and Citizen Science is a life~~style~~."
      ],
      "text/plain": [
       "<IPython.core.display.Markdown object>"
      ]
     },
     "metadata": {},
     "output_type": "display_data"
    }
   ],
   "source": [
    "## _Culture_ & [Culture]()\n",
    "\n",
    "- Open Source Software and Citizen Science is a life~~style~~."
   ]
  },
  {
   "cell_type": "code",
   "execution_count": 3,
   "metadata": {
    "slideshow": {
     "slide_type": "subslide"
    }
   },
   "outputs": [
    {
     "data": {
      "text/html": [
       "\n",
       "        <iframe\n",
       "            width=\"600\"\n",
       "            height=\"400\"\n",
       "            src=\"https://en.m.wikipedia.org/wiki/24-hour_news_cycle\"\n",
       "            frameborder=\"0\"\n",
       "            allowfullscreen\n",
       "        ></iframe>\n",
       "        "
      ],
      "text/plain": [
       "<IPython.lib.display.IFrame at 0x104d41da0>"
      ]
     },
     "metadata": {},
     "output_type": "display_data"
    }
   ],
   "source": [
    "https://en.m.wikipedia.org/wiki/24-hour_news_cycle"
   ]
  }
 ],
 "metadata": {
  "celltoolbar": "Slideshow",
  "kernelspec": {
   "display_name": "Python 3",
   "language": "python",
   "name": "python3"
  },
  "language_info": {
   "codemirror_mode": {
    "name": "ipython",
    "version": 3
   },
   "file_extension": ".py",
   "mimetype": "text/x-python",
   "name": "python",
   "nbconvert_exporter": "python",
   "pygments_lexer": "ipython3",
   "version": "3.5.3"
  },
  "widgets": {
   "application/vnd.jupyter.widget-state+json": {
    "state": {
     "5a93f5c02ea94e21a596a2926cf92533": {
      "model_module": "@jupyter-widgets/controls",
      "model_module_version": "1.0.0",
      "model_name": "ButtonStyleModel",
      "state": {}
     },
     "65f7573066d8497c812a700749698fa9": {
      "model_module": "@jupyter-widgets/controls",
      "model_module_version": "1.0.0",
      "model_name": "ButtonModel",
      "state": {
       "description": "stop",
       "layout": "IPY_MODEL_73407ef7e2ff4a4eb1e326fbedee5ecb",
       "style": "IPY_MODEL_5a93f5c02ea94e21a596a2926cf92533"
      }
     },
     "73407ef7e2ff4a4eb1e326fbedee5ecb": {
      "model_module": "@jupyter-widgets/base",
      "model_module_version": "1.0.0",
      "model_name": "LayoutModel",
      "state": {}
     },
     "743fb67ac64a44788f1173450b5309a8": {
      "model_module": "@jupyter-widgets/base",
      "model_module_version": "1.0.0",
      "model_name": "LayoutModel",
      "state": {}
     },
     "93672e0c2e6f47c3809df479ab0b613d": {
      "model_module": "jupyter-webrtc",
      "model_module_version": "~0.3.0",
      "model_name": "CameraStreamModel",
      "state": {
       "audio": false,
       "layout": "IPY_MODEL_c570050108f24a5eaf045ff3ce236883"
      }
     },
     "c570050108f24a5eaf045ff3ce236883": {
      "model_module": "@jupyter-widgets/base",
      "model_module_version": "1.0.0",
      "model_name": "LayoutModel",
      "state": {}
     },
     "e615456e6ccb4259b3a9873550e83472": {
      "model_module": "@jupyter-widgets/controls",
      "model_module_version": "1.0.0",
      "model_name": "HBoxModel",
      "state": {
       "children": [
        "IPY_MODEL_93672e0c2e6f47c3809df479ab0b613d",
        "IPY_MODEL_65f7573066d8497c812a700749698fa9"
       ],
       "layout": "IPY_MODEL_743fb67ac64a44788f1173450b5309a8"
      }
     }
    },
    "version_major": 2,
    "version_minor": 0
   }
  }
 },
 "nbformat": 4,
 "nbformat_minor": 2
}
